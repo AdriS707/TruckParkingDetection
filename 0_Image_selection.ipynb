{
 "cells": [
  {
   "cell_type": "markdown",
   "id": "1f9267b8-5a3c-4197-bc09-fcb83af12620",
   "metadata": {},
   "source": [
    "# Image selection - Felix"
   ]
  },
  {
   "cell_type": "markdown",
   "id": "3e9ee93f-0740-4963-a12e-7049f5779f1b",
   "metadata": {},
   "source": [
    "## Before running the notebook:\n",
    "Download the **last** 5 json files from:\n",
    "https://www.dropbox.com/sh/08ccnkpr5wdihdg/AAAz_s0IeX99co_34sARF70ma/OSM%20dataset%20JSON?dl=0&preview=osm_parking_polygons_09.json.gzip&subfolder_nav_tracking=1\n",
    "\n",
    "And put them in a subfolder \"ndata\""
   ]
  },
  {
   "cell_type": "code",
   "execution_count": null,
   "id": "4bdad648-5c67-4cf7-86f5-307d332e6fe3",
   "metadata": {},
   "outputs": [],
   "source": []
  },
  {
   "cell_type": "markdown",
   "id": "8ef61b3b-7de2-4766-a07a-29c1a8eb3f62",
   "metadata": {},
   "source": [
    "## 1) Load packages and data"
   ]
  },
  {
   "cell_type": "code",
   "execution_count": 2,
   "id": "9d1972a3-0df2-4268-b347-24e09304e821",
   "metadata": {},
   "outputs": [],
   "source": [
    "import os, io, json\n",
    "import pandas as pd\n",
    "import geopandas as gpd\n",
    "from ast import literal_eval\n",
    "from shapely.geometry import shape, mapping as shapely_mapping\n",
    "from shapely import wkt\n",
    "import folium\n",
    "from PIL import Image, ImageDraw\n",
    "from __future__ import print_function\n",
    "from ipywidgets import interact,interact_manual,HBox,Output,Tab\n",
    "import time\n",
    "\n",
    "import cv2\n",
    "import random\n",
    "import re\n",
    "import sys\n",
    "import multiprocessing.dummy as mp \n",
    "import numpy as np"
   ]
  },
  {
   "cell_type": "code",
   "execution_count": 26,
   "id": "0565160d-8dd3-4b87-ae05-a4a728e6e3cc",
   "metadata": {},
   "outputs": [],
   "source": [
    "# Functions needed: \n",
    "def parking_name(row_or_pt):\n",
    "    \"\"\"\n",
    "    create an id from a (lat,lon) point or an object containing the pt property\n",
    "    \"\"\"\n",
    "    # no \"pt\" item => assume it is a tuple\n",
    "    try:\n",
    "        pt = row_or_pt\n",
    "        a = round(pt[0], 7)\n",
    "        b = round(pt[1], 7)\n",
    "    except:\n",
    "        return np.nan\n",
    "    \n",
    "    return f\"{a}_{b}_ts2\" ## FLAG\n",
    "\n",
    "\n",
    "def find_tags(df2):\n",
    "    ls = []\n",
    "    for j in range(0, len(df2)):\n",
    "        index = True\n",
    "        for i in df2.iloc[j,:].all_tags:\n",
    "            if i[\"key\"] == \"surface\" and i[\"value\"] == \"asphalt\":\n",
    "            #if i[\"key\"] == \"name\" and i[\"value\"].lower().__contains__(\"truck\"):   # or i[\"value\"].lower().__contains__(\"lkw\")):   # FLAG\n",
    "                ls.append(True)\n",
    "                index = False\n",
    "        \n",
    "        if index:\n",
    "            ls.append(False)\n",
    "        \n",
    "    return ls\n",
    "\n",
    "\n",
    "def get_point(geom):\n",
    "    try:\n",
    "        pt = re.split(r\",\", geom[9:])[0]\n",
    "        pt = tuple(map(float, pt.split(' ')))\n",
    "        pt_s = (pt[1], pt[0])\n",
    "    except:\n",
    "        return np.nan\n",
    "    \n",
    "    return pt_s"
   ]
  },
  {
   "cell_type": "code",
   "execution_count": 3,
   "id": "1eae1d07-2375-4714-8f37-226417d8b2a5",
   "metadata": {},
   "outputs": [
    {
     "name": "stdout",
     "output_type": "stream",
     "text": [
      "Started at: Mon May 16 16:44:21 2022\n",
      "File nr. 7 successfully loaded\n",
      "File nr. 8 successfully loaded\n",
      "Computation time (Min.): 1.2988752762476603\n"
     ]
    }
   ],
   "source": [
    "# Pre-processing\n",
    "# THIS TAKES A FEW MINUTES\n",
    "\n",
    "start_time = time.localtime()\n",
    "start_t = time.time()\n",
    "print(\"Started at:\", time.asctime(start_time))\n",
    "\n",
    "#file_nr = [5,6,7,8,9]\n",
    "file_nr = [7,8]\n",
    "first = True\n",
    "\n",
    "for i in file_nr:\n",
    "    df = pd.read_json(f\"ndata/osm_parking_polygons_0{i}.json\", lines=True)\n",
    "    df = df[find_tags(df)]\n",
    "    df[\"pt\"] = df[\"geometry\"].transform(lambda x: get_point(x))\n",
    "    df[\"id\"] = [parking_name(x) for x in df[\"pt\"]]\n",
    "    df['geometry'] = df['geometry'].apply(wkt.loads)\n",
    "    df = df[[\"id\", \"pt\", \"geometry\", \"all_tags\"]]\n",
    "    df = df.dropna()\n",
    "    \n",
    "    if first:\n",
    "        temp = df\n",
    "        first = False\n",
    "    else: \n",
    "        temp = pd.concat([temp, df])\n",
    "    \n",
    "    print(f\"File nr. {i} successfully loaded\")\n",
    "        \n",
    "real_polys = gpd.GeoDataFrame(temp, geometry=\"geometry\")\n",
    "\n",
    "end_t = time.time()\n",
    "print(\"Computation time (Min.):\", (end_t-start_t)/60)"
   ]
  },
  {
   "cell_type": "code",
   "execution_count": 27,
   "id": "6c2be7ac-1b3e-40af-8e38-a552166b48c3",
   "metadata": {},
   "outputs": [],
   "source": [
    "\"\"\"\n",
    "df = pd.read_csv(\"ndata/osm_data_cars.csv\", index_col=0)\n",
    "df[\"pt\"] = df[\"geometry\"].transform(lambda x: get_point(x))\n",
    "df[\"id\"] = [parking_name(x) for x in df[\"pt\"]]\n",
    "df['geometry'] = df['geometry'].apply(wkt.loads)\n",
    "real_polys = gpd.GeoDataFrame(df, geometry=\"geometry\")\n",
    "\"\"\""
   ]
  },
  {
   "cell_type": "code",
   "execution_count": 28,
   "id": "fd4c3eed-d66e-49f3-a9a5-c21e7f4bd9be",
   "metadata": {},
   "outputs": [],
   "source": [
    "real_polys = real_polys.reset_index()"
   ]
  },
  {
   "cell_type": "code",
   "execution_count": 6,
   "id": "c12c1cb8-4888-4e26-8857-6e3664e85c7c",
   "metadata": {},
   "outputs": [],
   "source": [
    "# Backup\n",
    "#real_polys_backup = real_polys.copy()"
   ]
  },
  {
   "cell_type": "code",
   "execution_count": 29,
   "id": "b0d49123-060c-40fa-8eff-a49eabc0627d",
   "metadata": {},
   "outputs": [
    {
     "data": {
      "text/html": [
       "<div>\n",
       "<style scoped>\n",
       "    .dataframe tbody tr th:only-of-type {\n",
       "        vertical-align: middle;\n",
       "    }\n",
       "\n",
       "    .dataframe tbody tr th {\n",
       "        vertical-align: top;\n",
       "    }\n",
       "\n",
       "    .dataframe thead th {\n",
       "        text-align: right;\n",
       "    }\n",
       "</style>\n",
       "<table border=\"1\" class=\"dataframe\">\n",
       "  <thead>\n",
       "    <tr style=\"text-align: right;\">\n",
       "      <th></th>\n",
       "      <th>index</th>\n",
       "      <th>id_new</th>\n",
       "      <th>id</th>\n",
       "      <th>pt</th>\n",
       "      <th>geometry</th>\n",
       "      <th>all_tags</th>\n",
       "    </tr>\n",
       "  </thead>\n",
       "  <tbody>\n",
       "    <tr>\n",
       "      <th>0</th>\n",
       "      <td>0</td>\n",
       "      <td>47.006201_6.9670316_ts2</td>\n",
       "      <td>47.006201_6.9670316_ts2</td>\n",
       "      <td>(47.006201, 6.9670316)</td>\n",
       "      <td>POLYGON ((6.96703 47.00620, 6.96687 47.00635, ...</td>\n",
       "      <td>[{'key': 'access', 'value': 'private'}, {'key'...</td>\n",
       "    </tr>\n",
       "    <tr>\n",
       "      <th>1</th>\n",
       "      <td>1</td>\n",
       "      <td>59.1875955_17.6167656_ts2</td>\n",
       "      <td>59.1875955_17.6167656_ts2</td>\n",
       "      <td>(59.1875955, 17.6167656)</td>\n",
       "      <td>POLYGON ((17.61677 59.18760, 17.61681 59.18755...</td>\n",
       "      <td>[{'key': 'access', 'value': 'restricted'}, {'k...</td>\n",
       "    </tr>\n",
       "    <tr>\n",
       "      <th>2</th>\n",
       "      <td>2</td>\n",
       "      <td>51.9754365_8.5019413_ts2</td>\n",
       "      <td>51.9754365_8.5019413_ts2</td>\n",
       "      <td>(51.9754365, 8.5019413)</td>\n",
       "      <td>POLYGON ((8.50194 51.97544, 8.50216 51.97518, ...</td>\n",
       "      <td>[{'key': 'access', 'value': 'private'}, {'key'...</td>\n",
       "    </tr>\n",
       "    <tr>\n",
       "      <th>3</th>\n",
       "      <td>3</td>\n",
       "      <td>39.8643349_-4.0193694_ts2</td>\n",
       "      <td>39.8643349_-4.0193694_ts2</td>\n",
       "      <td>(39.8643349, -4.0193694)</td>\n",
       "      <td>POLYGON ((-4.01937 39.86433, -4.01786 39.86549...</td>\n",
       "      <td>[{'key': 'amenity', 'value': 'parking'}, {'key...</td>\n",
       "    </tr>\n",
       "    <tr>\n",
       "      <th>4</th>\n",
       "      <td>4</td>\n",
       "      <td>43.7565471_-79.2317921_ts2</td>\n",
       "      <td>43.7565471_-79.2317921_ts2</td>\n",
       "      <td>(43.7565471, -79.2317921)</td>\n",
       "      <td>POLYGON ((-79.23179 43.75655, -79.23185 43.756...</td>\n",
       "      <td>[{'key': 'access', 'value': 'customers'}, {'ke...</td>\n",
       "    </tr>\n",
       "    <tr>\n",
       "      <th>...</th>\n",
       "      <td>...</td>\n",
       "      <td>...</td>\n",
       "      <td>...</td>\n",
       "      <td>...</td>\n",
       "      <td>...</td>\n",
       "      <td>...</td>\n",
       "    </tr>\n",
       "    <tr>\n",
       "      <th>1256</th>\n",
       "      <td>1256</td>\n",
       "      <td>5.345678_-3.949021_ts2</td>\n",
       "      <td>5.345678_-3.949021_ts2</td>\n",
       "      <td>(5.345678, -3.949021)</td>\n",
       "      <td>POLYGON ((-3.94902 5.34568, -3.94897 5.34568, ...</td>\n",
       "      <td>[{'key': 'access', 'value': 'private'}, {'key'...</td>\n",
       "    </tr>\n",
       "    <tr>\n",
       "      <th>1257</th>\n",
       "      <td>1257</td>\n",
       "      <td>45.172425_5.7538404_ts2</td>\n",
       "      <td>45.172425_5.7538404_ts2</td>\n",
       "      <td>(45.172425, 5.7538404)</td>\n",
       "      <td>POLYGON ((5.75384 45.17242, 5.75421 45.17224, ...</td>\n",
       "      <td>[{'key': 'access', 'value': 'private'}, {'key'...</td>\n",
       "    </tr>\n",
       "    <tr>\n",
       "      <th>1258</th>\n",
       "      <td>1258</td>\n",
       "      <td>44.1196918_4.8438315_ts2</td>\n",
       "      <td>44.1196918_4.8438315_ts2</td>\n",
       "      <td>(44.1196918, 4.8438315)</td>\n",
       "      <td>POLYGON ((4.84383 44.11969, 4.84390 44.11967, ...</td>\n",
       "      <td>[{'key': 'amenity', 'value': 'parking'}]</td>\n",
       "    </tr>\n",
       "    <tr>\n",
       "      <th>1259</th>\n",
       "      <td>1259</td>\n",
       "      <td>53.6895026_-1.3077646_ts2</td>\n",
       "      <td>53.6895026_-1.3077646_ts2</td>\n",
       "      <td>(53.6895026, -1.3077646)</td>\n",
       "      <td>POLYGON ((-1.30776 53.68950, -1.30737 53.68929...</td>\n",
       "      <td>[{'key': 'access', 'value': 'yes'}, {'key': 'a...</td>\n",
       "    </tr>\n",
       "    <tr>\n",
       "      <th>1260</th>\n",
       "      <td>1260</td>\n",
       "      <td>50.7482532_-1.8594093_ts2</td>\n",
       "      <td>50.7482532_-1.8594093_ts2</td>\n",
       "      <td>(50.7482532, -1.8594093)</td>\n",
       "      <td>POLYGON ((-1.85941 50.74825, -1.85940 50.74821...</td>\n",
       "      <td>[{'key': 'access', 'value': 'private'}, {'key'...</td>\n",
       "    </tr>\n",
       "  </tbody>\n",
       "</table>\n",
       "<p>1261 rows × 6 columns</p>\n",
       "</div>"
      ],
      "text/plain": [
       "      index                      id_new                          id  \\\n",
       "0         0     47.006201_6.9670316_ts2     47.006201_6.9670316_ts2   \n",
       "1         1   59.1875955_17.6167656_ts2   59.1875955_17.6167656_ts2   \n",
       "2         2    51.9754365_8.5019413_ts2    51.9754365_8.5019413_ts2   \n",
       "3         3   39.8643349_-4.0193694_ts2   39.8643349_-4.0193694_ts2   \n",
       "4         4  43.7565471_-79.2317921_ts2  43.7565471_-79.2317921_ts2   \n",
       "...     ...                         ...                         ...   \n",
       "1256   1256      5.345678_-3.949021_ts2      5.345678_-3.949021_ts2   \n",
       "1257   1257     45.172425_5.7538404_ts2     45.172425_5.7538404_ts2   \n",
       "1258   1258    44.1196918_4.8438315_ts2    44.1196918_4.8438315_ts2   \n",
       "1259   1259   53.6895026_-1.3077646_ts2   53.6895026_-1.3077646_ts2   \n",
       "1260   1260   50.7482532_-1.8594093_ts2   50.7482532_-1.8594093_ts2   \n",
       "\n",
       "                             pt  \\\n",
       "0        (47.006201, 6.9670316)   \n",
       "1      (59.1875955, 17.6167656)   \n",
       "2       (51.9754365, 8.5019413)   \n",
       "3      (39.8643349, -4.0193694)   \n",
       "4     (43.7565471, -79.2317921)   \n",
       "...                         ...   \n",
       "1256      (5.345678, -3.949021)   \n",
       "1257     (45.172425, 5.7538404)   \n",
       "1258    (44.1196918, 4.8438315)   \n",
       "1259   (53.6895026, -1.3077646)   \n",
       "1260   (50.7482532, -1.8594093)   \n",
       "\n",
       "                                               geometry  \\\n",
       "0     POLYGON ((6.96703 47.00620, 6.96687 47.00635, ...   \n",
       "1     POLYGON ((17.61677 59.18760, 17.61681 59.18755...   \n",
       "2     POLYGON ((8.50194 51.97544, 8.50216 51.97518, ...   \n",
       "3     POLYGON ((-4.01937 39.86433, -4.01786 39.86549...   \n",
       "4     POLYGON ((-79.23179 43.75655, -79.23185 43.756...   \n",
       "...                                                 ...   \n",
       "1256  POLYGON ((-3.94902 5.34568, -3.94897 5.34568, ...   \n",
       "1257  POLYGON ((5.75384 45.17242, 5.75421 45.17224, ...   \n",
       "1258  POLYGON ((4.84383 44.11969, 4.84390 44.11967, ...   \n",
       "1259  POLYGON ((-1.30776 53.68950, -1.30737 53.68929...   \n",
       "1260  POLYGON ((-1.85941 50.74825, -1.85940 50.74821...   \n",
       "\n",
       "                                               all_tags  \n",
       "0     [{'key': 'access', 'value': 'private'}, {'key'...  \n",
       "1     [{'key': 'access', 'value': 'restricted'}, {'k...  \n",
       "2     [{'key': 'access', 'value': 'private'}, {'key'...  \n",
       "3     [{'key': 'amenity', 'value': 'parking'}, {'key...  \n",
       "4     [{'key': 'access', 'value': 'customers'}, {'ke...  \n",
       "...                                                 ...  \n",
       "1256  [{'key': 'access', 'value': 'private'}, {'key'...  \n",
       "1257  [{'key': 'access', 'value': 'private'}, {'key'...  \n",
       "1258           [{'key': 'amenity', 'value': 'parking'}]  \n",
       "1259  [{'key': 'access', 'value': 'yes'}, {'key': 'a...  \n",
       "1260  [{'key': 'access', 'value': 'private'}, {'key'...  \n",
       "\n",
       "[1261 rows x 6 columns]"
      ]
     },
     "execution_count": 29,
     "metadata": {},
     "output_type": "execute_result"
    }
   ],
   "source": [
    "# Final dataframe\n",
    "real_polys #= real_polys.loc[:249535,]"
   ]
  },
  {
   "cell_type": "markdown",
   "id": "146a67f0-7511-43d5-8e12-9bd4bc6e89ad",
   "metadata": {},
   "source": [
    "## 2) Load functions to get image with labels"
   ]
  },
  {
   "cell_type": "code",
   "execution_count": 24,
   "id": "28a723dd-d44f-4278-aef1-de351029eb02",
   "metadata": {},
   "outputs": [],
   "source": [
    "# Create image\n",
    "BOUNDS_RGB = (0xff,0x78, 0x00)\n",
    "\n",
    "def rgbcolor(r,g,b):\n",
    "    \"\"\"\n",
    "    turn r, g, b integers into a CSS color code \n",
    "    \"\"\"\n",
    "    return f\"#{r:02x}{g:02x}{b:02x}\"\n",
    "\n",
    "def geometry_bbox(geometry, init_bounds=None, x_offset=0., y_offset=0.):\n",
    "    \"\"\"\n",
    "    return a bounding box (southwest, northeast) of a given geometry\n",
    "    optionally add a margin\n",
    "    \"\"\"\n",
    "    bounds = init_bounds or [[1000,-1000],[-1000,1000]]\n",
    "    xs = [c[0] for c in geometry.exterior.coords]\n",
    "    \n",
    "    ys = [c[1] for c in geometry.exterior.coords]\n",
    "    \n",
    "    return [\n",
    "        #southwest\n",
    "        [min(bounds[0][0], min(ys)-y_offset), max(bounds[0][1], max(xs)+x_offset)],\n",
    "        #northeast\n",
    "        [max(bounds[1][0], max(ys)+y_offset), min(bounds[1][1], min(xs)-x_offset)]\n",
    "    ]\n",
    "\n",
    "\n",
    "def make_map(pt, geometry=None, show_geometry=False, show_bounds=False, size=320, seednr=100):\n",
    "    m = folium.Map(location=pt, min_zoom=15, width=size, height=size, zoom_control=False, attribution_control=False)\n",
    "    \n",
    "    folium.TileLayer(\n",
    "            #tiles = 'https://server.arcgisonline.com/ArcGIS/rest/services/World_Imagery/MapServer/tile/{z}/{y}/{x}',  # Original tile server\n",
    "            tiles = 'https://clarity.maptiles.arcgis.com/arcgis/rest/services/World_Imagery/MapServer/tile/{z}/{y}/{x}', # New tile server\n",
    "            attr = 'Esri',\n",
    "            name = 'Esri Satellite',\n",
    "            overlay = False,\n",
    "            control = True\n",
    "    ).add_to(m)\n",
    "    \n",
    "    # Default bounds\n",
    "    bounds = [[pt[0], pt[1]],[pt[0], pt[1]]] #southwest, northeast\n",
    "\n",
    "    # Lines of geometry and Box around them (\"Bounds\")\n",
    "    if geometry:\n",
    "        if show_geometry:\n",
    "            folium.GeoJson(data=geometry).add_to(m)\n",
    "\n",
    "        bounds = geometry_bbox(geometry, init_bounds=bounds, x_offset=0, y_offset=0)\n",
    "    \n",
    "    # Plot box around geometry\n",
    "    if show_bounds:\n",
    "        folium.Rectangle(bounds=bounds, color=rgbcolor(*BOUNDS_RGB), fill=True, fill_color=rgbcolor(*BOUNDS_RGB), fill_opacity=0).add_to(m) \n",
    "    \n",
    "    # Create random offset\n",
    "    random.seed(seednr)\n",
    "    x_offset_l = random.randint(1,9)/9200\n",
    "    random.seed(seednr+10)\n",
    "    x_offset_r = random.randint(1,9)/9200\n",
    "    random.seed(seednr+20)\n",
    "    y_offset_l = random.randint(1,9)/9200\n",
    "    random.seed(seednr+30)\n",
    "    y_offset_r = random.randint(1,9)/9200\n",
    "    \n",
    "    crop_bounds = [[bounds[0][0]-y_offset_l, bounds[0][1]+x_offset_l],[bounds[1][0]+y_offset_r, bounds[1][1]-x_offset_r]] #southwest, northeast\n",
    "    \n",
    "    # Create red random crop box\n",
    "    if show_bounds:\n",
    "        folium.Rectangle(bounds=crop_bounds, color=\"red\", fill=False, fill_color=rgbcolor(*BOUNDS_RGB), fill_opacity=0.).add_to(m) \n",
    "    \n",
    "    #m.fit_bounds(bounds, max_zoom = 18)\n",
    "    m.fit_bounds(crop_bounds) # FLAG\n",
    "    \n",
    "    return m, bounds"
   ]
  },
  {
   "cell_type": "code",
   "execution_count": null,
   "id": "770eab61-cba1-458c-9e8f-4777690d1bc8",
   "metadata": {},
   "outputs": [],
   "source": []
  },
  {
   "cell_type": "markdown",
   "id": "e19a1be3-11c3-4a49-a89c-c04f1556f874",
   "metadata": {},
   "source": [
    "## 3) Manually filter images"
   ]
  },
  {
   "cell_type": "markdown",
   "id": "dc836973-9b48-4d35-9d4f-0e635c3f8c08",
   "metadata": {},
   "source": [
    "### Instructions\n",
    "\n",
    "- Start with the selection procedure by executing the cell below.\n",
    "\n",
    "- If an image is fine, just press enter while the courser is in the input cell.\n",
    "\n",
    "- If it is faulty in any way, enter any character of your choice.\n",
    "\n",
    "- To stop the procedure, type and enter \"exit\".\n",
    "\n",
    "- If the image shown is a truck parking lot, type \"t\" (pay attention to not press t to blacklist an item!)\n",
    "\n",
    "- The counter and id of the last image checked will be printed. If you stop and want to proceed later on, change the start_nr variable below to the last number printed.\n",
    "\n",
    "- If the interactive \"pop-up\" of the map is too big (i.e. you always have to scroll down to get to the input bar), just adjust the window width (in jupyter lab, increase the width of the data browser on the left)\n",
    "\n",
    "<br>\n",
    "\n",
    "Caution:\n",
    "- Don't forget to save the blacklist and whitelist as csv!\n",
    "\n",
    "- Always change the file name after saving a new set of lists.\n",
    "\n",
    "- Always note the last counter value you checked when exiting, in order to know where to resume.\n",
    "\n",
    "- If you exit the loop, the last image shown will **not** yet be saved as ok nor faulty."
   ]
  },
  {
   "cell_type": "code",
   "execution_count": null,
   "id": "7b85a10a-9b91-430b-b38c-d234cbbb8889",
   "metadata": {},
   "outputs": [],
   "source": [
    "row = real_polys.loc[\"51.087_13.274_ts2\"]\n",
    "m, b = make_map(row.pt, geometry=row.geometry, show_geometry=True, show_bounds=False, size=800, seednr=95) # create map with boundaries\n",
    "m"
   ]
  },
  {
   "cell_type": "code",
   "execution_count": 30,
   "id": "d76abc1e-ef4d-4f73-bce8-67b0aa0ed22c",
   "metadata": {
    "tags": []
   },
   "outputs": [
    {
     "data": {
      "text/html": [
       "<div style=\"width:100%;\"><div style=\"position:relative;width:100%;height:0;padding-bottom:60%;\"><span style=\"color:#565656\">Make this Notebook Trusted to load map: File -> Trust Notebook</span><iframe src=\"about:blank\" style=\"position:absolute;width:100%;height:100%;left:0;top:0;border:none !important;\" data-html=%3C%21DOCTYPE%20html%3E%0A%3Chead%3E%20%20%20%20%0A%20%20%20%20%3Cmeta%20http-equiv%3D%22content-type%22%20content%3D%22text/html%3B%20charset%3DUTF-8%22%20/%3E%0A%20%20%20%20%0A%20%20%20%20%20%20%20%20%3Cscript%3E%0A%20%20%20%20%20%20%20%20%20%20%20%20L_NO_TOUCH%20%3D%20false%3B%0A%20%20%20%20%20%20%20%20%20%20%20%20L_DISABLE_3D%20%3D%20false%3B%0A%20%20%20%20%20%20%20%20%3C/script%3E%0A%20%20%20%20%0A%20%20%20%20%3Cstyle%3Ehtml%2C%20body%20%7Bwidth%3A%20100%25%3Bheight%3A%20100%25%3Bmargin%3A%200%3Bpadding%3A%200%3B%7D%3C/style%3E%0A%20%20%20%20%3Cstyle%3E%23map%20%7Bposition%3Aabsolute%3Btop%3A0%3Bbottom%3A0%3Bright%3A0%3Bleft%3A0%3B%7D%3C/style%3E%0A%20%20%20%20%3Cscript%20src%3D%22https%3A//cdn.jsdelivr.net/npm/leaflet%401.6.0/dist/leaflet.js%22%3E%3C/script%3E%0A%20%20%20%20%3Cscript%20src%3D%22https%3A//code.jquery.com/jquery-1.12.4.min.js%22%3E%3C/script%3E%0A%20%20%20%20%3Cscript%20src%3D%22https%3A//maxcdn.bootstrapcdn.com/bootstrap/3.2.0/js/bootstrap.min.js%22%3E%3C/script%3E%0A%20%20%20%20%3Cscript%20src%3D%22https%3A//cdnjs.cloudflare.com/ajax/libs/Leaflet.awesome-markers/2.0.2/leaflet.awesome-markers.js%22%3E%3C/script%3E%0A%20%20%20%20%3Clink%20rel%3D%22stylesheet%22%20href%3D%22https%3A//cdn.jsdelivr.net/npm/leaflet%401.6.0/dist/leaflet.css%22/%3E%0A%20%20%20%20%3Clink%20rel%3D%22stylesheet%22%20href%3D%22https%3A//maxcdn.bootstrapcdn.com/bootstrap/3.2.0/css/bootstrap.min.css%22/%3E%0A%20%20%20%20%3Clink%20rel%3D%22stylesheet%22%20href%3D%22https%3A//maxcdn.bootstrapcdn.com/bootstrap/3.2.0/css/bootstrap-theme.min.css%22/%3E%0A%20%20%20%20%3Clink%20rel%3D%22stylesheet%22%20href%3D%22https%3A//maxcdn.bootstrapcdn.com/font-awesome/4.6.3/css/font-awesome.min.css%22/%3E%0A%20%20%20%20%3Clink%20rel%3D%22stylesheet%22%20href%3D%22https%3A//cdnjs.cloudflare.com/ajax/libs/Leaflet.awesome-markers/2.0.2/leaflet.awesome-markers.css%22/%3E%0A%20%20%20%20%3Clink%20rel%3D%22stylesheet%22%20href%3D%22https%3A//cdn.jsdelivr.net/gh/python-visualization/folium/folium/templates/leaflet.awesome.rotate.min.css%22/%3E%0A%20%20%20%20%0A%20%20%20%20%20%20%20%20%20%20%20%20%3Cmeta%20name%3D%22viewport%22%20content%3D%22width%3Ddevice-width%2C%0A%20%20%20%20%20%20%20%20%20%20%20%20%20%20%20%20initial-scale%3D1.0%2C%20maximum-scale%3D1.0%2C%20user-scalable%3Dno%22%20/%3E%0A%20%20%20%20%20%20%20%20%20%20%20%20%3Cstyle%3E%0A%20%20%20%20%20%20%20%20%20%20%20%20%20%20%20%20%23map_8bc0bcfd54824e06bb0ba1c16aba6271%20%7B%0A%20%20%20%20%20%20%20%20%20%20%20%20%20%20%20%20%20%20%20%20position%3A%20relative%3B%0A%20%20%20%20%20%20%20%20%20%20%20%20%20%20%20%20%20%20%20%20width%3A%20640.0px%3B%0A%20%20%20%20%20%20%20%20%20%20%20%20%20%20%20%20%20%20%20%20height%3A%20640.0px%3B%0A%20%20%20%20%20%20%20%20%20%20%20%20%20%20%20%20%20%20%20%20left%3A%200.0%25%3B%0A%20%20%20%20%20%20%20%20%20%20%20%20%20%20%20%20%20%20%20%20top%3A%200.0%25%3B%0A%20%20%20%20%20%20%20%20%20%20%20%20%20%20%20%20%7D%0A%20%20%20%20%20%20%20%20%20%20%20%20%3C/style%3E%0A%20%20%20%20%20%20%20%20%0A%3C/head%3E%0A%3Cbody%3E%20%20%20%20%0A%20%20%20%20%0A%20%20%20%20%20%20%20%20%20%20%20%20%3Cdiv%20class%3D%22folium-map%22%20id%3D%22map_8bc0bcfd54824e06bb0ba1c16aba6271%22%20%3E%3C/div%3E%0A%20%20%20%20%20%20%20%20%0A%3C/body%3E%0A%3Cscript%3E%20%20%20%20%0A%20%20%20%20%0A%20%20%20%20%20%20%20%20%20%20%20%20var%20map_8bc0bcfd54824e06bb0ba1c16aba6271%20%3D%20L.map%28%0A%20%20%20%20%20%20%20%20%20%20%20%20%20%20%20%20%22map_8bc0bcfd54824e06bb0ba1c16aba6271%22%2C%0A%20%20%20%20%20%20%20%20%20%20%20%20%20%20%20%20%7B%0A%20%20%20%20%20%20%20%20%20%20%20%20%20%20%20%20%20%20%20%20center%3A%20%5B49.3715495%2C%206.1522216%5D%2C%0A%20%20%20%20%20%20%20%20%20%20%20%20%20%20%20%20%20%20%20%20crs%3A%20L.CRS.EPSG3857%2C%0A%20%20%20%20%20%20%20%20%20%20%20%20%20%20%20%20%20%20%20%20zoom%3A%2010%2C%0A%20%20%20%20%20%20%20%20%20%20%20%20%20%20%20%20%20%20%20%20zoomControl%3A%20false%2C%0A%20%20%20%20%20%20%20%20%20%20%20%20%20%20%20%20%20%20%20%20preferCanvas%3A%20false%2C%0A%20%20%20%20%20%20%20%20%20%20%20%20%20%20%20%20%20%20%20%20attributionControl%3A%20false%2C%0A%20%20%20%20%20%20%20%20%20%20%20%20%20%20%20%20%7D%0A%20%20%20%20%20%20%20%20%20%20%20%20%29%3B%0A%0A%20%20%20%20%20%20%20%20%20%20%20%20%0A%0A%20%20%20%20%20%20%20%20%0A%20%20%20%20%0A%20%20%20%20%20%20%20%20%20%20%20%20var%20tile_layer_41a6941b32cd406cb5ee14f3771e0fd0%20%3D%20L.tileLayer%28%0A%20%20%20%20%20%20%20%20%20%20%20%20%20%20%20%20%22https%3A//%7Bs%7D.tile.openstreetmap.org/%7Bz%7D/%7Bx%7D/%7By%7D.png%22%2C%0A%20%20%20%20%20%20%20%20%20%20%20%20%20%20%20%20%7B%22attribution%22%3A%20%22Data%20by%20%5Cu0026copy%3B%20%5Cu003ca%20href%3D%5C%22http%3A//openstreetmap.org%5C%22%5Cu003eOpenStreetMap%5Cu003c/a%5Cu003e%2C%20under%20%5Cu003ca%20href%3D%5C%22http%3A//www.openstreetmap.org/copyright%5C%22%5Cu003eODbL%5Cu003c/a%5Cu003e.%22%2C%20%22detectRetina%22%3A%20false%2C%20%22maxNativeZoom%22%3A%2018%2C%20%22maxZoom%22%3A%2018%2C%20%22minZoom%22%3A%2015%2C%20%22noWrap%22%3A%20false%2C%20%22opacity%22%3A%201%2C%20%22subdomains%22%3A%20%22abc%22%2C%20%22tms%22%3A%20false%7D%0A%20%20%20%20%20%20%20%20%20%20%20%20%29.addTo%28map_8bc0bcfd54824e06bb0ba1c16aba6271%29%3B%0A%20%20%20%20%20%20%20%20%0A%20%20%20%20%0A%20%20%20%20%20%20%20%20%20%20%20%20var%20tile_layer_8dbc4431df744e0a950c2862800164cb%20%3D%20L.tileLayer%28%0A%20%20%20%20%20%20%20%20%20%20%20%20%20%20%20%20%22https%3A//clarity.maptiles.arcgis.com/arcgis/rest/services/World_Imagery/MapServer/tile/%7Bz%7D/%7By%7D/%7Bx%7D%22%2C%0A%20%20%20%20%20%20%20%20%20%20%20%20%20%20%20%20%7B%22attribution%22%3A%20%22Esri%22%2C%20%22detectRetina%22%3A%20false%2C%20%22maxNativeZoom%22%3A%2018%2C%20%22maxZoom%22%3A%2018%2C%20%22minZoom%22%3A%200%2C%20%22noWrap%22%3A%20false%2C%20%22opacity%22%3A%201%2C%20%22subdomains%22%3A%20%22abc%22%2C%20%22tms%22%3A%20false%7D%0A%20%20%20%20%20%20%20%20%20%20%20%20%29.addTo%28map_8bc0bcfd54824e06bb0ba1c16aba6271%29%3B%0A%20%20%20%20%20%20%20%20%0A%20%20%20%20%0A%0A%20%20%20%20%20%20%20%20function%20geo_json_24eb091af9af4c25b279a237b030991c_onEachFeature%28feature%2C%20layer%29%20%7B%0A%20%20%20%20%20%20%20%20%20%20%20%20layer.on%28%7B%0A%20%20%20%20%20%20%20%20%20%20%20%20%7D%29%3B%0A%20%20%20%20%20%20%20%20%7D%3B%0A%20%20%20%20%20%20%20%20var%20geo_json_24eb091af9af4c25b279a237b030991c%20%3D%20L.geoJson%28null%2C%20%7B%0A%20%20%20%20%20%20%20%20%20%20%20%20%20%20%20%20onEachFeature%3A%20geo_json_24eb091af9af4c25b279a237b030991c_onEachFeature%2C%0A%20%20%20%20%20%20%20%20%20%20%20%20%0A%20%20%20%20%20%20%20%20%7D%29%3B%0A%0A%20%20%20%20%20%20%20%20function%20geo_json_24eb091af9af4c25b279a237b030991c_add%20%28data%29%20%7B%0A%20%20%20%20%20%20%20%20%20%20%20%20geo_json_24eb091af9af4c25b279a237b030991c%0A%20%20%20%20%20%20%20%20%20%20%20%20%20%20%20%20.addData%28data%29%0A%20%20%20%20%20%20%20%20%20%20%20%20%20%20%20%20.addTo%28map_8bc0bcfd54824e06bb0ba1c16aba6271%29%3B%0A%20%20%20%20%20%20%20%20%7D%0A%20%20%20%20%20%20%20%20%20%20%20%20geo_json_24eb091af9af4c25b279a237b030991c_add%28%7B%22coordinates%22%3A%20%5B%5B%5B6.1522216%2C%2049.3715495%5D%2C%20%5B6.1523249%2C%2049.3721381%5D%2C%20%5B6.1532328%2C%2049.3720595%5D%2C%20%5B6.1532462%2C%2049.3721713%5D%2C%20%5B6.1532796%2C%2049.3723733%5D%2C%20%5B6.1531937%2C%2049.3724052%5D%2C%20%5B6.1529859%2C%2049.3724231%5D%2C%20%5B6.1523334%2C%2049.3724877%5D%2C%20%5B6.1519257%2C%2049.3725366%5D%2C%20%5B6.1518097%2C%2049.3725418%5D%2C%20%5B6.1518775%2C%2049.3722663%5D%2C%20%5B6.1520833%2C%2049.3717101%5D%2C%20%5B6.1521034%2C%2049.3715743%5D%2C%20%5B6.1520873%2C%2049.3715166%5D%2C%20%5B6.1520862%2C%2049.371457%5D%2C%20%5B6.1521398%2C%2049.3714482%5D%2C%20%5B6.1522391%2C%2049.3714727%5D%2C%20%5B6.1522458%2C%2049.3715373%5D%2C%20%5B6.1522216%2C%2049.3715495%5D%5D%5D%2C%20%22type%22%3A%20%22Polygon%22%7D%29%3B%0A%0A%20%20%20%20%20%20%20%20%0A%20%20%20%20%0A%20%20%20%20%20%20%20%20%20%20%20%20var%20rectangle_008990ebc92941a28d29406df44155ba%20%3D%20L.rectangle%28%0A%20%20%20%20%20%20%20%20%20%20%20%20%20%20%20%20%5B%5B49.3714482%2C%206.1532796%5D%2C%20%5B49.3725418%2C%206.1518097%5D%5D%2C%0A%20%20%20%20%20%20%20%20%20%20%20%20%20%20%20%20%7B%22bubblingMouseEvents%22%3A%20true%2C%20%22color%22%3A%20%22%23ff7800%22%2C%20%22dashArray%22%3A%20null%2C%20%22dashOffset%22%3A%20null%2C%20%22fill%22%3A%20true%2C%20%22fillColor%22%3A%20%22%23ff7800%22%2C%20%22fillOpacity%22%3A%200%2C%20%22fillRule%22%3A%20%22evenodd%22%2C%20%22lineCap%22%3A%20%22round%22%2C%20%22lineJoin%22%3A%20%22round%22%2C%20%22noClip%22%3A%20false%2C%20%22opacity%22%3A%201.0%2C%20%22smoothFactor%22%3A%201.0%2C%20%22stroke%22%3A%20true%2C%20%22weight%22%3A%203%7D%0A%20%20%20%20%20%20%20%20%20%20%20%20%29.addTo%28map_8bc0bcfd54824e06bb0ba1c16aba6271%29%3B%0A%20%20%20%20%20%20%20%20%0A%20%20%20%20%0A%20%20%20%20%20%20%20%20%20%20%20%20var%20rectangle_2b2afbc8523f44c1860b51f4ca653c2b%20%3D%20L.rectangle%28%0A%20%20%20%20%20%20%20%20%20%20%20%20%20%20%20%20%5B%5B49.37090472173913%2C%206.154257860869565%5D%2C%20%5B49.37297658260869%2C%206.151157526086957%5D%5D%2C%0A%20%20%20%20%20%20%20%20%20%20%20%20%20%20%20%20%7B%22bubblingMouseEvents%22%3A%20true%2C%20%22color%22%3A%20%22red%22%2C%20%22dashArray%22%3A%20null%2C%20%22dashOffset%22%3A%20null%2C%20%22fill%22%3A%20true%2C%20%22fillColor%22%3A%20%22%23ff7800%22%2C%20%22fillOpacity%22%3A%200.0%2C%20%22fillRule%22%3A%20%22evenodd%22%2C%20%22lineCap%22%3A%20%22round%22%2C%20%22lineJoin%22%3A%20%22round%22%2C%20%22noClip%22%3A%20false%2C%20%22opacity%22%3A%201.0%2C%20%22smoothFactor%22%3A%201.0%2C%20%22stroke%22%3A%20true%2C%20%22weight%22%3A%203%7D%0A%20%20%20%20%20%20%20%20%20%20%20%20%29.addTo%28map_8bc0bcfd54824e06bb0ba1c16aba6271%29%3B%0A%20%20%20%20%20%20%20%20%0A%20%20%20%20%0A%20%20%20%20%20%20%20%20%20%20%20%20map_8bc0bcfd54824e06bb0ba1c16aba6271.fitBounds%28%0A%20%20%20%20%20%20%20%20%20%20%20%20%20%20%20%20%5B%5B49.37090472173913%2C%206.154257860869565%5D%2C%20%5B49.37297658260869%2C%206.151157526086957%5D%5D%2C%0A%20%20%20%20%20%20%20%20%20%20%20%20%20%20%20%20%7B%7D%0A%20%20%20%20%20%20%20%20%20%20%20%20%29%3B%0A%20%20%20%20%20%20%20%20%0A%3C/script%3E onload=\"this.contentDocument.open();this.contentDocument.write(    decodeURIComponent(this.getAttribute('data-html')));this.contentDocument.close();\" allowfullscreen webkitallowfullscreen mozallowfullscreen></iframe></div></div>"
      ],
      "text/plain": [
       "<folium.folium.Map at 0x1d7849a59d0>"
      ]
     },
     "metadata": {},
     "output_type": "display_data"
    },
    {
     "name": "stdin",
     "output_type": "stream",
     "text": [
      "Image Nr. 1255 ok? Just enter. If truck, type \"t\". To exit type \"exit\" exit\n"
     ]
    },
    {
     "name": "stdout",
     "output_type": "stream",
     "text": [
      "Image to be checked next: 49.3715495_6.1522216_ts2\n"
     ]
    }
   ],
   "source": [
    "# Sart selection\n",
    "\n",
    "start_nr = 1255 # if you stop somewhere inbetween, enter here the last image nr. printed\n",
    "\n",
    "blacklist = []\n",
    "whitelist = []\n",
    "trucklist = []\n",
    "\n",
    "for i in range(start_nr, real_polys.shape[0]):\n",
    "    row = real_polys.iloc[i]\n",
    "    m, b = make_map(row.pt, geometry=row.geometry, show_geometry=True, show_bounds=True, size=640, seednr=95) # create map with boundaries\n",
    "    \n",
    "    display(m)\n",
    "    inp = input(f\"Image Nr. {i} ok? Just enter. If truck, type \\\"t\\\". To exit type \\\"exit\\\"\")\n",
    "    \n",
    "    if inp == \"exit\":\n",
    "        print(\"Image to be checked next:\", row[\"id\"])\n",
    "        break\n",
    "    elif inp == \"t\":\n",
    "        trucklist.append(row[\"id\"])\n",
    "    elif inp != \"\":\n",
    "        blacklist.append(row[\"id\"])\n",
    "    else: \n",
    "        whitelist.append(row[\"id\"])\n",
    "    \n",
    "    print(\"Last image checked:\", row[\"id\"])\n",
    "    print(\"\")"
   ]
  },
  {
   "cell_type": "code",
   "execution_count": null,
   "id": "24938063-ba0e-40ab-b1ff-180fbc2aa93a",
   "metadata": {},
   "outputs": [],
   "source": [
    "# Reasons for high dropout: No satellite imagery available, very small images, clustering of parking lots (often, there are several parking lots close to each other)"
   ]
  },
  {
   "cell_type": "code",
   "execution_count": null,
   "id": "a73c5c9d-adc3-4fc5-8b49-8e06e132ec19",
   "metadata": {},
   "outputs": [],
   "source": [
    "# Blacklist: 36.253389_139.6935681_ts2, 47.1308546_-0.1473121_ts2, 45.2955723_-75.6065874_ts2"
   ]
  },
  {
   "cell_type": "code",
   "execution_count": 10,
   "id": "b9d309d5-e275-4464-8146-752ad1623f12",
   "metadata": {
    "tags": []
   },
   "outputs": [
    {
     "data": {
      "text/plain": [
       "233"
      ]
     },
     "execution_count": 10,
     "metadata": {},
     "output_type": "execute_result"
    }
   ],
   "source": [
    "# Print blacklist\n",
    "blacklist"
   ]
  },
  {
   "cell_type": "code",
   "execution_count": 17,
   "id": "8c93375e-ea30-4aa6-aa40-0b4a06860d01",
   "metadata": {},
   "outputs": [
    {
     "data": {
      "text/plain": [
       "['45.8561953_3.8128949_ts2',\n",
       " '46.8795844_11.4365074_ts2',\n",
       " '52.2429238_12.1415345_ts2',\n",
       " '39.6121_-85.8708025_ts2']"
      ]
     },
     "execution_count": 17,
     "metadata": {},
     "output_type": "execute_result"
    }
   ],
   "source": [
    "trucklist"
   ]
  },
  {
   "cell_type": "code",
   "execution_count": 11,
   "id": "c80c1c2a-7e28-402b-92b1-3aa325eb4946",
   "metadata": {
    "tags": []
   },
   "outputs": [
    {
     "data": {
      "text/plain": [
       "22"
      ]
     },
     "execution_count": 11,
     "metadata": {},
     "output_type": "execute_result"
    }
   ],
   "source": [
    "# Print whitelist (to record which images have already been checked)\n",
    "whitelist"
   ]
  },
  {
   "cell_type": "markdown",
   "id": "34d0efc0-b45f-4dea-b94f-c37722a6abda",
   "metadata": {},
   "source": [
    "## Save blacklist and whitelist"
   ]
  },
  {
   "cell_type": "code",
   "execution_count": 14,
   "id": "25618a31-7274-40b9-a13b-55ce3cb7c405",
   "metadata": {
    "tags": []
   },
   "outputs": [],
   "source": [
    "def savefile(list1, csv_name, PATH):\n",
    "    if os.path.isfile(f\"{PATH}/{csv_name}.csv\"):\n",
    "        return f\"File \\\"{csv_name}\\\" already created! Change filename!\"\n",
    "    else:\n",
    "        dict1 = {'id': list1}\n",
    "        df = pd.DataFrame(dict1)\n",
    "        df.to_csv(f\"{PATH}/{csv_name}.csv\") \n",
    "        return f\"File \\\"{csv_name}\\\" successfully saved!\""
   ]
  },
  {
   "cell_type": "code",
   "execution_count": 18,
   "id": "9addd9a9-e452-461c-bca4-e1a3827dd9b4",
   "metadata": {},
   "outputs": [
    {
     "name": "stdout",
     "output_type": "stream",
     "text": [
      "File \"blacklist5\" successfully saved!\n",
      "File \"whitelist5\" successfully saved!\n",
      "File \"trucklist2\" successfully saved!\n"
     ]
    }
   ],
   "source": [
    "# Save lists as csv:\n",
    "path = \"ndata/cars\"\n",
    "\n",
    "# saving lists\n",
    "print(savefile(blacklist, \"blacklist5\", path))\n",
    "print(savefile(whitelist, \"whitelist5\", path))\n",
    "#print(savefile(trucklist, \"trucklist2\", path))"
   ]
  },
  {
   "cell_type": "code",
   "execution_count": null,
   "id": "ec9e0c67-938d-486e-ba77-65d56be39aa8",
   "metadata": {},
   "outputs": [],
   "source": []
  },
  {
   "cell_type": "markdown",
   "id": "9962cf44-3f62-42b1-9938-349be54eab13",
   "metadata": {},
   "source": [
    "### Notes on first Truck iteration"
   ]
  },
  {
   "cell_type": "code",
   "execution_count": null,
   "id": "631f6019-e17f-4441-b7bc-ebf2f80869e0",
   "metadata": {},
   "outputs": [],
   "source": [
    "# Difficult: \n",
    "d = [\"53.244_-3.191_ts2\", \"43.296_3.216_ts2\", \"41.501_-74.206_ts2\", \"42.571_-113.782_ts2\", \"41.247_-87.861_ts2\", \"49.96_7.951_ts2\"]"
   ]
  },
  {
   "cell_type": "code",
   "execution_count": null,
   "id": "0bb6169c-790f-4bd9-b6c4-bab848882561",
   "metadata": {},
   "outputs": [],
   "source": [
    "# Example, Truck Parking lot not built yet: 51.963_6.029_ts2, -37.805_144.753_ts2, 59.303_15.261_ts2, 41.092_29.288_ts2, 51.196_13.739_ts2\n",
    "# Not fully built yet ? 42.898_-74.099_ts2\n",
    "# Ngeative example: -29.487_152.335_ts2"
   ]
  },
  {
   "cell_type": "code",
   "execution_count": null,
   "id": "f1a68b85-a16f-44cb-9fd8-625984ac5aeb",
   "metadata": {},
   "outputs": [],
   "source": [
    "# \"The perfect\" truck parking lot: 51.087_13.274_ts2"
   ]
  },
  {
   "cell_type": "code",
   "execution_count": null,
   "id": "7135ae33-f040-4b65-9380-b3143550d28b",
   "metadata": {},
   "outputs": [],
   "source": [
    "# Nice car parking lot with feldern around: 45.0139306_0.1170134_ts2"
   ]
  }
 ],
 "metadata": {
  "kernelspec": {
   "display_name": "trustbit_venv",
   "language": "python",
   "name": "trustbit_venv"
  },
  "language_info": {
   "codemirror_mode": {
    "name": "ipython",
    "version": 3
   },
   "file_extension": ".py",
   "mimetype": "text/x-python",
   "name": "python",
   "nbconvert_exporter": "python",
   "pygments_lexer": "ipython3",
   "version": "3.9.7"
  }
 },
 "nbformat": 4,
 "nbformat_minor": 5
}
