{
 "cells": [
  {
   "cell_type": "markdown",
   "id": "e4c498ad",
   "metadata": {},
   "source": [
    "# Final Function"
   ]
  },
  {
   "cell_type": "markdown",
   "id": "b04b8f8a",
   "metadata": {},
   "source": [
    "### Load Packages"
   ]
  },
  {
   "cell_type": "code",
   "execution_count": 2,
   "id": "7e4de633",
   "metadata": {},
   "outputs": [],
   "source": [
    "import pandas as pd\n",
    "import numpy as np\n",
    "import sys\n",
    "import re\n",
    "import io\n",
    "from shapely import wkt\n",
    "import geckodriver_autoinstaller\n",
    "import folium\n",
    "from PIL import Image, ImageDraw\n",
    "from matplotlib import pyplot as plt\n",
    "from matplotlib.colors import ListedColormap\n",
    "from ipywidgets import interact,interact_manual,HBox,Output,Tab,widgets\n",
    "from sklearn.preprocessing import MinMaxScaler\n",
    "scaler = MinMaxScaler()"
   ]
  },
  {
   "cell_type": "code",
   "execution_count": 2,
   "id": "87c559f2",
   "metadata": {},
   "outputs": [
    {
     "name": "stderr",
     "output_type": "stream",
     "text": [
      "[WDM] - Downloading: 16.2kB [00:00, 6.91MB/s]                   \n"
     ]
    }
   ],
   "source": [
    "# Adapt accordingly https://pypi.org/project/webdriver-manager/\n",
    "from selenium import webdriver\n",
    "from selenium.webdriver.firefox.service import Service\n",
    "from webdriver_manager.firefox import GeckoDriverManager\n",
    "driver = webdriver.Firefox(service=Service(executable_path=GeckoDriverManager().install()))"
   ]
  },
  {
   "cell_type": "code",
   "execution_count": null,
   "id": "54516147",
   "metadata": {},
   "outputs": [],
   "source": []
  },
  {
   "cell_type": "markdown",
   "id": "9615c115",
   "metadata": {},
   "source": [
    "### Specify model to be used"
   ]
  },
  {
   "cell_type": "code",
   "execution_count": 3,
   "id": "c626a256",
   "metadata": {},
   "outputs": [],
   "source": [
    "# Load Model to be used\n",
    "model_name = \"PSPNet_sm_Aug-04-2022-1349\"\n",
    "#model_name = \"Linknet_sm_Aug-05-2022-1454\"\n",
    "#model_name = \"Linknet_sm_Aug-07-2022-1853\"\n",
    "\n",
    "from keras.models import load_model\n",
    "model = load_model(f\"models/{model_name}.hdf5\", compile=False)"
   ]
  },
  {
   "cell_type": "code",
   "execution_count": null,
   "id": "d388ac74",
   "metadata": {},
   "outputs": [],
   "source": []
  },
  {
   "cell_type": "markdown",
   "id": "a0e75441",
   "metadata": {},
   "source": [
    "### Define necessary functions"
   ]
  },
  {
   "cell_type": "code",
   "execution_count": 4,
   "id": "fdf81d78",
   "metadata": {},
   "outputs": [],
   "source": [
    "# Get image file\n",
    "def make_map(pt, ts, size=640):\n",
    "    \"\"\"\n",
    "    create folium map with a given center, \n",
    "    optionally fit and show a geometry and/or a larger bounding box\n",
    "    \"\"\"\n",
    "    #pt = (pt[1], pt[0])\n",
    "\n",
    "    # Create satellite image map for the coordinate point specified\n",
    "    m = folium.Map(location=pt, min_zoom=17, max_zoom=18, width=size, height=size, zoom_control=False, attribution_control=False)\n",
    "    \n",
    "    # First tile server\n",
    "    if ts == 1:\n",
    "        folium.TileLayer(\n",
    "            tiles = 'https://server.arcgisonline.com/ArcGIS/rest/services/World_Imagery/MapServer/tile/{z}/{y}/{x}',\n",
    "            attr = 'Esri', name = 'Esri Satellite', overlay = False, control = True\n",
    "        ).add_to(m)\n",
    "    \n",
    "    # Second tile server\n",
    "    elif ts == 2:\n",
    "        folium.TileLayer(\n",
    "            tiles = 'https://clarity.maptiles.arcgis.com/arcgis/rest/services/World_Imagery/MapServer/tile/{z}/{y}/{x}',\n",
    "            attr = 'Esri', name = 'Esri Satellite', overlay = False, control = True\n",
    "        ).add_to(m)\n",
    "        \n",
    "    #m.fit_bounds(bounds, max_zoom = 18)\n",
    "    #m.fit_bounds(crop_bounds) # FLAG\n",
    "    \n",
    "    img_data = m._to_png()\n",
    "    img = Image.open(io.BytesIO(img_data))\n",
    "    \n",
    "    img_size = (0,0,size,size)\n",
    "    img = img.crop(img_size)\n",
    "    rgb_im = img.convert(\"RGB\")\n",
    "    image = np.array(rgb_im)\n",
    "    img2 = scaler.fit_transform(image.reshape(-1, image.shape[-1])).reshape(image.shape)\n",
    "    return img2"
   ]
  },
  {
   "cell_type": "code",
   "execution_count": 5,
   "id": "8ede8244",
   "metadata": {},
   "outputs": [],
   "source": [
    "# Predict on a loaded image\n",
    "def get_prediction(gps):\n",
    "    test_img = make_map(gps, 2, 480)\n",
    "    \n",
    "    test_img_input = np.expand_dims(test_img, 0)\n",
    "\n",
    "    prediction = (model.predict(test_img_input, verbose=0))\n",
    "    predicted_img=np.argmax(prediction, axis=3)[0,:,:]\n",
    "    #return predicted_img\n",
    "    plt.figure(figsize=(10, 10))\n",
    "\n",
    "    #plt.title('Prediction')\n",
    "    plt.imshow(test_img)\n",
    "\n",
    "    col_a = np.array([(0.1, 0.2, 0.5, 0), \"yellow\"], dtype=object)\n",
    "    cmap_c = ListedColormap(col_a)\n",
    "\n",
    "    plt.imshow(predicted_img, cmap=cmap_c, alpha=0.3)\n",
    "    plt.axis('off')\n",
    "    plt.show()"
   ]
  },
  {
   "cell_type": "code",
   "execution_count": 6,
   "id": "637c5b28",
   "metadata": {},
   "outputs": [],
   "source": [
    "def check_coord_format(tup):\n",
    "    try:\n",
    "        float(tup[0])\n",
    "    except: raise Exception(\"Wrong format for latitude. Input must be a decimal number with a dot as seperator\")\n",
    "    try:\n",
    "        float(tup[1])\n",
    "    except: raise Exception(\"Wrong format for longitude. Input must be a decimal number with a dot as seperator\")\n",
    "\n",
    "    if len(str(tup[0])) < 6 or len(str(tup[1])) < 6:\n",
    "        raise Exception(\"Longitude or latitude too inprecise\")"
   ]
  },
  {
   "cell_type": "code",
   "execution_count": 7,
   "id": "6f17f9cf",
   "metadata": {},
   "outputs": [],
   "source": [
    "# Some parking lot locations for testing\n",
    "# Get others from: https://www.openstreetmap.org/#map=19/48.11447/14.66582&layers=D\n",
    "gps_directory = {0: (-17.9495555, 25.8216612), \n",
    "                 1: (-37.5922341, 144.2417904),\n",
    "                 2: (-32.2087314, 148.6231326),\n",
    "                 3: (51.6758745, 7.0868117),\n",
    "                 4: (48.16320, 16.00519),        # Ab hier Google Earth (Westautobahn Wien)\n",
    "                 5: (48.14587, 14.87352),\n",
    "                 6: (48.11447, 14.66582),\n",
    "                 7: (48.18516, 15.79659),\n",
    "                 8: (48.13867, 14.58055),\n",
    "                 9: (48.03200, 16.33646),\n",
    "                 10:(51.08679, 13.2736163),\n",
    "                 11:(48.03120, 16.33633),\n",
    "                 100:(48.139, 14.581),\n",
    "                 }"
   ]
  },
  {
   "cell_type": "code",
   "execution_count": null,
   "id": "8fcb5851",
   "metadata": {},
   "outputs": [],
   "source": [
    "get_prediction(gps_directory[10])"
   ]
  },
  {
   "cell_type": "code",
   "execution_count": null,
   "id": "5edf193b",
   "metadata": {},
   "outputs": [],
   "source": []
  },
  {
   "cell_type": "markdown",
   "id": "9581240e",
   "metadata": {},
   "source": [
    "### Final Interactive Function to get Predictions from coordinates"
   ]
  },
  {
   "cell_type": "code",
   "execution_count": 9,
   "id": "3f1e5640",
   "metadata": {},
   "outputs": [
    {
     "data": {
      "application/vnd.jupyter.widget-view+json": {
       "model_id": "2c02be9d1b7448bd9304fba5f247a0d1",
       "version_major": 2,
       "version_minor": 0
      },
      "text/plain": [
       "HTML(value='<b>Get predictions on custom coordinates or for random parking lot positions</b> <br>     Get othe…"
      ]
     },
     "metadata": {},
     "output_type": "display_data"
    },
    {
     "data": {
      "application/vnd.jupyter.widget-view+json": {
       "model_id": "18bcb1c8ab81458cbba07bbd1968c7ff",
       "version_major": 2,
       "version_minor": 0
      },
      "text/plain": [
       "interactive(children=(Text(value='48.18516', description='latitude'), Text(value='15.79659', description='long…"
      ]
     },
     "metadata": {},
     "output_type": "display_data"
    },
    {
     "data": {
      "application/vnd.jupyter.widget-view+json": {
       "model_id": "02cb2eb86bd540f999ba0c2aa1132eb9",
       "version_major": 2,
       "version_minor": 0
      },
      "text/plain": [
       "interactive(children=(Button(description='Random Parking Lot', style=ButtonStyle()), Output()), _dom_classes=(…"
      ]
     },
     "metadata": {},
     "output_type": "display_data"
    }
   ],
   "source": [
    "# Interactive Function for Predictions\n",
    "display(widgets.HTML(\n",
    "    value=\"<b>Get predictions on custom coordinates or for random parking lot positions</b> <br> \\\n",
    "    Get other coordinates from <a href=\\\"https://www.openstreetmap.org/\\\">OpenStreetMap</a> URL\",\n",
    "    placeholder='Some HTML',\n",
    "))\n",
    "\n",
    "\n",
    "#print(\"Generate Prediction for Custom Coordinates\")\n",
    "interact_generate = interact_manual.options(manual_name=\"Get Prediction\")\n",
    "@interact_generate(latitude=\"48.18516\", longitude=\"15.79659\")\n",
    "\n",
    "def inter_pred(latitude, longitude):\n",
    "    check_coord_format((latitude, longitude))\n",
    "    gps = (float(latitude), float(longitude))\n",
    "    return get_prediction(gps)\n",
    "\n",
    "\n",
    "interact_random = interact_manual.options(manual_name=\"Random Parking Lot\")\n",
    "@interact_random()\n",
    "\n",
    "def set_values():\n",
    "    gps_r = gps_directory[np.random.randint(0,12)]\n",
    "    lt_r = str(gps_r[0])\n",
    "    lg_r = str(gps_r[1])\n",
    "    return inter_pred(lt_r, lg_r)"
   ]
  },
  {
   "cell_type": "code",
   "execution_count": null,
   "id": "365f80cc",
   "metadata": {},
   "outputs": [],
   "source": []
  }
 ],
 "metadata": {
  "kernelspec": {
   "display_name": "Python 3.9.7 ('base')",
   "language": "python",
   "name": "python3"
  },
  "language_info": {
   "codemirror_mode": {
    "name": "ipython",
    "version": 3
   },
   "file_extension": ".py",
   "mimetype": "text/x-python",
   "name": "python",
   "nbconvert_exporter": "python",
   "pygments_lexer": "ipython3",
   "version": "3.9.12"
  },
  "vscode": {
   "interpreter": {
    "hash": "ad2bdc8ecc057115af97d19610ffacc2b4e99fae6737bb82f5d7fb13d2f2c186"
   }
  }
 },
 "nbformat": 4,
 "nbformat_minor": 5
}
