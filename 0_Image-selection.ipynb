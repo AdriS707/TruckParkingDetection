{
 "cells": [
  {
   "cell_type": "markdown",
   "id": "1f9267b8-5a3c-4197-bc09-fcb83af12620",
   "metadata": {},
   "source": [
    "# Manual Image Selection Script"
   ]
  },
  {
   "cell_type": "markdown",
   "id": "c7ccae45-3753-44f6-b61b-7d878bfeadf9",
   "metadata": {},
   "source": [
    "This notebook contains parts of code from Dr. Vadim Savenkov"
   ]
  },
  {
   "cell_type": "code",
   "execution_count": null,
   "id": "d212164d-59a8-4540-b678-6a732bf0a5f6",
   "metadata": {},
   "outputs": [],
   "source": []
  },
  {
   "cell_type": "markdown",
   "id": "3e9ee93f-0740-4963-a12e-7049f5779f1b",
   "metadata": {},
   "source": [
    "## Before running the notebook:\n",
    "- Put suitable data into the subfolder \"data\" (data with a column \"geometry\" that contains polygon coordinate data parsable with geopandas)\n",
    "- This notebook is specifically designed to work with data accessed from OpenStreetMap (cf. test.json files in data folder)\n",
    "- There might be issues with the \"geckodriver\", which is needed to access the satellite imagery (in this case checkout [StackOverflow](https://stackoverflow.com/questions/40208051/selenium-using-python-geckodriver-executable-needs-to-be-in-path))"
   ]
  },
  {
   "cell_type": "code",
   "execution_count": null,
   "id": "4bdad648-5c67-4cf7-86f5-307d332e6fe3",
   "metadata": {},
   "outputs": [],
   "source": []
  },
  {
   "cell_type": "markdown",
   "id": "8ef61b3b-7de2-4766-a07a-29c1a8eb3f62",
   "metadata": {},
   "source": [
    "## 1) Load packages and data"
   ]
  },
  {
   "cell_type": "code",
   "execution_count": 1,
   "id": "9d1972a3-0df2-4268-b347-24e09304e821",
   "metadata": {},
   "outputs": [],
   "source": [
    "# Load packages\n",
    "import os, io, json\n",
    "import pandas as pd\n",
    "import geopandas as gpd\n",
    "from ast import literal_eval\n",
    "from shapely.geometry import shape, mapping as shapely_mapping\n",
    "from shapely import wkt\n",
    "import folium\n",
    "from PIL import Image, ImageDraw\n",
    "from __future__ import print_function\n",
    "from ipywidgets import interact,interact_manual,HBox,Output,Tab\n",
    "import time\n",
    "\n",
    "import cv2\n",
    "import random\n",
    "import re\n",
    "import sys\n",
    "import multiprocessing.dummy as mp \n",
    "import numpy as np"
   ]
  },
  {
   "cell_type": "code",
   "execution_count": 2,
   "id": "0565160d-8dd3-4b87-ae05-a4a728e6e3cc",
   "metadata": {},
   "outputs": [],
   "source": [
    "# Create an unique id based on position of parking lot\n",
    "def parking_name(row, ts):  \n",
    "    try:\n",
    "        pt = row\n",
    "        a = round(pt[0], 7)\n",
    "        b = round(pt[1], 7)\n",
    "    except:\n",
    "        return np.nan\n",
    "    \n",
    "    return f\"{a}_{b}_ts{ts}\"\n",
    "\n",
    "# Find tags containing truck or asphalt surface\n",
    "def find_tags(df2):\n",
    "    ls = []\n",
    "    for j in range(0, len(df2)):\n",
    "        index = True\n",
    "        for i in df2.iloc[j,:].all_tags:\n",
    "            #if i[\"key\"] == \"surface\" and i[\"value\"] == \"asphalt\":\n",
    "            if i[\"key\"] == \"name\" and i[\"value\"].lower().__contains__(\"truck\"):   # also other tags might be interesting\n",
    "                ls.append(True)\n",
    "                index = False\n",
    "        \n",
    "        if index:\n",
    "            ls.append(False)\n",
    "        \n",
    "    return ls\n",
    "\n",
    "# Get the first point of polygon list as tuple of floats\n",
    "def get_point(geom):\n",
    "    try:\n",
    "        pt = re.split(r\",\", geom[9:])[0]\n",
    "        pt = tuple(map(float, pt.split(' ')))\n",
    "        pt_s = (pt[1], pt[0])\n",
    "    except:\n",
    "        return np.nan\n",
    "    \n",
    "    return pt_s"
   ]
  },
  {
   "cell_type": "code",
   "execution_count": 3,
   "id": "3cbec4b9-2dd0-4081-affc-24c1c5ac16d5",
   "metadata": {},
   "outputs": [],
   "source": [
    "# SPECIFY WHICH TILE SERVER SHOULD BE USED\n",
    "# 1 = World Imagery from Esri Satellite (3-5 years old) - https://www.arcgis.com/home/item.html?id=10df2279f9684e4a9f6a7f08febac2a9\n",
    "# 2 = World Imagery (Clarity) from Esri Satellite (more than 3-5 years old, however higher image quality)\n",
    "TS = 2"
   ]
  },
  {
   "cell_type": "code",
   "execution_count": 4,
   "id": "1eae1d07-2375-4714-8f37-226417d8b2a5",
   "metadata": {},
   "outputs": [
    {
     "name": "stdout",
     "output_type": "stream",
     "text": [
      "Started at: Sun Jul  3 15:27:28 2022\n",
      "File nr. 0 successfully loaded\n",
      "File nr. 1 successfully loaded\n",
      "Computation time (Min.): 0.00039203564325968423\n"
     ]
    }
   ],
   "source": [
    "# Loading the data and pre-processing\n",
    "# This part needs to be adapted according to database used\n",
    "\n",
    "# THIS CAN TAKE UP SOME TIME DEPENDING ON DATA SIZE\n",
    "\n",
    "start_time = time.localtime()\n",
    "start_t = time.time()\n",
    "print(\"Started at:\", time.asctime(start_time))\n",
    "\n",
    "file_nr = [0,1] # Specify the number of files that should be merged\n",
    "first = True\n",
    "\n",
    "for i in file_nr:\n",
    "    df = pd.read_json(f\"data/osm_parking_polygons_0{i}_test.json\", lines=True)\n",
    "    df = df[find_tags(df)] # only keep entries that fulfil tag requirements\n",
    "    df[\"pt\"] = df[\"geometry\"].transform(lambda x: get_point(x)) # get first point of coordinates list\n",
    "    df[\"id\"] = [parking_name(x, TS) for x in df[\"pt\"]] # create id based on coordinates\n",
    "    df['geometry'] = df['geometry'].apply(wkt.loads)\n",
    "    df = df[[\"id\", \"pt\", \"geometry\", \"all_tags\"]]\n",
    "    df = df.dropna()\n",
    "    \n",
    "    if first:\n",
    "        temp = df\n",
    "        first = False\n",
    "    else: \n",
    "        temp = pd.concat([temp, df])\n",
    "    \n",
    "    print(f\"File nr. {i} successfully loaded\")\n",
    "        \n",
    "real_polys = gpd.GeoDataFrame(temp, geometry=\"geometry\")\n",
    "\n",
    "end_t = time.time()\n",
    "print(\"Computation time (Min.):\", (end_t-start_t)/60)"
   ]
  },
  {
   "cell_type": "code",
   "execution_count": null,
   "id": "6c2be7ac-1b3e-40af-8e38-a552166b48c3",
   "metadata": {},
   "outputs": [],
   "source": [
    "# Start with an existing whitelist to look through it again\n",
    "\"\"\"\n",
    "whitelist_name = \"osm_data_trucks\"\n",
    "df = pd.read_csv(f\"data/{whitelist_name}.csv\", index_col=0)\n",
    "df[\"pt\"] = df[\"geometry\"].transform(lambda x: get_point(x))\n",
    "df[\"id\"] = [parking_name(x, TS) for x in df[\"pt\"]]\n",
    "df['geometry'] = df['geometry'].apply(wkt.loads)\n",
    "real_polys = gpd.GeoDataFrame(df, geometry=\"geometry\")\n",
    "\"\"\""
   ]
  },
  {
   "cell_type": "code",
   "execution_count": 6,
   "id": "fd4c3eed-d66e-49f3-a9a5-c21e7f4bd9be",
   "metadata": {},
   "outputs": [],
   "source": [
    "# Drop full duplicates and reset index\n",
    "real_polys = real_polys.drop_duplicates(subset=[\"id\", \"pt\", \"geometry\"])\n",
    "real_polys = real_polys.reset_index(drop=True)"
   ]
  },
  {
   "cell_type": "code",
   "execution_count": 7,
   "id": "c12c1cb8-4888-4e26-8857-6e3664e85c7c",
   "metadata": {},
   "outputs": [],
   "source": [
    "# Create backup if needed\n",
    "#real_polys_backup = real_polys.copy()"
   ]
  },
  {
   "cell_type": "code",
   "execution_count": 7,
   "id": "b0d49123-060c-40fa-8eff-a49eabc0627d",
   "metadata": {},
   "outputs": [
    {
     "data": {
      "text/html": [
       "<div>\n",
       "<style scoped>\n",
       "    .dataframe tbody tr th:only-of-type {\n",
       "        vertical-align: middle;\n",
       "    }\n",
       "\n",
       "    .dataframe tbody tr th {\n",
       "        vertical-align: top;\n",
       "    }\n",
       "\n",
       "    .dataframe thead th {\n",
       "        text-align: right;\n",
       "    }\n",
       "</style>\n",
       "<table border=\"1\" class=\"dataframe\">\n",
       "  <thead>\n",
       "    <tr style=\"text-align: right;\">\n",
       "      <th></th>\n",
       "      <th>index</th>\n",
       "      <th>id</th>\n",
       "      <th>pt</th>\n",
       "      <th>geometry</th>\n",
       "      <th>all_tags</th>\n",
       "    </tr>\n",
       "  </thead>\n",
       "  <tbody>\n",
       "    <tr>\n",
       "      <th>0</th>\n",
       "      <td>1</td>\n",
       "      <td>45.4727254_3.2479538_ts2</td>\n",
       "      <td>(45.4727254, 3.2479538)</td>\n",
       "      <td>POLYGON ((3.24795 45.47273, 3.24794 45.47277, ...</td>\n",
       "      <td>[{'key': 'access', 'value': 'yes'}, {'key': 'a...</td>\n",
       "    </tr>\n",
       "    <tr>\n",
       "      <th>1</th>\n",
       "      <td>3</td>\n",
       "      <td>43.4387796_-112.1136612_ts2</td>\n",
       "      <td>(43.4387796, -112.1136612)</td>\n",
       "      <td>POLYGON ((-112.11366 43.43878, -112.11375 43.4...</td>\n",
       "      <td>[{'key': 'amenity', 'value': 'parking'}, {'key...</td>\n",
       "    </tr>\n",
       "    <tr>\n",
       "      <th>2</th>\n",
       "      <td>10</td>\n",
       "      <td>49.7030926_12.9882907_ts2</td>\n",
       "      <td>(49.7030926, 12.9882907)</td>\n",
       "      <td>POLYGON ((12.98829 49.70309, 12.98849 49.70319...</td>\n",
       "      <td>[{'key': 'amenity', 'value': 'parking'}, {'key...</td>\n",
       "    </tr>\n",
       "    <tr>\n",
       "      <th>3</th>\n",
       "      <td>20</td>\n",
       "      <td>38.0495663_-102.0508654_ts2</td>\n",
       "      <td>(38.0495663, -102.0508654)</td>\n",
       "      <td>POLYGON ((-102.05087 38.04957, -102.05091 38.0...</td>\n",
       "      <td>[{'key': 'amenity', 'value': 'parking'}, {'key...</td>\n",
       "    </tr>\n",
       "    <tr>\n",
       "      <th>4</th>\n",
       "      <td>21</td>\n",
       "      <td>35.8807974_-97.3903998_ts2</td>\n",
       "      <td>(35.8807974, -97.3903998)</td>\n",
       "      <td>POLYGON ((-97.39040 35.88080, -97.39056 35.880...</td>\n",
       "      <td>[{'key': 'amenity', 'value': 'parking'}, {'key...</td>\n",
       "    </tr>\n",
       "    <tr>\n",
       "      <th>5</th>\n",
       "      <td>22</td>\n",
       "      <td>51.0867363_6.8169281_ts2</td>\n",
       "      <td>(51.0867363, 6.8169281)</td>\n",
       "      <td>POLYGON ((6.81693 51.08674, 6.81812 51.08717, ...</td>\n",
       "      <td>[{'key': 'access', 'value': 'private'}, {'key'...</td>\n",
       "    </tr>\n",
       "    <tr>\n",
       "      <th>6</th>\n",
       "      <td>24</td>\n",
       "      <td>45.8564154_25.9405394_ts2</td>\n",
       "      <td>(45.8564154, 25.9405394)</td>\n",
       "      <td>POLYGON ((25.94054 45.85642, 25.93991 45.85589...</td>\n",
       "      <td>[{'key': 'amenity', 'value': 'parking'}, {'key...</td>\n",
       "    </tr>\n",
       "    <tr>\n",
       "      <th>7</th>\n",
       "      <td>1</td>\n",
       "      <td>35.4300652_-84.6883_ts2</td>\n",
       "      <td>(35.4300652, -84.6883)</td>\n",
       "      <td>POLYGON ((-84.68830 35.43007, -84.68857 35.430...</td>\n",
       "      <td>[{'key': 'amenity', 'value': 'parking'}, {'key...</td>\n",
       "    </tr>\n",
       "    <tr>\n",
       "      <th>8</th>\n",
       "      <td>2</td>\n",
       "      <td>38.6295002_-94.3500656_ts2</td>\n",
       "      <td>(38.6295002, -94.3500656)</td>\n",
       "      <td>POLYGON ((-94.35007 38.62950, -94.34995 38.629...</td>\n",
       "      <td>[{'key': 'amenity', 'value': 'parking'}, {'key...</td>\n",
       "    </tr>\n",
       "    <tr>\n",
       "      <th>9</th>\n",
       "      <td>3</td>\n",
       "      <td>37.9882682_58.3524541_ts2</td>\n",
       "      <td>(37.9882682, 58.3524541)</td>\n",
       "      <td>POLYGON ((58.35245 37.98827, 58.35295 37.98898...</td>\n",
       "      <td>[{'key': 'amenity', 'value': 'parking'}, {'key...</td>\n",
       "    </tr>\n",
       "    <tr>\n",
       "      <th>10</th>\n",
       "      <td>6</td>\n",
       "      <td>43.7569066_-89.9685034_ts2</td>\n",
       "      <td>(43.7569066, -89.9685034)</td>\n",
       "      <td>POLYGON ((-89.96850 43.75691, -89.96856 43.756...</td>\n",
       "      <td>[{'key': 'amenity', 'value': 'parking'}, {'key...</td>\n",
       "    </tr>\n",
       "    <tr>\n",
       "      <th>11</th>\n",
       "      <td>7</td>\n",
       "      <td>39.5884212_-107.1921828_ts2</td>\n",
       "      <td>(39.5884212, -107.1921828)</td>\n",
       "      <td>POLYGON ((-107.19218 39.58842, -107.19216 39.5...</td>\n",
       "      <td>[{'key': 'amenity', 'value': 'parking'}, {'key...</td>\n",
       "    </tr>\n",
       "    <tr>\n",
       "      <th>12</th>\n",
       "      <td>18</td>\n",
       "      <td>40.5993797_-84.1575569_ts2</td>\n",
       "      <td>(40.5993797, -84.1575569)</td>\n",
       "      <td>POLYGON ((-84.15756 40.59938, -84.15765 40.599...</td>\n",
       "      <td>[{'key': 'amenity', 'value': 'parking'}, {'key...</td>\n",
       "    </tr>\n",
       "  </tbody>\n",
       "</table>\n",
       "</div>"
      ],
      "text/plain": [
       "    index                           id                          pt  \\\n",
       "0       1     45.4727254_3.2479538_ts2     (45.4727254, 3.2479538)   \n",
       "1       3  43.4387796_-112.1136612_ts2  (43.4387796, -112.1136612)   \n",
       "2      10    49.7030926_12.9882907_ts2    (49.7030926, 12.9882907)   \n",
       "3      20  38.0495663_-102.0508654_ts2  (38.0495663, -102.0508654)   \n",
       "4      21   35.8807974_-97.3903998_ts2   (35.8807974, -97.3903998)   \n",
       "5      22     51.0867363_6.8169281_ts2     (51.0867363, 6.8169281)   \n",
       "6      24    45.8564154_25.9405394_ts2    (45.8564154, 25.9405394)   \n",
       "7       1      35.4300652_-84.6883_ts2      (35.4300652, -84.6883)   \n",
       "8       2   38.6295002_-94.3500656_ts2   (38.6295002, -94.3500656)   \n",
       "9       3    37.9882682_58.3524541_ts2    (37.9882682, 58.3524541)   \n",
       "10      6   43.7569066_-89.9685034_ts2   (43.7569066, -89.9685034)   \n",
       "11      7  39.5884212_-107.1921828_ts2  (39.5884212, -107.1921828)   \n",
       "12     18   40.5993797_-84.1575569_ts2   (40.5993797, -84.1575569)   \n",
       "\n",
       "                                             geometry  \\\n",
       "0   POLYGON ((3.24795 45.47273, 3.24794 45.47277, ...   \n",
       "1   POLYGON ((-112.11366 43.43878, -112.11375 43.4...   \n",
       "2   POLYGON ((12.98829 49.70309, 12.98849 49.70319...   \n",
       "3   POLYGON ((-102.05087 38.04957, -102.05091 38.0...   \n",
       "4   POLYGON ((-97.39040 35.88080, -97.39056 35.880...   \n",
       "5   POLYGON ((6.81693 51.08674, 6.81812 51.08717, ...   \n",
       "6   POLYGON ((25.94054 45.85642, 25.93991 45.85589...   \n",
       "7   POLYGON ((-84.68830 35.43007, -84.68857 35.430...   \n",
       "8   POLYGON ((-94.35007 38.62950, -94.34995 38.629...   \n",
       "9   POLYGON ((58.35245 37.98827, 58.35295 37.98898...   \n",
       "10  POLYGON ((-89.96850 43.75691, -89.96856 43.756...   \n",
       "11  POLYGON ((-107.19218 39.58842, -107.19216 39.5...   \n",
       "12  POLYGON ((-84.15756 40.59938, -84.15765 40.599...   \n",
       "\n",
       "                                             all_tags  \n",
       "0   [{'key': 'access', 'value': 'yes'}, {'key': 'a...  \n",
       "1   [{'key': 'amenity', 'value': 'parking'}, {'key...  \n",
       "2   [{'key': 'amenity', 'value': 'parking'}, {'key...  \n",
       "3   [{'key': 'amenity', 'value': 'parking'}, {'key...  \n",
       "4   [{'key': 'amenity', 'value': 'parking'}, {'key...  \n",
       "5   [{'key': 'access', 'value': 'private'}, {'key'...  \n",
       "6   [{'key': 'amenity', 'value': 'parking'}, {'key...  \n",
       "7   [{'key': 'amenity', 'value': 'parking'}, {'key...  \n",
       "8   [{'key': 'amenity', 'value': 'parking'}, {'key...  \n",
       "9   [{'key': 'amenity', 'value': 'parking'}, {'key...  \n",
       "10  [{'key': 'amenity', 'value': 'parking'}, {'key...  \n",
       "11  [{'key': 'amenity', 'value': 'parking'}, {'key...  \n",
       "12  [{'key': 'amenity', 'value': 'parking'}, {'key...  "
      ]
     },
     "execution_count": 7,
     "metadata": {},
     "output_type": "execute_result"
    }
   ],
   "source": [
    "# Final dataframe\n",
    "real_polys"
   ]
  },
  {
   "cell_type": "code",
   "execution_count": null,
   "id": "897bb772-1240-4c80-ba55-159bd411c7a5",
   "metadata": {},
   "outputs": [],
   "source": []
  },
  {
   "cell_type": "markdown",
   "id": "146a67f0-7511-43d5-8e12-9bd4bc6e89ad",
   "metadata": {},
   "source": [
    "## 2) Load functions to get image with labels"
   ]
  },
  {
   "cell_type": "code",
   "execution_count": 8,
   "id": "28a723dd-d44f-4278-aef1-de351029eb02",
   "metadata": {},
   "outputs": [],
   "source": [
    "# Create image\n",
    "BOUNDS_RGB = (0xff,0x78, 0x00)\n",
    "\n",
    "def rgbcolor(r,g,b):\n",
    "    \"\"\"\n",
    "    turn r, g, b integers into a CSS color code \n",
    "    \"\"\"\n",
    "    return f\"#{r:02x}{g:02x}{b:02x}\"\n",
    "\n",
    "# Get the bounding box around an arbitrarily shaped geometry object\n",
    "def geometry_bbox(geometry, init_bounds=None, x_offset=0., y_offset=0.):\n",
    "    bounds = init_bounds or [[1000,-1000],[-1000,1000]]\n",
    "    xs = [c[0] for c in geometry.exterior.coords]\n",
    "    \n",
    "    ys = [c[1] for c in geometry.exterior.coords]\n",
    "    \n",
    "    return [\n",
    "        #southwest\n",
    "        [min(bounds[0][0], min(ys)-y_offset), max(bounds[0][1], max(xs)+x_offset)],\n",
    "        #northeast\n",
    "        [max(bounds[1][0], max(ys)+y_offset), min(bounds[1][1], min(xs)-x_offset)]\n",
    "    ]\n",
    "\n",
    "\n",
    "def make_map(pt, ts, geometry=None, show_geometry=False, size=320):\n",
    "    \"\"\"\n",
    "    create folium map with a given center, \n",
    "    optionally fit and show a geometry and/or a larger bounding box\n",
    "    \"\"\"\n",
    "        \n",
    "    # Create satellite image map for the coordinate point specified\n",
    "    m = folium.Map(location=pt, min_zoom=15, width=size, height=size, zoom_control=False, attribution_control=False)\n",
    "    \n",
    "    # First tile server\n",
    "    if ts == 1:\n",
    "        folium.TileLayer(\n",
    "            tiles = 'https://server.arcgisonline.com/ArcGIS/rest/services/World_Imagery/MapServer/tile/{z}/{y}/{x}',\n",
    "            attr = 'Esri', name = 'Esri Satellite', overlay = False, control = True\n",
    "        ).add_to(m)\n",
    "    \n",
    "    # Second tile server\n",
    "    elif ts == 2:\n",
    "        folium.TileLayer(\n",
    "            tiles = 'https://clarity.maptiles.arcgis.com/arcgis/rest/services/World_Imagery/MapServer/tile/{z}/{y}/{x}',\n",
    "            attr = 'Esri', name = 'Esri Satellite', overlay = False, control = True\n",
    "        ).add_to(m)\n",
    "    \n",
    "    # Bounds of inital point\n",
    "    bounds = [[pt[0], pt[1]],[pt[0], pt[1]]] #southwest, northeast\n",
    "    \n",
    "    # Plot lines of geometry\n",
    "    if geometry:\n",
    "        if show_geometry:\n",
    "            folium.GeoJson(data=geometry).add_to(m)\n",
    "            bounds_fit = geometry_bbox(geometry, init_bounds=bounds, x_offset=0, y_offset=0)\n",
    "    \n",
    "    m.fit_bounds(bounds_fit)\n",
    "    \n",
    "    return m, bounds"
   ]
  },
  {
   "cell_type": "code",
   "execution_count": null,
   "id": "770eab61-cba1-458c-9e8f-4777690d1bc8",
   "metadata": {},
   "outputs": [],
   "source": []
  },
  {
   "cell_type": "markdown",
   "id": "e19a1be3-11c3-4a49-a89c-c04f1556f874",
   "metadata": {},
   "source": [
    "## 3) Manually filter images"
   ]
  },
  {
   "cell_type": "markdown",
   "id": "dc836973-9b48-4d35-9d4f-0e635c3f8c08",
   "metadata": {},
   "source": [
    "### Instructions\n",
    "\n",
    "- Start with the selection procedure by executing the cell below.\n",
    "\n",
    "- If an image is fine, just press enter while the courser is in the input cell.\n",
    "\n",
    "- If it is faulty in any way, enter any character of your choice (unequal \"t\" and \"exit\").\n",
    "\n",
    "- To stop the procedure, type and enter \"exit\".\n",
    "\n",
    "- If the image shown is a truck parking lot, type \"t\" (pay attention to not press t to blacklist an item!)\n",
    "\n",
    "- The counter and id of the last image checked will be printed. If you stop and want to proceed later on, change the start_nr variable below to the last number printed.\n",
    "\n",
    "- If the interactive \"pop-up\" of the map is too big (i.e. you always have to scroll down to get to the input bar), just adjust the window width (in jupyter lab, increase the width of the data browser on the left)\n",
    "\n",
    "<br>\n",
    "\n",
    "#### Caution:\n",
    "- Don't forget to save the blacklist and whitelist as csv **before** re-running the selection cell (resets lists!)\n",
    "\n",
    "- Always change the file name after saving a new set of lists.\n",
    "\n",
    "- Always note the last counter value you checked when exiting, in order to know where to resume (best practice would be to change the start_nr parameter after each run).\n",
    "\n",
    "- If you exit the loop, the last image shown will **not** yet be saved as ok nor faulty."
   ]
  },
  {
   "cell_type": "code",
   "execution_count": 12,
   "id": "d76abc1e-ef4d-4f73-bce8-67b0aa0ed22c",
   "metadata": {
    "tags": []
   },
   "outputs": [
    {
     "data": {
      "text/html": [
       "<div style=\"width:100%;\"><div style=\"position:relative;width:100%;height:0;padding-bottom:60%;\"><span style=\"color:#565656\">Make this Notebook Trusted to load map: File -> Trust Notebook</span><iframe src=\"about:blank\" style=\"position:absolute;width:100%;height:100%;left:0;top:0;border:none !important;\" data-html=%3C%21DOCTYPE%20html%3E%0A%3Chead%3E%20%20%20%20%0A%20%20%20%20%3Cmeta%20http-equiv%3D%22content-type%22%20content%3D%22text/html%3B%20charset%3DUTF-8%22%20/%3E%0A%20%20%20%20%0A%20%20%20%20%20%20%20%20%3Cscript%3E%0A%20%20%20%20%20%20%20%20%20%20%20%20L_NO_TOUCH%20%3D%20false%3B%0A%20%20%20%20%20%20%20%20%20%20%20%20L_DISABLE_3D%20%3D%20false%3B%0A%20%20%20%20%20%20%20%20%3C/script%3E%0A%20%20%20%20%0A%20%20%20%20%3Cstyle%3Ehtml%2C%20body%20%7Bwidth%3A%20100%25%3Bheight%3A%20100%25%3Bmargin%3A%200%3Bpadding%3A%200%3B%7D%3C/style%3E%0A%20%20%20%20%3Cstyle%3E%23map%20%7Bposition%3Aabsolute%3Btop%3A0%3Bbottom%3A0%3Bright%3A0%3Bleft%3A0%3B%7D%3C/style%3E%0A%20%20%20%20%3Cscript%20src%3D%22https%3A//cdn.jsdelivr.net/npm/leaflet%401.6.0/dist/leaflet.js%22%3E%3C/script%3E%0A%20%20%20%20%3Cscript%20src%3D%22https%3A//code.jquery.com/jquery-1.12.4.min.js%22%3E%3C/script%3E%0A%20%20%20%20%3Cscript%20src%3D%22https%3A//maxcdn.bootstrapcdn.com/bootstrap/3.2.0/js/bootstrap.min.js%22%3E%3C/script%3E%0A%20%20%20%20%3Cscript%20src%3D%22https%3A//cdnjs.cloudflare.com/ajax/libs/Leaflet.awesome-markers/2.0.2/leaflet.awesome-markers.js%22%3E%3C/script%3E%0A%20%20%20%20%3Clink%20rel%3D%22stylesheet%22%20href%3D%22https%3A//cdn.jsdelivr.net/npm/leaflet%401.6.0/dist/leaflet.css%22/%3E%0A%20%20%20%20%3Clink%20rel%3D%22stylesheet%22%20href%3D%22https%3A//maxcdn.bootstrapcdn.com/bootstrap/3.2.0/css/bootstrap.min.css%22/%3E%0A%20%20%20%20%3Clink%20rel%3D%22stylesheet%22%20href%3D%22https%3A//maxcdn.bootstrapcdn.com/bootstrap/3.2.0/css/bootstrap-theme.min.css%22/%3E%0A%20%20%20%20%3Clink%20rel%3D%22stylesheet%22%20href%3D%22https%3A//maxcdn.bootstrapcdn.com/font-awesome/4.6.3/css/font-awesome.min.css%22/%3E%0A%20%20%20%20%3Clink%20rel%3D%22stylesheet%22%20href%3D%22https%3A//cdnjs.cloudflare.com/ajax/libs/Leaflet.awesome-markers/2.0.2/leaflet.awesome-markers.css%22/%3E%0A%20%20%20%20%3Clink%20rel%3D%22stylesheet%22%20href%3D%22https%3A//cdn.jsdelivr.net/gh/python-visualization/folium/folium/templates/leaflet.awesome.rotate.min.css%22/%3E%0A%20%20%20%20%0A%20%20%20%20%20%20%20%20%20%20%20%20%3Cmeta%20name%3D%22viewport%22%20content%3D%22width%3Ddevice-width%2C%0A%20%20%20%20%20%20%20%20%20%20%20%20%20%20%20%20initial-scale%3D1.0%2C%20maximum-scale%3D1.0%2C%20user-scalable%3Dno%22%20/%3E%0A%20%20%20%20%20%20%20%20%20%20%20%20%3Cstyle%3E%0A%20%20%20%20%20%20%20%20%20%20%20%20%20%20%20%20%23map_63309e2316844af797d22ccd5c8ece5d%20%7B%0A%20%20%20%20%20%20%20%20%20%20%20%20%20%20%20%20%20%20%20%20position%3A%20relative%3B%0A%20%20%20%20%20%20%20%20%20%20%20%20%20%20%20%20%20%20%20%20width%3A%20640.0px%3B%0A%20%20%20%20%20%20%20%20%20%20%20%20%20%20%20%20%20%20%20%20height%3A%20640.0px%3B%0A%20%20%20%20%20%20%20%20%20%20%20%20%20%20%20%20%20%20%20%20left%3A%200.0%25%3B%0A%20%20%20%20%20%20%20%20%20%20%20%20%20%20%20%20%20%20%20%20top%3A%200.0%25%3B%0A%20%20%20%20%20%20%20%20%20%20%20%20%20%20%20%20%7D%0A%20%20%20%20%20%20%20%20%20%20%20%20%3C/style%3E%0A%20%20%20%20%20%20%20%20%0A%3C/head%3E%0A%3Cbody%3E%20%20%20%20%0A%20%20%20%20%0A%20%20%20%20%20%20%20%20%20%20%20%20%3Cdiv%20class%3D%22folium-map%22%20id%3D%22map_63309e2316844af797d22ccd5c8ece5d%22%20%3E%3C/div%3E%0A%20%20%20%20%20%20%20%20%0A%3C/body%3E%0A%3Cscript%3E%20%20%20%20%0A%20%20%20%20%0A%20%20%20%20%20%20%20%20%20%20%20%20var%20map_63309e2316844af797d22ccd5c8ece5d%20%3D%20L.map%28%0A%20%20%20%20%20%20%20%20%20%20%20%20%20%20%20%20%22map_63309e2316844af797d22ccd5c8ece5d%22%2C%0A%20%20%20%20%20%20%20%20%20%20%20%20%20%20%20%20%7B%0A%20%20%20%20%20%20%20%20%20%20%20%20%20%20%20%20%20%20%20%20center%3A%20%5B45.4727254%2C%203.2479538%5D%2C%0A%20%20%20%20%20%20%20%20%20%20%20%20%20%20%20%20%20%20%20%20crs%3A%20L.CRS.EPSG3857%2C%0A%20%20%20%20%20%20%20%20%20%20%20%20%20%20%20%20%20%20%20%20zoom%3A%2010%2C%0A%20%20%20%20%20%20%20%20%20%20%20%20%20%20%20%20%20%20%20%20zoomControl%3A%20false%2C%0A%20%20%20%20%20%20%20%20%20%20%20%20%20%20%20%20%20%20%20%20preferCanvas%3A%20false%2C%0A%20%20%20%20%20%20%20%20%20%20%20%20%20%20%20%20%20%20%20%20attributionControl%3A%20false%2C%0A%20%20%20%20%20%20%20%20%20%20%20%20%20%20%20%20%7D%0A%20%20%20%20%20%20%20%20%20%20%20%20%29%3B%0A%0A%20%20%20%20%20%20%20%20%20%20%20%20%0A%0A%20%20%20%20%20%20%20%20%0A%20%20%20%20%0A%20%20%20%20%20%20%20%20%20%20%20%20var%20tile_layer_aa0de5f9007d4ea39762a2f62ee5f9b9%20%3D%20L.tileLayer%28%0A%20%20%20%20%20%20%20%20%20%20%20%20%20%20%20%20%22https%3A//%7Bs%7D.tile.openstreetmap.org/%7Bz%7D/%7Bx%7D/%7By%7D.png%22%2C%0A%20%20%20%20%20%20%20%20%20%20%20%20%20%20%20%20%7B%22attribution%22%3A%20%22Data%20by%20%5Cu0026copy%3B%20%5Cu003ca%20href%3D%5C%22http%3A//openstreetmap.org%5C%22%5Cu003eOpenStreetMap%5Cu003c/a%5Cu003e%2C%20under%20%5Cu003ca%20href%3D%5C%22http%3A//www.openstreetmap.org/copyright%5C%22%5Cu003eODbL%5Cu003c/a%5Cu003e.%22%2C%20%22detectRetina%22%3A%20false%2C%20%22maxNativeZoom%22%3A%2018%2C%20%22maxZoom%22%3A%2018%2C%20%22minZoom%22%3A%2015%2C%20%22noWrap%22%3A%20false%2C%20%22opacity%22%3A%201%2C%20%22subdomains%22%3A%20%22abc%22%2C%20%22tms%22%3A%20false%7D%0A%20%20%20%20%20%20%20%20%20%20%20%20%29.addTo%28map_63309e2316844af797d22ccd5c8ece5d%29%3B%0A%20%20%20%20%20%20%20%20%0A%20%20%20%20%0A%20%20%20%20%20%20%20%20%20%20%20%20var%20tile_layer_b4c0359988d848adb6fb774b9aca288b%20%3D%20L.tileLayer%28%0A%20%20%20%20%20%20%20%20%20%20%20%20%20%20%20%20%22https%3A//clarity.maptiles.arcgis.com/arcgis/rest/services/World_Imagery/MapServer/tile/%7Bz%7D/%7By%7D/%7Bx%7D%22%2C%0A%20%20%20%20%20%20%20%20%20%20%20%20%20%20%20%20%7B%22attribution%22%3A%20%22Esri%22%2C%20%22detectRetina%22%3A%20false%2C%20%22maxNativeZoom%22%3A%2018%2C%20%22maxZoom%22%3A%2018%2C%20%22minZoom%22%3A%200%2C%20%22noWrap%22%3A%20false%2C%20%22opacity%22%3A%201%2C%20%22subdomains%22%3A%20%22abc%22%2C%20%22tms%22%3A%20false%7D%0A%20%20%20%20%20%20%20%20%20%20%20%20%29.addTo%28map_63309e2316844af797d22ccd5c8ece5d%29%3B%0A%20%20%20%20%20%20%20%20%0A%20%20%20%20%0A%0A%20%20%20%20%20%20%20%20function%20geo_json_aa1e459ecfd54b5690fe4cb079a2a532_onEachFeature%28feature%2C%20layer%29%20%7B%0A%20%20%20%20%20%20%20%20%20%20%20%20layer.on%28%7B%0A%20%20%20%20%20%20%20%20%20%20%20%20%7D%29%3B%0A%20%20%20%20%20%20%20%20%7D%3B%0A%20%20%20%20%20%20%20%20var%20geo_json_aa1e459ecfd54b5690fe4cb079a2a532%20%3D%20L.geoJson%28null%2C%20%7B%0A%20%20%20%20%20%20%20%20%20%20%20%20%20%20%20%20onEachFeature%3A%20geo_json_aa1e459ecfd54b5690fe4cb079a2a532_onEachFeature%2C%0A%20%20%20%20%20%20%20%20%20%20%20%20%0A%20%20%20%20%20%20%20%20%7D%29%3B%0A%0A%20%20%20%20%20%20%20%20function%20geo_json_aa1e459ecfd54b5690fe4cb079a2a532_add%20%28data%29%20%7B%0A%20%20%20%20%20%20%20%20%20%20%20%20geo_json_aa1e459ecfd54b5690fe4cb079a2a532%0A%20%20%20%20%20%20%20%20%20%20%20%20%20%20%20%20.addData%28data%29%0A%20%20%20%20%20%20%20%20%20%20%20%20%20%20%20%20.addTo%28map_63309e2316844af797d22ccd5c8ece5d%29%3B%0A%20%20%20%20%20%20%20%20%7D%0A%20%20%20%20%20%20%20%20%20%20%20%20geo_json_aa1e459ecfd54b5690fe4cb079a2a532_add%28%7B%22coordinates%22%3A%20%5B%5B%5B3.2479538%2C%2045.4727254%5D%2C%20%5B3.2479409%2C%2045.4727718%5D%2C%20%5B3.2476895%2C%2045.4728651%5D%2C%20%5B3.2476933%2C%2045.4728048%5D%2C%20%5B3.2476986%2C%2045.4727516%5D%2C%20%5B3.2479644%2C%2045.4726639%5D%2C%20%5B3.2479538%2C%2045.4727254%5D%5D%5D%2C%20%22type%22%3A%20%22Polygon%22%7D%29%3B%0A%0A%20%20%20%20%20%20%20%20%0A%20%20%20%20%0A%20%20%20%20%20%20%20%20%20%20%20%20map_63309e2316844af797d22ccd5c8ece5d.fitBounds%28%0A%20%20%20%20%20%20%20%20%20%20%20%20%20%20%20%20%5B%5B45.4726639%2C%203.2479644%5D%2C%20%5B45.4728651%2C%203.2476895%5D%5D%2C%0A%20%20%20%20%20%20%20%20%20%20%20%20%20%20%20%20%7B%7D%0A%20%20%20%20%20%20%20%20%20%20%20%20%29%3B%0A%20%20%20%20%20%20%20%20%0A%3C/script%3E onload=\"this.contentDocument.open();this.contentDocument.write(    decodeURIComponent(this.getAttribute('data-html')));this.contentDocument.close();\" allowfullscreen webkitallowfullscreen mozallowfullscreen></iframe></div></div>"
      ],
      "text/plain": [
       "<folium.folium.Map at 0x1a851591940>"
      ]
     },
     "metadata": {},
     "output_type": "display_data"
    },
    {
     "name": "stdin",
     "output_type": "stream",
     "text": [
      "Image Nr. 0 ok? Just enter. If truck, type \"t\". To exit type \"exit\" \n"
     ]
    },
    {
     "name": "stdout",
     "output_type": "stream",
     "text": [
      "Last image checked: 45.4727254_3.2479538_ts2\n",
      "\n"
     ]
    },
    {
     "data": {
      "text/html": [
       "<div style=\"width:100%;\"><div style=\"position:relative;width:100%;height:0;padding-bottom:60%;\"><span style=\"color:#565656\">Make this Notebook Trusted to load map: File -> Trust Notebook</span><iframe src=\"about:blank\" style=\"position:absolute;width:100%;height:100%;left:0;top:0;border:none !important;\" data-html=%3C%21DOCTYPE%20html%3E%0A%3Chead%3E%20%20%20%20%0A%20%20%20%20%3Cmeta%20http-equiv%3D%22content-type%22%20content%3D%22text/html%3B%20charset%3DUTF-8%22%20/%3E%0A%20%20%20%20%0A%20%20%20%20%20%20%20%20%3Cscript%3E%0A%20%20%20%20%20%20%20%20%20%20%20%20L_NO_TOUCH%20%3D%20false%3B%0A%20%20%20%20%20%20%20%20%20%20%20%20L_DISABLE_3D%20%3D%20false%3B%0A%20%20%20%20%20%20%20%20%3C/script%3E%0A%20%20%20%20%0A%20%20%20%20%3Cstyle%3Ehtml%2C%20body%20%7Bwidth%3A%20100%25%3Bheight%3A%20100%25%3Bmargin%3A%200%3Bpadding%3A%200%3B%7D%3C/style%3E%0A%20%20%20%20%3Cstyle%3E%23map%20%7Bposition%3Aabsolute%3Btop%3A0%3Bbottom%3A0%3Bright%3A0%3Bleft%3A0%3B%7D%3C/style%3E%0A%20%20%20%20%3Cscript%20src%3D%22https%3A//cdn.jsdelivr.net/npm/leaflet%401.6.0/dist/leaflet.js%22%3E%3C/script%3E%0A%20%20%20%20%3Cscript%20src%3D%22https%3A//code.jquery.com/jquery-1.12.4.min.js%22%3E%3C/script%3E%0A%20%20%20%20%3Cscript%20src%3D%22https%3A//maxcdn.bootstrapcdn.com/bootstrap/3.2.0/js/bootstrap.min.js%22%3E%3C/script%3E%0A%20%20%20%20%3Cscript%20src%3D%22https%3A//cdnjs.cloudflare.com/ajax/libs/Leaflet.awesome-markers/2.0.2/leaflet.awesome-markers.js%22%3E%3C/script%3E%0A%20%20%20%20%3Clink%20rel%3D%22stylesheet%22%20href%3D%22https%3A//cdn.jsdelivr.net/npm/leaflet%401.6.0/dist/leaflet.css%22/%3E%0A%20%20%20%20%3Clink%20rel%3D%22stylesheet%22%20href%3D%22https%3A//maxcdn.bootstrapcdn.com/bootstrap/3.2.0/css/bootstrap.min.css%22/%3E%0A%20%20%20%20%3Clink%20rel%3D%22stylesheet%22%20href%3D%22https%3A//maxcdn.bootstrapcdn.com/bootstrap/3.2.0/css/bootstrap-theme.min.css%22/%3E%0A%20%20%20%20%3Clink%20rel%3D%22stylesheet%22%20href%3D%22https%3A//maxcdn.bootstrapcdn.com/font-awesome/4.6.3/css/font-awesome.min.css%22/%3E%0A%20%20%20%20%3Clink%20rel%3D%22stylesheet%22%20href%3D%22https%3A//cdnjs.cloudflare.com/ajax/libs/Leaflet.awesome-markers/2.0.2/leaflet.awesome-markers.css%22/%3E%0A%20%20%20%20%3Clink%20rel%3D%22stylesheet%22%20href%3D%22https%3A//cdn.jsdelivr.net/gh/python-visualization/folium/folium/templates/leaflet.awesome.rotate.min.css%22/%3E%0A%20%20%20%20%0A%20%20%20%20%20%20%20%20%20%20%20%20%3Cmeta%20name%3D%22viewport%22%20content%3D%22width%3Ddevice-width%2C%0A%20%20%20%20%20%20%20%20%20%20%20%20%20%20%20%20initial-scale%3D1.0%2C%20maximum-scale%3D1.0%2C%20user-scalable%3Dno%22%20/%3E%0A%20%20%20%20%20%20%20%20%20%20%20%20%3Cstyle%3E%0A%20%20%20%20%20%20%20%20%20%20%20%20%20%20%20%20%23map_b071a66284024bf29bbb5ec4be73cfa7%20%7B%0A%20%20%20%20%20%20%20%20%20%20%20%20%20%20%20%20%20%20%20%20position%3A%20relative%3B%0A%20%20%20%20%20%20%20%20%20%20%20%20%20%20%20%20%20%20%20%20width%3A%20640.0px%3B%0A%20%20%20%20%20%20%20%20%20%20%20%20%20%20%20%20%20%20%20%20height%3A%20640.0px%3B%0A%20%20%20%20%20%20%20%20%20%20%20%20%20%20%20%20%20%20%20%20left%3A%200.0%25%3B%0A%20%20%20%20%20%20%20%20%20%20%20%20%20%20%20%20%20%20%20%20top%3A%200.0%25%3B%0A%20%20%20%20%20%20%20%20%20%20%20%20%20%20%20%20%7D%0A%20%20%20%20%20%20%20%20%20%20%20%20%3C/style%3E%0A%20%20%20%20%20%20%20%20%0A%3C/head%3E%0A%3Cbody%3E%20%20%20%20%0A%20%20%20%20%0A%20%20%20%20%20%20%20%20%20%20%20%20%3Cdiv%20class%3D%22folium-map%22%20id%3D%22map_b071a66284024bf29bbb5ec4be73cfa7%22%20%3E%3C/div%3E%0A%20%20%20%20%20%20%20%20%0A%3C/body%3E%0A%3Cscript%3E%20%20%20%20%0A%20%20%20%20%0A%20%20%20%20%20%20%20%20%20%20%20%20var%20map_b071a66284024bf29bbb5ec4be73cfa7%20%3D%20L.map%28%0A%20%20%20%20%20%20%20%20%20%20%20%20%20%20%20%20%22map_b071a66284024bf29bbb5ec4be73cfa7%22%2C%0A%20%20%20%20%20%20%20%20%20%20%20%20%20%20%20%20%7B%0A%20%20%20%20%20%20%20%20%20%20%20%20%20%20%20%20%20%20%20%20center%3A%20%5B43.4387796%2C%20-112.1136612%5D%2C%0A%20%20%20%20%20%20%20%20%20%20%20%20%20%20%20%20%20%20%20%20crs%3A%20L.CRS.EPSG3857%2C%0A%20%20%20%20%20%20%20%20%20%20%20%20%20%20%20%20%20%20%20%20zoom%3A%2010%2C%0A%20%20%20%20%20%20%20%20%20%20%20%20%20%20%20%20%20%20%20%20zoomControl%3A%20false%2C%0A%20%20%20%20%20%20%20%20%20%20%20%20%20%20%20%20%20%20%20%20preferCanvas%3A%20false%2C%0A%20%20%20%20%20%20%20%20%20%20%20%20%20%20%20%20%20%20%20%20attributionControl%3A%20false%2C%0A%20%20%20%20%20%20%20%20%20%20%20%20%20%20%20%20%7D%0A%20%20%20%20%20%20%20%20%20%20%20%20%29%3B%0A%0A%20%20%20%20%20%20%20%20%20%20%20%20%0A%0A%20%20%20%20%20%20%20%20%0A%20%20%20%20%0A%20%20%20%20%20%20%20%20%20%20%20%20var%20tile_layer_7681028bddf34bc4aa77eed43edf102e%20%3D%20L.tileLayer%28%0A%20%20%20%20%20%20%20%20%20%20%20%20%20%20%20%20%22https%3A//%7Bs%7D.tile.openstreetmap.org/%7Bz%7D/%7Bx%7D/%7By%7D.png%22%2C%0A%20%20%20%20%20%20%20%20%20%20%20%20%20%20%20%20%7B%22attribution%22%3A%20%22Data%20by%20%5Cu0026copy%3B%20%5Cu003ca%20href%3D%5C%22http%3A//openstreetmap.org%5C%22%5Cu003eOpenStreetMap%5Cu003c/a%5Cu003e%2C%20under%20%5Cu003ca%20href%3D%5C%22http%3A//www.openstreetmap.org/copyright%5C%22%5Cu003eODbL%5Cu003c/a%5Cu003e.%22%2C%20%22detectRetina%22%3A%20false%2C%20%22maxNativeZoom%22%3A%2018%2C%20%22maxZoom%22%3A%2018%2C%20%22minZoom%22%3A%2015%2C%20%22noWrap%22%3A%20false%2C%20%22opacity%22%3A%201%2C%20%22subdomains%22%3A%20%22abc%22%2C%20%22tms%22%3A%20false%7D%0A%20%20%20%20%20%20%20%20%20%20%20%20%29.addTo%28map_b071a66284024bf29bbb5ec4be73cfa7%29%3B%0A%20%20%20%20%20%20%20%20%0A%20%20%20%20%0A%20%20%20%20%20%20%20%20%20%20%20%20var%20tile_layer_06ef14a5c40340409b1a8efacf3c0591%20%3D%20L.tileLayer%28%0A%20%20%20%20%20%20%20%20%20%20%20%20%20%20%20%20%22https%3A//clarity.maptiles.arcgis.com/arcgis/rest/services/World_Imagery/MapServer/tile/%7Bz%7D/%7By%7D/%7Bx%7D%22%2C%0A%20%20%20%20%20%20%20%20%20%20%20%20%20%20%20%20%7B%22attribution%22%3A%20%22Esri%22%2C%20%22detectRetina%22%3A%20false%2C%20%22maxNativeZoom%22%3A%2018%2C%20%22maxZoom%22%3A%2018%2C%20%22minZoom%22%3A%200%2C%20%22noWrap%22%3A%20false%2C%20%22opacity%22%3A%201%2C%20%22subdomains%22%3A%20%22abc%22%2C%20%22tms%22%3A%20false%7D%0A%20%20%20%20%20%20%20%20%20%20%20%20%29.addTo%28map_b071a66284024bf29bbb5ec4be73cfa7%29%3B%0A%20%20%20%20%20%20%20%20%0A%20%20%20%20%0A%0A%20%20%20%20%20%20%20%20function%20geo_json_20d184f22e2c48a08018bc49cfe65348_onEachFeature%28feature%2C%20layer%29%20%7B%0A%20%20%20%20%20%20%20%20%20%20%20%20layer.on%28%7B%0A%20%20%20%20%20%20%20%20%20%20%20%20%7D%29%3B%0A%20%20%20%20%20%20%20%20%7D%3B%0A%20%20%20%20%20%20%20%20var%20geo_json_20d184f22e2c48a08018bc49cfe65348%20%3D%20L.geoJson%28null%2C%20%7B%0A%20%20%20%20%20%20%20%20%20%20%20%20%20%20%20%20onEachFeature%3A%20geo_json_20d184f22e2c48a08018bc49cfe65348_onEachFeature%2C%0A%20%20%20%20%20%20%20%20%20%20%20%20%0A%20%20%20%20%20%20%20%20%7D%29%3B%0A%0A%20%20%20%20%20%20%20%20function%20geo_json_20d184f22e2c48a08018bc49cfe65348_add%20%28data%29%20%7B%0A%20%20%20%20%20%20%20%20%20%20%20%20geo_json_20d184f22e2c48a08018bc49cfe65348%0A%20%20%20%20%20%20%20%20%20%20%20%20%20%20%20%20.addData%28data%29%0A%20%20%20%20%20%20%20%20%20%20%20%20%20%20%20%20.addTo%28map_b071a66284024bf29bbb5ec4be73cfa7%29%3B%0A%20%20%20%20%20%20%20%20%7D%0A%20%20%20%20%20%20%20%20%20%20%20%20geo_json_20d184f22e2c48a08018bc49cfe65348_add%28%7B%22coordinates%22%3A%20%5B%5B%5B-112.1136612%2C%2043.4387796%5D%2C%20%5B-112.1137506%2C%2043.4382748%5D%2C%20%5B-112.1136693%2C%2043.4380652%5D%2C%20%5B-112.1133806%2C%2043.4381154%5D%2C%20%5B-112.1134223%2C%2043.4383024%5D%2C%20%5B-112.1131448%2C%2043.438322%5D%2C%20%5B-112.1131489%2C%2043.4387707%5D%2C%20%5B-112.1134071%2C%2043.4387699%5D%2C%20%5B-112.1134172%2C%2043.4389567%5D%2C%20%5B-112.1136571%2C%2043.4389567%5D%2C%20%5B-112.1136612%2C%2043.4387796%5D%5D%5D%2C%20%22type%22%3A%20%22Polygon%22%7D%29%3B%0A%0A%20%20%20%20%20%20%20%20%0A%20%20%20%20%0A%20%20%20%20%20%20%20%20%20%20%20%20map_b071a66284024bf29bbb5ec4be73cfa7.fitBounds%28%0A%20%20%20%20%20%20%20%20%20%20%20%20%20%20%20%20%5B%5B43.4380652%2C%20-112.1131448%5D%2C%20%5B43.4389567%2C%20-112.1137506%5D%5D%2C%0A%20%20%20%20%20%20%20%20%20%20%20%20%20%20%20%20%7B%7D%0A%20%20%20%20%20%20%20%20%20%20%20%20%29%3B%0A%20%20%20%20%20%20%20%20%0A%3C/script%3E onload=\"this.contentDocument.open();this.contentDocument.write(    decodeURIComponent(this.getAttribute('data-html')));this.contentDocument.close();\" allowfullscreen webkitallowfullscreen mozallowfullscreen></iframe></div></div>"
      ],
      "text/plain": [
       "<folium.folium.Map at 0x1a837c34e50>"
      ]
     },
     "metadata": {},
     "output_type": "display_data"
    },
    {
     "name": "stdin",
     "output_type": "stream",
     "text": [
      "Image Nr. 1 ok? Just enter. If truck, type \"t\". To exit type \"exit\"  \n"
     ]
    },
    {
     "name": "stdout",
     "output_type": "stream",
     "text": [
      "Last image checked: 43.4387796_-112.1136612_ts2\n",
      "\n"
     ]
    },
    {
     "data": {
      "text/html": [
       "<div style=\"width:100%;\"><div style=\"position:relative;width:100%;height:0;padding-bottom:60%;\"><span style=\"color:#565656\">Make this Notebook Trusted to load map: File -> Trust Notebook</span><iframe src=\"about:blank\" style=\"position:absolute;width:100%;height:100%;left:0;top:0;border:none !important;\" data-html=%3C%21DOCTYPE%20html%3E%0A%3Chead%3E%20%20%20%20%0A%20%20%20%20%3Cmeta%20http-equiv%3D%22content-type%22%20content%3D%22text/html%3B%20charset%3DUTF-8%22%20/%3E%0A%20%20%20%20%0A%20%20%20%20%20%20%20%20%3Cscript%3E%0A%20%20%20%20%20%20%20%20%20%20%20%20L_NO_TOUCH%20%3D%20false%3B%0A%20%20%20%20%20%20%20%20%20%20%20%20L_DISABLE_3D%20%3D%20false%3B%0A%20%20%20%20%20%20%20%20%3C/script%3E%0A%20%20%20%20%0A%20%20%20%20%3Cstyle%3Ehtml%2C%20body%20%7Bwidth%3A%20100%25%3Bheight%3A%20100%25%3Bmargin%3A%200%3Bpadding%3A%200%3B%7D%3C/style%3E%0A%20%20%20%20%3Cstyle%3E%23map%20%7Bposition%3Aabsolute%3Btop%3A0%3Bbottom%3A0%3Bright%3A0%3Bleft%3A0%3B%7D%3C/style%3E%0A%20%20%20%20%3Cscript%20src%3D%22https%3A//cdn.jsdelivr.net/npm/leaflet%401.6.0/dist/leaflet.js%22%3E%3C/script%3E%0A%20%20%20%20%3Cscript%20src%3D%22https%3A//code.jquery.com/jquery-1.12.4.min.js%22%3E%3C/script%3E%0A%20%20%20%20%3Cscript%20src%3D%22https%3A//maxcdn.bootstrapcdn.com/bootstrap/3.2.0/js/bootstrap.min.js%22%3E%3C/script%3E%0A%20%20%20%20%3Cscript%20src%3D%22https%3A//cdnjs.cloudflare.com/ajax/libs/Leaflet.awesome-markers/2.0.2/leaflet.awesome-markers.js%22%3E%3C/script%3E%0A%20%20%20%20%3Clink%20rel%3D%22stylesheet%22%20href%3D%22https%3A//cdn.jsdelivr.net/npm/leaflet%401.6.0/dist/leaflet.css%22/%3E%0A%20%20%20%20%3Clink%20rel%3D%22stylesheet%22%20href%3D%22https%3A//maxcdn.bootstrapcdn.com/bootstrap/3.2.0/css/bootstrap.min.css%22/%3E%0A%20%20%20%20%3Clink%20rel%3D%22stylesheet%22%20href%3D%22https%3A//maxcdn.bootstrapcdn.com/bootstrap/3.2.0/css/bootstrap-theme.min.css%22/%3E%0A%20%20%20%20%3Clink%20rel%3D%22stylesheet%22%20href%3D%22https%3A//maxcdn.bootstrapcdn.com/font-awesome/4.6.3/css/font-awesome.min.css%22/%3E%0A%20%20%20%20%3Clink%20rel%3D%22stylesheet%22%20href%3D%22https%3A//cdnjs.cloudflare.com/ajax/libs/Leaflet.awesome-markers/2.0.2/leaflet.awesome-markers.css%22/%3E%0A%20%20%20%20%3Clink%20rel%3D%22stylesheet%22%20href%3D%22https%3A//cdn.jsdelivr.net/gh/python-visualization/folium/folium/templates/leaflet.awesome.rotate.min.css%22/%3E%0A%20%20%20%20%0A%20%20%20%20%20%20%20%20%20%20%20%20%3Cmeta%20name%3D%22viewport%22%20content%3D%22width%3Ddevice-width%2C%0A%20%20%20%20%20%20%20%20%20%20%20%20%20%20%20%20initial-scale%3D1.0%2C%20maximum-scale%3D1.0%2C%20user-scalable%3Dno%22%20/%3E%0A%20%20%20%20%20%20%20%20%20%20%20%20%3Cstyle%3E%0A%20%20%20%20%20%20%20%20%20%20%20%20%20%20%20%20%23map_ad7a7c91c4344279afaad0b779be3188%20%7B%0A%20%20%20%20%20%20%20%20%20%20%20%20%20%20%20%20%20%20%20%20position%3A%20relative%3B%0A%20%20%20%20%20%20%20%20%20%20%20%20%20%20%20%20%20%20%20%20width%3A%20640.0px%3B%0A%20%20%20%20%20%20%20%20%20%20%20%20%20%20%20%20%20%20%20%20height%3A%20640.0px%3B%0A%20%20%20%20%20%20%20%20%20%20%20%20%20%20%20%20%20%20%20%20left%3A%200.0%25%3B%0A%20%20%20%20%20%20%20%20%20%20%20%20%20%20%20%20%20%20%20%20top%3A%200.0%25%3B%0A%20%20%20%20%20%20%20%20%20%20%20%20%20%20%20%20%7D%0A%20%20%20%20%20%20%20%20%20%20%20%20%3C/style%3E%0A%20%20%20%20%20%20%20%20%0A%3C/head%3E%0A%3Cbody%3E%20%20%20%20%0A%20%20%20%20%0A%20%20%20%20%20%20%20%20%20%20%20%20%3Cdiv%20class%3D%22folium-map%22%20id%3D%22map_ad7a7c91c4344279afaad0b779be3188%22%20%3E%3C/div%3E%0A%20%20%20%20%20%20%20%20%0A%3C/body%3E%0A%3Cscript%3E%20%20%20%20%0A%20%20%20%20%0A%20%20%20%20%20%20%20%20%20%20%20%20var%20map_ad7a7c91c4344279afaad0b779be3188%20%3D%20L.map%28%0A%20%20%20%20%20%20%20%20%20%20%20%20%20%20%20%20%22map_ad7a7c91c4344279afaad0b779be3188%22%2C%0A%20%20%20%20%20%20%20%20%20%20%20%20%20%20%20%20%7B%0A%20%20%20%20%20%20%20%20%20%20%20%20%20%20%20%20%20%20%20%20center%3A%20%5B49.7030926%2C%2012.9882907%5D%2C%0A%20%20%20%20%20%20%20%20%20%20%20%20%20%20%20%20%20%20%20%20crs%3A%20L.CRS.EPSG3857%2C%0A%20%20%20%20%20%20%20%20%20%20%20%20%20%20%20%20%20%20%20%20zoom%3A%2010%2C%0A%20%20%20%20%20%20%20%20%20%20%20%20%20%20%20%20%20%20%20%20zoomControl%3A%20false%2C%0A%20%20%20%20%20%20%20%20%20%20%20%20%20%20%20%20%20%20%20%20preferCanvas%3A%20false%2C%0A%20%20%20%20%20%20%20%20%20%20%20%20%20%20%20%20%20%20%20%20attributionControl%3A%20false%2C%0A%20%20%20%20%20%20%20%20%20%20%20%20%20%20%20%20%7D%0A%20%20%20%20%20%20%20%20%20%20%20%20%29%3B%0A%0A%20%20%20%20%20%20%20%20%20%20%20%20%0A%0A%20%20%20%20%20%20%20%20%0A%20%20%20%20%0A%20%20%20%20%20%20%20%20%20%20%20%20var%20tile_layer_5d8258b0fa7747f78093cd2a8fa80f80%20%3D%20L.tileLayer%28%0A%20%20%20%20%20%20%20%20%20%20%20%20%20%20%20%20%22https%3A//%7Bs%7D.tile.openstreetmap.org/%7Bz%7D/%7Bx%7D/%7By%7D.png%22%2C%0A%20%20%20%20%20%20%20%20%20%20%20%20%20%20%20%20%7B%22attribution%22%3A%20%22Data%20by%20%5Cu0026copy%3B%20%5Cu003ca%20href%3D%5C%22http%3A//openstreetmap.org%5C%22%5Cu003eOpenStreetMap%5Cu003c/a%5Cu003e%2C%20under%20%5Cu003ca%20href%3D%5C%22http%3A//www.openstreetmap.org/copyright%5C%22%5Cu003eODbL%5Cu003c/a%5Cu003e.%22%2C%20%22detectRetina%22%3A%20false%2C%20%22maxNativeZoom%22%3A%2018%2C%20%22maxZoom%22%3A%2018%2C%20%22minZoom%22%3A%2015%2C%20%22noWrap%22%3A%20false%2C%20%22opacity%22%3A%201%2C%20%22subdomains%22%3A%20%22abc%22%2C%20%22tms%22%3A%20false%7D%0A%20%20%20%20%20%20%20%20%20%20%20%20%29.addTo%28map_ad7a7c91c4344279afaad0b779be3188%29%3B%0A%20%20%20%20%20%20%20%20%0A%20%20%20%20%0A%20%20%20%20%20%20%20%20%20%20%20%20var%20tile_layer_6a2c82ef54914fbc94ac13fad71fb699%20%3D%20L.tileLayer%28%0A%20%20%20%20%20%20%20%20%20%20%20%20%20%20%20%20%22https%3A//clarity.maptiles.arcgis.com/arcgis/rest/services/World_Imagery/MapServer/tile/%7Bz%7D/%7By%7D/%7Bx%7D%22%2C%0A%20%20%20%20%20%20%20%20%20%20%20%20%20%20%20%20%7B%22attribution%22%3A%20%22Esri%22%2C%20%22detectRetina%22%3A%20false%2C%20%22maxNativeZoom%22%3A%2018%2C%20%22maxZoom%22%3A%2018%2C%20%22minZoom%22%3A%200%2C%20%22noWrap%22%3A%20false%2C%20%22opacity%22%3A%201%2C%20%22subdomains%22%3A%20%22abc%22%2C%20%22tms%22%3A%20false%7D%0A%20%20%20%20%20%20%20%20%20%20%20%20%29.addTo%28map_ad7a7c91c4344279afaad0b779be3188%29%3B%0A%20%20%20%20%20%20%20%20%0A%20%20%20%20%0A%0A%20%20%20%20%20%20%20%20function%20geo_json_8530a375428247d482e38361ffd8e88f_onEachFeature%28feature%2C%20layer%29%20%7B%0A%20%20%20%20%20%20%20%20%20%20%20%20layer.on%28%7B%0A%20%20%20%20%20%20%20%20%20%20%20%20%7D%29%3B%0A%20%20%20%20%20%20%20%20%7D%3B%0A%20%20%20%20%20%20%20%20var%20geo_json_8530a375428247d482e38361ffd8e88f%20%3D%20L.geoJson%28null%2C%20%7B%0A%20%20%20%20%20%20%20%20%20%20%20%20%20%20%20%20onEachFeature%3A%20geo_json_8530a375428247d482e38361ffd8e88f_onEachFeature%2C%0A%20%20%20%20%20%20%20%20%20%20%20%20%0A%20%20%20%20%20%20%20%20%7D%29%3B%0A%0A%20%20%20%20%20%20%20%20function%20geo_json_8530a375428247d482e38361ffd8e88f_add%20%28data%29%20%7B%0A%20%20%20%20%20%20%20%20%20%20%20%20geo_json_8530a375428247d482e38361ffd8e88f%0A%20%20%20%20%20%20%20%20%20%20%20%20%20%20%20%20.addData%28data%29%0A%20%20%20%20%20%20%20%20%20%20%20%20%20%20%20%20.addTo%28map_ad7a7c91c4344279afaad0b779be3188%29%3B%0A%20%20%20%20%20%20%20%20%7D%0A%20%20%20%20%20%20%20%20%20%20%20%20geo_json_8530a375428247d482e38361ffd8e88f_add%28%7B%22coordinates%22%3A%20%5B%5B%5B12.9882907%2C%2049.7030926%5D%2C%20%5B12.9884926%2C%2049.7031894%5D%2C%20%5B12.9882796%2C%2049.7037795%5D%2C%20%5B12.9880754%2C%2049.7036862%5D%2C%20%5B12.9882907%2C%2049.7030926%5D%5D%5D%2C%20%22type%22%3A%20%22Polygon%22%7D%29%3B%0A%0A%20%20%20%20%20%20%20%20%0A%20%20%20%20%0A%20%20%20%20%20%20%20%20%20%20%20%20map_ad7a7c91c4344279afaad0b779be3188.fitBounds%28%0A%20%20%20%20%20%20%20%20%20%20%20%20%20%20%20%20%5B%5B49.7030926%2C%2012.9884926%5D%2C%20%5B49.7037795%2C%2012.9880754%5D%5D%2C%0A%20%20%20%20%20%20%20%20%20%20%20%20%20%20%20%20%7B%7D%0A%20%20%20%20%20%20%20%20%20%20%20%20%29%3B%0A%20%20%20%20%20%20%20%20%0A%3C/script%3E onload=\"this.contentDocument.open();this.contentDocument.write(    decodeURIComponent(this.getAttribute('data-html')));this.contentDocument.close();\" allowfullscreen webkitallowfullscreen mozallowfullscreen></iframe></div></div>"
      ],
      "text/plain": [
       "<folium.folium.Map at 0x1a837c340d0>"
      ]
     },
     "metadata": {},
     "output_type": "display_data"
    },
    {
     "name": "stdin",
     "output_type": "stream",
     "text": [
      "Image Nr. 2 ok? Just enter. If truck, type \"t\". To exit type \"exit\" exit\n"
     ]
    },
    {
     "name": "stdout",
     "output_type": "stream",
     "text": [
      "Image to be checked next: 49.7030926_12.9882907_ts2\n"
     ]
    }
   ],
   "source": [
    "# Sart selection\n",
    "start_nr = 0 # if you stop somewhere inbetween, enter here the last image nr. printed\n",
    "\n",
    "blacklist = []\n",
    "whitelist = []\n",
    "trucklist = []\n",
    "\n",
    "for i in range(start_nr, real_polys.shape[0]):\n",
    "    row = real_polys.iloc[i]\n",
    "    m, b = make_map(row.pt, TS, geometry=row.geometry, show_geometry=True, size=640) # create map with boundaries\n",
    "    \n",
    "    display(m)\n",
    "    inp = input(f\"Image Nr. {i} ok? Just enter. If truck, type \\\"t\\\". To exit type \\\"exit\\\"\")\n",
    "    \n",
    "    if inp == \"exit\":\n",
    "        print(\"Image to be checked next:\", row[\"id\"])\n",
    "        break\n",
    "    elif inp == \"t\":\n",
    "        trucklist.append(row[\"id\"]) # This feature may be useful if one is looking through car images and finds truck images\n",
    "    elif inp != \"\":\n",
    "        blacklist.append(row[\"id\"])\n",
    "    else: \n",
    "        whitelist.append(row[\"id\"])\n",
    "    \n",
    "    print(\"Last image checked:\", row[\"id\"])\n",
    "    print(\"\")"
   ]
  },
  {
   "cell_type": "code",
   "execution_count": 13,
   "id": "b9d309d5-e275-4464-8146-752ad1623f12",
   "metadata": {
    "tags": []
   },
   "outputs": [
    {
     "data": {
      "text/plain": [
       "['43.4387796_-112.1136612_ts2']"
      ]
     },
     "execution_count": 13,
     "metadata": {},
     "output_type": "execute_result"
    }
   ],
   "source": [
    "# Print blacklist\n",
    "blacklist"
   ]
  },
  {
   "cell_type": "code",
   "execution_count": 14,
   "id": "c80c1c2a-7e28-402b-92b1-3aa325eb4946",
   "metadata": {
    "tags": []
   },
   "outputs": [
    {
     "data": {
      "text/plain": [
       "['45.4727254_3.2479538_ts2']"
      ]
     },
     "execution_count": 14,
     "metadata": {},
     "output_type": "execute_result"
    }
   ],
   "source": [
    "# Print whitelist (to record which images have already been checked)\n",
    "whitelist"
   ]
  },
  {
   "cell_type": "code",
   "execution_count": null,
   "id": "798b1eb8-d969-4e2c-be9b-1692c1c8bf05",
   "metadata": {},
   "outputs": [],
   "source": []
  },
  {
   "cell_type": "markdown",
   "id": "34d0efc0-b45f-4dea-b94f-c37722a6abda",
   "metadata": {},
   "source": [
    "## Save blacklist and whitelist"
   ]
  },
  {
   "cell_type": "code",
   "execution_count": 15,
   "id": "25618a31-7274-40b9-a13b-55ce3cb7c405",
   "metadata": {
    "tags": []
   },
   "outputs": [],
   "source": [
    "# Function to save a csv, but check if it is already created\n",
    "def save_file(list1, csv_name, PATH):\n",
    "    if os.path.isfile(f\"{PATH}/{csv_name}.csv\"):\n",
    "        return f\"File \\\"{csv_name}\\\" already created! Change filename!\"\n",
    "    else:\n",
    "        dict1 = {'id': list1}\n",
    "        df = pd.DataFrame(dict1)\n",
    "        df.to_csv(f\"{PATH}/{csv_name}.csv\") \n",
    "        return f\"File \\\"{csv_name}\\\" successfully saved!\""
   ]
  },
  {
   "cell_type": "code",
   "execution_count": 16,
   "id": "9addd9a9-e452-461c-bca4-e1a3827dd9b4",
   "metadata": {},
   "outputs": [
    {
     "name": "stdout",
     "output_type": "stream",
     "text": [
      "File \"whitelist3\" successfully saved!\n",
      "File \"blacklist3\" successfully saved!\n"
     ]
    }
   ],
   "source": [
    "# Specify path where to save lists as csv:\n",
    "path = \"data/trucks_ls\" #or \"data/cars_ls\"\n",
    "\n",
    "# Saving lists\n",
    "print(save_file(whitelist, \"whitelist1\", path))\n",
    "print(save_file(blacklist, \"blacklist1\", path))\n",
    "#print(save_file(trucklist, \"trucklist1\", path))"
   ]
  },
  {
   "cell_type": "code",
   "execution_count": null,
   "id": "ee3213af-7021-4521-b975-7ba9c61c7ef3",
   "metadata": {},
   "outputs": [],
   "source": []
  }
 ],
 "metadata": {
  "kernelspec": {
   "display_name": "trustbit_venv",
   "language": "python",
   "name": "trustbit_venv"
  },
  "language_info": {
   "codemirror_mode": {
    "name": "ipython",
    "version": 3
   },
   "file_extension": ".py",
   "mimetype": "text/x-python",
   "name": "python",
   "nbconvert_exporter": "python",
   "pygments_lexer": "ipython3",
   "version": "3.9.7"
  }
 },
 "nbformat": 4,
 "nbformat_minor": 5
}
