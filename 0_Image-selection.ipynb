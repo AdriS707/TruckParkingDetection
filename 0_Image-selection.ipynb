{
 "cells": [
  {
   "cell_type": "markdown",
   "id": "1f9267b8-5a3c-4197-bc09-fcb83af12620",
   "metadata": {},
   "source": [
    "# Manual Image Selection Script"
   ]
  },
  {
   "cell_type": "markdown",
   "id": "c7ccae45-3753-44f6-b61b-7d878bfeadf9",
   "metadata": {},
   "source": [
    "This notebook contains parts of code from Dr. Vadim Savenkov"
   ]
  },
  {
   "cell_type": "markdown",
   "id": "3e9ee93f-0740-4963-a12e-7049f5779f1b",
   "metadata": {},
   "source": [
    "## Before running the notebook:\n",
    "- Put suitable data into a subfolder \"data\" (data with a column \"geometry\" that contains polygon coordinate data parsable with geopandas)\n",
    "- There might be issues with the \"geckodriver\", which is needed to access the satellite imagery (in this case checkout [StackOverflow](https://stackoverflow.com/questions/40208051/selenium-using-python-geckodriver-executable-needs-to-be-in-path))"
   ]
  },
  {
   "cell_type": "code",
   "execution_count": null,
   "id": "4bdad648-5c67-4cf7-86f5-307d332e6fe3",
   "metadata": {},
   "outputs": [],
   "source": []
  },
  {
   "cell_type": "markdown",
   "id": "8ef61b3b-7de2-4766-a07a-29c1a8eb3f62",
   "metadata": {},
   "source": [
    "## 1) Load packages and data"
   ]
  },
  {
   "cell_type": "code",
   "execution_count": 5,
   "id": "9d1972a3-0df2-4268-b347-24e09304e821",
   "metadata": {},
   "outputs": [],
   "source": [
    "# Load packages\n",
    "import os, io, json\n",
    "import pandas as pd\n",
    "import geopandas as gpd\n",
    "from ast import literal_eval\n",
    "from shapely.geometry import shape, mapping as shapely_mapping\n",
    "from shapely import wkt\n",
    "import folium\n",
    "from PIL import Image, ImageDraw\n",
    "from __future__ import print_function\n",
    "from ipywidgets import interact,interact_manual,HBox,Output,Tab\n",
    "import time\n",
    "\n",
    "import cv2\n",
    "import random\n",
    "import re\n",
    "import sys\n",
    "import multiprocessing.dummy as mp \n",
    "import numpy as np"
   ]
  },
  {
   "cell_type": "code",
   "execution_count": 59,
   "id": "0565160d-8dd3-4b87-ae05-a4a728e6e3cc",
   "metadata": {},
   "outputs": [],
   "source": [
    "# Create an unique id based on position of parking lot\n",
    "def parking_name(row, ts):  \n",
    "    try:\n",
    "        pt = row\n",
    "        a = round(pt[0], 7)\n",
    "        b = round(pt[1], 7)\n",
    "    except:\n",
    "        return np.nan\n",
    "    \n",
    "    return f\"{a}_{b}_ts{ts}\"\n",
    "\n",
    "# Find tags containing truck or asphalt surface\n",
    "def find_tags(df2):\n",
    "    ls = []\n",
    "    for j in range(0, len(df2)):\n",
    "        index = True\n",
    "        for i in df2.iloc[j,:].all_tags:\n",
    "            #if i[\"key\"] == \"surface\" and i[\"value\"] == \"asphalt\":\n",
    "            if i[\"key\"] == \"name\" and i[\"value\"].lower().__contains__(\"truck\"):   # or i[\"value\"].lower().__contains__(\"lkw\")):   # FLAG\n",
    "                ls.append(True)\n",
    "                index = False\n",
    "        \n",
    "        if index:\n",
    "            ls.append(False)\n",
    "        \n",
    "    return ls\n",
    "\n",
    "# Get the first point of polygon list as tuple of floats\n",
    "def get_point(geom):\n",
    "    try:\n",
    "        pt = re.split(r\",\", geom[9:])[0]\n",
    "        pt = tuple(map(float, pt.split(' ')))\n",
    "        pt_s = (pt[1], pt[0])\n",
    "    except:\n",
    "        return np.nan\n",
    "    \n",
    "    return pt_s"
   ]
  },
  {
   "cell_type": "code",
   "execution_count": 30,
   "id": "3cbec4b9-2dd0-4081-affc-24c1c5ac16d5",
   "metadata": {},
   "outputs": [],
   "source": [
    "# SPECIFY WHICH TILE SERVER SHOULD BE USED\n",
    "# 1 = World Imagery from Esri Satellite (3-5 years old) - https://www.arcgis.com/home/item.html?id=10df2279f9684e4a9f6a7f08febac2a9\n",
    "# 2 = World Imagery (Clarity) from Esri Satellite (more than 3-5 years old, however higher image quality)\n",
    "TS = 1"
   ]
  },
  {
   "cell_type": "code",
   "execution_count": 87,
   "id": "1eae1d07-2375-4714-8f37-226417d8b2a5",
   "metadata": {},
   "outputs": [
    {
     "name": "stdout",
     "output_type": "stream",
     "text": [
      "Started at: Sun Jul  3 14:32:11 2022\n",
      "File nr. 0 successfully loaded\n",
      "File nr. 1 successfully loaded\n",
      "Computation time (Min.): 0.00032425324122111\n"
     ]
    }
   ],
   "source": [
    "# Pre-processing\n",
    "# This part needs to be adapted according to database\n",
    "\n",
    "# THIS CAN TAKE UP TO A FEW MINUTES\n",
    "\n",
    "start_time = time.localtime()\n",
    "start_t = time.time()\n",
    "print(\"Started at:\", time.asctime(start_time))\n",
    "\n",
    "file_nr = [0,1] # Specify the number of files that should be merged\n",
    "first = True\n",
    "\n",
    "for i in file_nr:\n",
    "    df = pd.read_json(f\"data/osm_parking_polygons_0{i}_test.json\", lines=True)\n",
    "    df = df[find_tags(df)] # only keep entries that fulfil tag requirements\n",
    "    df[\"pt\"] = df[\"geometry\"].transform(lambda x: get_point(x)) # get first point of coordinates list\n",
    "    df[\"id\"] = [parking_name(x, TS) for x in df[\"pt\"]] # create id based on coordinates\n",
    "    df['geometry'] = df['geometry'].apply(wkt.loads)\n",
    "    df = df[[\"id\", \"pt\", \"geometry\", \"all_tags\"]]\n",
    "    df = df.dropna()\n",
    "    \n",
    "    if first:\n",
    "        temp = df\n",
    "        first = False\n",
    "    else: \n",
    "        temp = pd.concat([temp, df])\n",
    "    \n",
    "    print(f\"File nr. {i} successfully loaded\")\n",
    "        \n",
    "real_polys = gpd.GeoDataFrame(temp, geometry=\"geometry\")\n",
    "\n",
    "end_t = time.time()\n",
    "print(\"Computation time (Min.):\", (end_t-start_t)/60)"
   ]
  },
  {
   "cell_type": "code",
   "execution_count": 93,
   "id": "6c2be7ac-1b3e-40af-8e38-a552166b48c3",
   "metadata": {},
   "outputs": [],
   "source": [
    "# Start with an existing whitelist to look through it again\n",
    "\n",
    "whitelist_name = \"osm_data_trucks\"\n",
    "df = pd.read_csv(f\"data/{whitelist_name}.csv\", index_col=0)\n",
    "df[\"pt\"] = df[\"geometry\"].transform(lambda x: get_point(x))\n",
    "df[\"id\"] = [parking_name(x, TS) for x in df[\"pt\"]]\n",
    "df['geometry'] = df['geometry'].apply(wkt.loads)\n",
    "real_polys = gpd.GeoDataFrame(df, geometry=\"geometry\")"
   ]
  },
  {
   "cell_type": "code",
   "execution_count": 94,
   "id": "fd4c3eed-d66e-49f3-a9a5-c21e7f4bd9be",
   "metadata": {},
   "outputs": [],
   "source": [
    "# Drop full duplicates and reset index\n",
    "real_polys = real_polys.drop_duplicates(subset=[\"id\", \"pt\", \"geometry\"])\n",
    "real_polys = real_polys.reset_index()"
   ]
  },
  {
   "cell_type": "code",
   "execution_count": 70,
   "id": "c12c1cb8-4888-4e26-8857-6e3664e85c7c",
   "metadata": {},
   "outputs": [],
   "source": [
    "# Create backup if needed\n",
    "#real_polys_backup = real_polys.copy()"
   ]
  },
  {
   "cell_type": "code",
   "execution_count": 95,
   "id": "b0d49123-060c-40fa-8eff-a49eabc0627d",
   "metadata": {},
   "outputs": [
    {
     "data": {
      "text/html": [
       "<div>\n",
       "<style scoped>\n",
       "    .dataframe tbody tr th:only-of-type {\n",
       "        vertical-align: middle;\n",
       "    }\n",
       "\n",
       "    .dataframe tbody tr th {\n",
       "        vertical-align: top;\n",
       "    }\n",
       "\n",
       "    .dataframe thead th {\n",
       "        text-align: right;\n",
       "    }\n",
       "</style>\n",
       "<table border=\"1\" class=\"dataframe\">\n",
       "  <thead>\n",
       "    <tr style=\"text-align: right;\">\n",
       "      <th></th>\n",
       "      <th>index</th>\n",
       "      <th>id_new</th>\n",
       "      <th>id</th>\n",
       "      <th>pt</th>\n",
       "      <th>geometry</th>\n",
       "      <th>all_tags</th>\n",
       "    </tr>\n",
       "  </thead>\n",
       "  <tbody>\n",
       "    <tr>\n",
       "      <th>0</th>\n",
       "      <td>0</td>\n",
       "      <td>36.5400085_-89.5958862_ts1</td>\n",
       "      <td>36.5400085_-89.5958862_ts1</td>\n",
       "      <td>(36.5400085, -89.5958862)</td>\n",
       "      <td>POLYGON ((-89.59589 36.54001, -89.59598 36.539...</td>\n",
       "      <td>[{'key': 'amenity', 'value': 'parking'}, {'key...</td>\n",
       "    </tr>\n",
       "    <tr>\n",
       "      <th>1</th>\n",
       "      <td>1</td>\n",
       "      <td>54.8565589_-2.875634_ts1</td>\n",
       "      <td>54.8565589_-2.875634_ts1</td>\n",
       "      <td>(54.8565589, -2.875634)</td>\n",
       "      <td>POLYGON ((-2.87563 54.85656, -2.87533 54.85627...</td>\n",
       "      <td>[{'key': 'amenity', 'value': 'parking'}, {'key...</td>\n",
       "    </tr>\n",
       "    <tr>\n",
       "      <th>2</th>\n",
       "      <td>2</td>\n",
       "      <td>38.2476037_-84.5447897_ts1</td>\n",
       "      <td>38.2476037_-84.5447897_ts1</td>\n",
       "      <td>(38.2476037, -84.5447897)</td>\n",
       "      <td>POLYGON ((-84.54479 38.24760, -84.54519 38.248...</td>\n",
       "      <td>[{'key': 'amenity', 'value': 'parking'}, {'key...</td>\n",
       "    </tr>\n",
       "    <tr>\n",
       "      <th>3</th>\n",
       "      <td>3</td>\n",
       "      <td>35.4256176_-84.6888667_ts1</td>\n",
       "      <td>35.4256176_-84.6888667_ts1</td>\n",
       "      <td>(35.4256176, -84.6888667)</td>\n",
       "      <td>POLYGON ((-84.68887 35.42562, -84.68878 35.425...</td>\n",
       "      <td>[{'key': 'amenity', 'value': 'parking'}, {'key...</td>\n",
       "    </tr>\n",
       "    <tr>\n",
       "      <th>4</th>\n",
       "      <td>4</td>\n",
       "      <td>42.7899152_-82.66045_ts1</td>\n",
       "      <td>42.7899152_-82.66045_ts1</td>\n",
       "      <td>(42.7899152, -82.66045)</td>\n",
       "      <td>POLYGON ((-82.66045 42.78992, -82.65978 42.790...</td>\n",
       "      <td>[{'key': 'amenity', 'value': 'parking'}, {'key...</td>\n",
       "    </tr>\n",
       "    <tr>\n",
       "      <th>...</th>\n",
       "      <td>...</td>\n",
       "      <td>...</td>\n",
       "      <td>...</td>\n",
       "      <td>...</td>\n",
       "      <td>...</td>\n",
       "      <td>...</td>\n",
       "    </tr>\n",
       "    <tr>\n",
       "      <th>677</th>\n",
       "      <td>1068</td>\n",
       "      <td>39.7480231_-94.6946061_ts2</td>\n",
       "      <td>39.7480231_-94.6946061_ts1</td>\n",
       "      <td>(39.7480231, -94.6946061)</td>\n",
       "      <td>POLYGON ((-94.69461 39.74802, -94.69484 39.748...</td>\n",
       "      <td>[{'key': 'amenity', 'value': 'parking'}, {'key...</td>\n",
       "    </tr>\n",
       "    <tr>\n",
       "      <th>678</th>\n",
       "      <td>1069</td>\n",
       "      <td>49.6436901_12.5304886_ts2</td>\n",
       "      <td>49.6436901_12.5304886_ts1</td>\n",
       "      <td>(49.6436901, 12.5304886)</td>\n",
       "      <td>POLYGON ((12.53049 49.64369, 12.53170 49.64420...</td>\n",
       "      <td>[{'key': 'amenity', 'value': 'parking'}, {'key...</td>\n",
       "    </tr>\n",
       "    <tr>\n",
       "      <th>679</th>\n",
       "      <td>1070</td>\n",
       "      <td>46.4185895_4.8634203_ts2</td>\n",
       "      <td>46.4185895_4.8634203_ts1</td>\n",
       "      <td>(46.4185895, 4.8634203)</td>\n",
       "      <td>POLYGON ((4.86342 46.41859, 4.86391 46.41953, ...</td>\n",
       "      <td>[{'key': 'access', 'value': 'yes'}, {'key': 'a...</td>\n",
       "    </tr>\n",
       "    <tr>\n",
       "      <th>680</th>\n",
       "      <td>1071</td>\n",
       "      <td>46.4192786_4.8626612_ts2</td>\n",
       "      <td>46.4192786_4.8626612_ts1</td>\n",
       "      <td>(46.4192786, 4.8626612)</td>\n",
       "      <td>POLYGON ((4.86266 46.41928, 4.86297 46.41938, ...</td>\n",
       "      <td>[{'key': 'access', 'value': 'yes'}, {'key': 'a...</td>\n",
       "    </tr>\n",
       "    <tr>\n",
       "      <th>681</th>\n",
       "      <td>1072</td>\n",
       "      <td>45.8610396_-95.4229416_ts2</td>\n",
       "      <td>45.8610396_-95.4229416_ts1</td>\n",
       "      <td>(45.8610396, -95.4229416)</td>\n",
       "      <td>POLYGON ((-95.42294 45.86104, -95.42256 45.860...</td>\n",
       "      <td>[{'key': 'amenity', 'value': 'parking'}, {'key...</td>\n",
       "    </tr>\n",
       "  </tbody>\n",
       "</table>\n",
       "<p>682 rows × 6 columns</p>\n",
       "</div>"
      ],
      "text/plain": [
       "     index                      id_new                          id  \\\n",
       "0        0  36.5400085_-89.5958862_ts1  36.5400085_-89.5958862_ts1   \n",
       "1        1    54.8565589_-2.875634_ts1    54.8565589_-2.875634_ts1   \n",
       "2        2  38.2476037_-84.5447897_ts1  38.2476037_-84.5447897_ts1   \n",
       "3        3  35.4256176_-84.6888667_ts1  35.4256176_-84.6888667_ts1   \n",
       "4        4    42.7899152_-82.66045_ts1    42.7899152_-82.66045_ts1   \n",
       "..     ...                         ...                         ...   \n",
       "677   1068  39.7480231_-94.6946061_ts2  39.7480231_-94.6946061_ts1   \n",
       "678   1069   49.6436901_12.5304886_ts2   49.6436901_12.5304886_ts1   \n",
       "679   1070    46.4185895_4.8634203_ts2    46.4185895_4.8634203_ts1   \n",
       "680   1071    46.4192786_4.8626612_ts2    46.4192786_4.8626612_ts1   \n",
       "681   1072  45.8610396_-95.4229416_ts2  45.8610396_-95.4229416_ts1   \n",
       "\n",
       "                            pt  \\\n",
       "0    (36.5400085, -89.5958862)   \n",
       "1      (54.8565589, -2.875634)   \n",
       "2    (38.2476037, -84.5447897)   \n",
       "3    (35.4256176, -84.6888667)   \n",
       "4      (42.7899152, -82.66045)   \n",
       "..                         ...   \n",
       "677  (39.7480231, -94.6946061)   \n",
       "678   (49.6436901, 12.5304886)   \n",
       "679    (46.4185895, 4.8634203)   \n",
       "680    (46.4192786, 4.8626612)   \n",
       "681  (45.8610396, -95.4229416)   \n",
       "\n",
       "                                              geometry  \\\n",
       "0    POLYGON ((-89.59589 36.54001, -89.59598 36.539...   \n",
       "1    POLYGON ((-2.87563 54.85656, -2.87533 54.85627...   \n",
       "2    POLYGON ((-84.54479 38.24760, -84.54519 38.248...   \n",
       "3    POLYGON ((-84.68887 35.42562, -84.68878 35.425...   \n",
       "4    POLYGON ((-82.66045 42.78992, -82.65978 42.790...   \n",
       "..                                                 ...   \n",
       "677  POLYGON ((-94.69461 39.74802, -94.69484 39.748...   \n",
       "678  POLYGON ((12.53049 49.64369, 12.53170 49.64420...   \n",
       "679  POLYGON ((4.86342 46.41859, 4.86391 46.41953, ...   \n",
       "680  POLYGON ((4.86266 46.41928, 4.86297 46.41938, ...   \n",
       "681  POLYGON ((-95.42294 45.86104, -95.42256 45.860...   \n",
       "\n",
       "                                              all_tags  \n",
       "0    [{'key': 'amenity', 'value': 'parking'}, {'key...  \n",
       "1    [{'key': 'amenity', 'value': 'parking'}, {'key...  \n",
       "2    [{'key': 'amenity', 'value': 'parking'}, {'key...  \n",
       "3    [{'key': 'amenity', 'value': 'parking'}, {'key...  \n",
       "4    [{'key': 'amenity', 'value': 'parking'}, {'key...  \n",
       "..                                                 ...  \n",
       "677  [{'key': 'amenity', 'value': 'parking'}, {'key...  \n",
       "678  [{'key': 'amenity', 'value': 'parking'}, {'key...  \n",
       "679  [{'key': 'access', 'value': 'yes'}, {'key': 'a...  \n",
       "680  [{'key': 'access', 'value': 'yes'}, {'key': 'a...  \n",
       "681  [{'key': 'amenity', 'value': 'parking'}, {'key...  \n",
       "\n",
       "[682 rows x 6 columns]"
      ]
     },
     "execution_count": 95,
     "metadata": {},
     "output_type": "execute_result"
    }
   ],
   "source": [
    "# Final dataframe\n",
    "real_polys #= real_polys.loc[:249535,]"
   ]
  },
  {
   "cell_type": "markdown",
   "id": "146a67f0-7511-43d5-8e12-9bd4bc6e89ad",
   "metadata": {},
   "source": [
    "## 2) Load functions to get image with labels"
   ]
  },
  {
   "cell_type": "code",
   "execution_count": 102,
   "id": "28a723dd-d44f-4278-aef1-de351029eb02",
   "metadata": {},
   "outputs": [],
   "source": [
    "# Create image\n",
    "BOUNDS_RGB = (0xff,0x78, 0x00)\n",
    "\n",
    "def rgbcolor(r,g,b):\n",
    "    \"\"\"\n",
    "    turn r, g, b integers into a CSS color code \n",
    "    \"\"\"\n",
    "    return f\"#{r:02x}{g:02x}{b:02x}\"\n",
    "\n",
    "# Get the bounding box around an arbitrarily shaped geometry object\n",
    "def geometry_bbox(geometry, init_bounds=None, x_offset=0., y_offset=0.):\n",
    "    bounds = init_bounds or [[1000,-1000],[-1000,1000]]\n",
    "    xs = [c[0] for c in geometry.exterior.coords]\n",
    "    \n",
    "    ys = [c[1] for c in geometry.exterior.coords]\n",
    "    \n",
    "    return [\n",
    "        #southwest\n",
    "        [min(bounds[0][0], min(ys)-y_offset), max(bounds[0][1], max(xs)+x_offset)],\n",
    "        #northeast\n",
    "        [max(bounds[1][0], max(ys)+y_offset), min(bounds[1][1], min(xs)-x_offset)]\n",
    "    ]\n",
    "\n",
    "\n",
    "def make_map(pt, ts, geometry=None, show_geometry=False, size=320):\n",
    "    \"\"\"\n",
    "    create folium map with a given center, \n",
    "    optionally fit and show a geometry and/or a larger bounding box\n",
    "    \"\"\"\n",
    "        \n",
    "    # Create satellite image map for the coordinate point specified\n",
    "    m = folium.Map(location=pt, min_zoom=15, width=size, height=size, zoom_control=False, attribution_control=False)\n",
    "    \n",
    "    # First tile server\n",
    "    if ts == 1:\n",
    "        folium.TileLayer(\n",
    "            tiles = 'https://server.arcgisonline.com/ArcGIS/rest/services/World_Imagery/MapServer/tile/{z}/{y}/{x}',\n",
    "            attr = 'Esri', name = 'Esri Satellite', overlay = False, control = True\n",
    "        ).add_to(m)\n",
    "    \n",
    "    # Second tile server\n",
    "    elif ts == 2:\n",
    "        folium.TileLayer(\n",
    "            tiles = 'https://clarity.maptiles.arcgis.com/arcgis/rest/services/World_Imagery/MapServer/tile/{z}/{y}/{x}',\n",
    "            attr = 'Esri', name = 'Esri Satellite', overlay = False, control = True\n",
    "        ).add_to(m)\n",
    "    \n",
    "    # Bounds of inital point\n",
    "    bounds = [[pt[0], pt[1]],[pt[0], pt[1]]] #southwest, northeast\n",
    "    \n",
    "    # Plot lines of geometry\n",
    "    if geometry:\n",
    "        if show_geometry:\n",
    "            folium.GeoJson(data=geometry).add_to(m)\n",
    "            bounds_fit = geometry_bbox(geometry, init_bounds=bounds, x_offset=0, y_offset=0)\n",
    "    \n",
    "    m.fit_bounds(bounds_fit)\n",
    "    \n",
    "    return m, bounds"
   ]
  },
  {
   "cell_type": "code",
   "execution_count": null,
   "id": "770eab61-cba1-458c-9e8f-4777690d1bc8",
   "metadata": {},
   "outputs": [],
   "source": []
  },
  {
   "cell_type": "markdown",
   "id": "e19a1be3-11c3-4a49-a89c-c04f1556f874",
   "metadata": {},
   "source": [
    "## 3) Manually filter images"
   ]
  },
  {
   "cell_type": "markdown",
   "id": "dc836973-9b48-4d35-9d4f-0e635c3f8c08",
   "metadata": {},
   "source": [
    "### Instructions\n",
    "\n",
    "- Start with the selection procedure by executing the cell below.\n",
    "\n",
    "- If an image is fine, just press enter while the courser is in the input cell.\n",
    "\n",
    "- If it is faulty in any way, enter any character of your choice (unequal \"t\" and \"exit\").\n",
    "\n",
    "- To stop the procedure, type and enter \"exit\".\n",
    "\n",
    "- If the image shown is a truck parking lot, type \"t\" (pay attention to not press t to blacklist an item!)\n",
    "\n",
    "- The counter and id of the last image checked will be printed. If you stop and want to proceed later on, change the start_nr variable below to the last number printed.\n",
    "\n",
    "- If the interactive \"pop-up\" of the map is too big (i.e. you always have to scroll down to get to the input bar), just adjust the window width (in jupyter lab, increase the width of the data browser on the left)\n",
    "\n",
    "<br>\n",
    "\n",
    "#### Caution:\n",
    "- Don't forget to save the blacklist and whitelist as csv **before** re-running the selection cell (resets lists!)\n",
    "\n",
    "- Always change the file name after saving a new set of lists.\n",
    "\n",
    "- Always note the last counter value you checked when exiting, in order to know where to resume (best practice would be to change the start_nr parameter after each run).\n",
    "\n",
    "- If you exit the loop, the last image shown will **not** yet be saved as ok nor faulty."
   ]
  },
  {
   "cell_type": "code",
   "execution_count": 106,
   "id": "d76abc1e-ef4d-4f73-bce8-67b0aa0ed22c",
   "metadata": {
    "tags": []
   },
   "outputs": [
    {
     "data": {
      "text/html": [
       "<div style=\"width:100%;\"><div style=\"position:relative;width:100%;height:0;padding-bottom:60%;\"><span style=\"color:#565656\">Make this Notebook Trusted to load map: File -> Trust Notebook</span><iframe src=\"about:blank\" style=\"position:absolute;width:100%;height:100%;left:0;top:0;border:none !important;\" data-html=%3C%21DOCTYPE%20html%3E%0A%3Chead%3E%20%20%20%20%0A%20%20%20%20%3Cmeta%20http-equiv%3D%22content-type%22%20content%3D%22text/html%3B%20charset%3DUTF-8%22%20/%3E%0A%20%20%20%20%0A%20%20%20%20%20%20%20%20%3Cscript%3E%0A%20%20%20%20%20%20%20%20%20%20%20%20L_NO_TOUCH%20%3D%20false%3B%0A%20%20%20%20%20%20%20%20%20%20%20%20L_DISABLE_3D%20%3D%20false%3B%0A%20%20%20%20%20%20%20%20%3C/script%3E%0A%20%20%20%20%0A%20%20%20%20%3Cstyle%3Ehtml%2C%20body%20%7Bwidth%3A%20100%25%3Bheight%3A%20100%25%3Bmargin%3A%200%3Bpadding%3A%200%3B%7D%3C/style%3E%0A%20%20%20%20%3Cstyle%3E%23map%20%7Bposition%3Aabsolute%3Btop%3A0%3Bbottom%3A0%3Bright%3A0%3Bleft%3A0%3B%7D%3C/style%3E%0A%20%20%20%20%3Cscript%20src%3D%22https%3A//cdn.jsdelivr.net/npm/leaflet%401.6.0/dist/leaflet.js%22%3E%3C/script%3E%0A%20%20%20%20%3Cscript%20src%3D%22https%3A//code.jquery.com/jquery-1.12.4.min.js%22%3E%3C/script%3E%0A%20%20%20%20%3Cscript%20src%3D%22https%3A//maxcdn.bootstrapcdn.com/bootstrap/3.2.0/js/bootstrap.min.js%22%3E%3C/script%3E%0A%20%20%20%20%3Cscript%20src%3D%22https%3A//cdnjs.cloudflare.com/ajax/libs/Leaflet.awesome-markers/2.0.2/leaflet.awesome-markers.js%22%3E%3C/script%3E%0A%20%20%20%20%3Clink%20rel%3D%22stylesheet%22%20href%3D%22https%3A//cdn.jsdelivr.net/npm/leaflet%401.6.0/dist/leaflet.css%22/%3E%0A%20%20%20%20%3Clink%20rel%3D%22stylesheet%22%20href%3D%22https%3A//maxcdn.bootstrapcdn.com/bootstrap/3.2.0/css/bootstrap.min.css%22/%3E%0A%20%20%20%20%3Clink%20rel%3D%22stylesheet%22%20href%3D%22https%3A//maxcdn.bootstrapcdn.com/bootstrap/3.2.0/css/bootstrap-theme.min.css%22/%3E%0A%20%20%20%20%3Clink%20rel%3D%22stylesheet%22%20href%3D%22https%3A//maxcdn.bootstrapcdn.com/font-awesome/4.6.3/css/font-awesome.min.css%22/%3E%0A%20%20%20%20%3Clink%20rel%3D%22stylesheet%22%20href%3D%22https%3A//cdnjs.cloudflare.com/ajax/libs/Leaflet.awesome-markers/2.0.2/leaflet.awesome-markers.css%22/%3E%0A%20%20%20%20%3Clink%20rel%3D%22stylesheet%22%20href%3D%22https%3A//cdn.jsdelivr.net/gh/python-visualization/folium/folium/templates/leaflet.awesome.rotate.min.css%22/%3E%0A%20%20%20%20%0A%20%20%20%20%20%20%20%20%20%20%20%20%3Cmeta%20name%3D%22viewport%22%20content%3D%22width%3Ddevice-width%2C%0A%20%20%20%20%20%20%20%20%20%20%20%20%20%20%20%20initial-scale%3D1.0%2C%20maximum-scale%3D1.0%2C%20user-scalable%3Dno%22%20/%3E%0A%20%20%20%20%20%20%20%20%20%20%20%20%3Cstyle%3E%0A%20%20%20%20%20%20%20%20%20%20%20%20%20%20%20%20%23map_728e5cfebbf84dc1a45c89ffa7b73729%20%7B%0A%20%20%20%20%20%20%20%20%20%20%20%20%20%20%20%20%20%20%20%20position%3A%20relative%3B%0A%20%20%20%20%20%20%20%20%20%20%20%20%20%20%20%20%20%20%20%20width%3A%20640.0px%3B%0A%20%20%20%20%20%20%20%20%20%20%20%20%20%20%20%20%20%20%20%20height%3A%20640.0px%3B%0A%20%20%20%20%20%20%20%20%20%20%20%20%20%20%20%20%20%20%20%20left%3A%200.0%25%3B%0A%20%20%20%20%20%20%20%20%20%20%20%20%20%20%20%20%20%20%20%20top%3A%200.0%25%3B%0A%20%20%20%20%20%20%20%20%20%20%20%20%20%20%20%20%7D%0A%20%20%20%20%20%20%20%20%20%20%20%20%3C/style%3E%0A%20%20%20%20%20%20%20%20%0A%3C/head%3E%0A%3Cbody%3E%20%20%20%20%0A%20%20%20%20%0A%20%20%20%20%20%20%20%20%20%20%20%20%3Cdiv%20class%3D%22folium-map%22%20id%3D%22map_728e5cfebbf84dc1a45c89ffa7b73729%22%20%3E%3C/div%3E%0A%20%20%20%20%20%20%20%20%0A%3C/body%3E%0A%3Cscript%3E%20%20%20%20%0A%20%20%20%20%0A%20%20%20%20%20%20%20%20%20%20%20%20var%20map_728e5cfebbf84dc1a45c89ffa7b73729%20%3D%20L.map%28%0A%20%20%20%20%20%20%20%20%20%20%20%20%20%20%20%20%22map_728e5cfebbf84dc1a45c89ffa7b73729%22%2C%0A%20%20%20%20%20%20%20%20%20%20%20%20%20%20%20%20%7B%0A%20%20%20%20%20%20%20%20%20%20%20%20%20%20%20%20%20%20%20%20center%3A%20%5B36.5400085%2C%20-89.5958862%5D%2C%0A%20%20%20%20%20%20%20%20%20%20%20%20%20%20%20%20%20%20%20%20crs%3A%20L.CRS.EPSG3857%2C%0A%20%20%20%20%20%20%20%20%20%20%20%20%20%20%20%20%20%20%20%20zoom%3A%2010%2C%0A%20%20%20%20%20%20%20%20%20%20%20%20%20%20%20%20%20%20%20%20zoomControl%3A%20false%2C%0A%20%20%20%20%20%20%20%20%20%20%20%20%20%20%20%20%20%20%20%20preferCanvas%3A%20false%2C%0A%20%20%20%20%20%20%20%20%20%20%20%20%20%20%20%20%20%20%20%20attributionControl%3A%20false%2C%0A%20%20%20%20%20%20%20%20%20%20%20%20%20%20%20%20%7D%0A%20%20%20%20%20%20%20%20%20%20%20%20%29%3B%0A%0A%20%20%20%20%20%20%20%20%20%20%20%20%0A%0A%20%20%20%20%20%20%20%20%0A%20%20%20%20%0A%20%20%20%20%20%20%20%20%20%20%20%20var%20tile_layer_48b806afa3624f5e998dd41e79129db1%20%3D%20L.tileLayer%28%0A%20%20%20%20%20%20%20%20%20%20%20%20%20%20%20%20%22https%3A//%7Bs%7D.tile.openstreetmap.org/%7Bz%7D/%7Bx%7D/%7By%7D.png%22%2C%0A%20%20%20%20%20%20%20%20%20%20%20%20%20%20%20%20%7B%22attribution%22%3A%20%22Data%20by%20%5Cu0026copy%3B%20%5Cu003ca%20href%3D%5C%22http%3A//openstreetmap.org%5C%22%5Cu003eOpenStreetMap%5Cu003c/a%5Cu003e%2C%20under%20%5Cu003ca%20href%3D%5C%22http%3A//www.openstreetmap.org/copyright%5C%22%5Cu003eODbL%5Cu003c/a%5Cu003e.%22%2C%20%22detectRetina%22%3A%20false%2C%20%22maxNativeZoom%22%3A%2018%2C%20%22maxZoom%22%3A%2018%2C%20%22minZoom%22%3A%2015%2C%20%22noWrap%22%3A%20false%2C%20%22opacity%22%3A%201%2C%20%22subdomains%22%3A%20%22abc%22%2C%20%22tms%22%3A%20false%7D%0A%20%20%20%20%20%20%20%20%20%20%20%20%29.addTo%28map_728e5cfebbf84dc1a45c89ffa7b73729%29%3B%0A%20%20%20%20%20%20%20%20%0A%20%20%20%20%0A%20%20%20%20%20%20%20%20%20%20%20%20var%20tile_layer_88b15eaf49d54768938ad97763303061%20%3D%20L.tileLayer%28%0A%20%20%20%20%20%20%20%20%20%20%20%20%20%20%20%20%22https%3A//server.arcgisonline.com/ArcGIS/rest/services/World_Imagery/MapServer/tile/%7Bz%7D/%7By%7D/%7Bx%7D%22%2C%0A%20%20%20%20%20%20%20%20%20%20%20%20%20%20%20%20%7B%22attribution%22%3A%20%22Esri%22%2C%20%22detectRetina%22%3A%20false%2C%20%22maxNativeZoom%22%3A%2018%2C%20%22maxZoom%22%3A%2018%2C%20%22minZoom%22%3A%200%2C%20%22noWrap%22%3A%20false%2C%20%22opacity%22%3A%201%2C%20%22subdomains%22%3A%20%22abc%22%2C%20%22tms%22%3A%20false%7D%0A%20%20%20%20%20%20%20%20%20%20%20%20%29.addTo%28map_728e5cfebbf84dc1a45c89ffa7b73729%29%3B%0A%20%20%20%20%20%20%20%20%0A%20%20%20%20%0A%0A%20%20%20%20%20%20%20%20function%20geo_json_cb720c2ac3644dec8b65abc0e9557479_onEachFeature%28feature%2C%20layer%29%20%7B%0A%20%20%20%20%20%20%20%20%20%20%20%20layer.on%28%7B%0A%20%20%20%20%20%20%20%20%20%20%20%20%7D%29%3B%0A%20%20%20%20%20%20%20%20%7D%3B%0A%20%20%20%20%20%20%20%20var%20geo_json_cb720c2ac3644dec8b65abc0e9557479%20%3D%20L.geoJson%28null%2C%20%7B%0A%20%20%20%20%20%20%20%20%20%20%20%20%20%20%20%20onEachFeature%3A%20geo_json_cb720c2ac3644dec8b65abc0e9557479_onEachFeature%2C%0A%20%20%20%20%20%20%20%20%20%20%20%20%0A%20%20%20%20%20%20%20%20%7D%29%3B%0A%0A%20%20%20%20%20%20%20%20function%20geo_json_cb720c2ac3644dec8b65abc0e9557479_add%20%28data%29%20%7B%0A%20%20%20%20%20%20%20%20%20%20%20%20geo_json_cb720c2ac3644dec8b65abc0e9557479%0A%20%20%20%20%20%20%20%20%20%20%20%20%20%20%20%20.addData%28data%29%0A%20%20%20%20%20%20%20%20%20%20%20%20%20%20%20%20.addTo%28map_728e5cfebbf84dc1a45c89ffa7b73729%29%3B%0A%20%20%20%20%20%20%20%20%7D%0A%20%20%20%20%20%20%20%20%20%20%20%20geo_json_cb720c2ac3644dec8b65abc0e9557479_add%28%7B%22coordinates%22%3A%20%5B%5B%5B-89.5958862%2C%2036.5400085%5D%2C%20%5B-89.5959794%2C%2036.5399108%5D%2C%20%5B-89.5959713%2C%2036.5389824%5D%2C%20%5B-89.5956878%2C%2036.5389447%5D%2C%20%5B-89.5933342%2C%2036.5389781%5D%2C%20%5B-89.592955%2C%2036.5396274%5D%2C%20%5B-89.5929756%2C%2036.5396616%5D%2C%20%5B-89.5930685%2C%2036.5398163%5D%2C%20%5B-89.5932023%2C%2036.5399922%5D%2C%20%5B-89.5933118%2C%2036.540028%5D%2C%20%5B-89.5958862%2C%2036.5400085%5D%5D%5D%2C%20%22type%22%3A%20%22Polygon%22%7D%29%3B%0A%0A%20%20%20%20%20%20%20%20%0A%20%20%20%20%0A%20%20%20%20%20%20%20%20%20%20%20%20map_728e5cfebbf84dc1a45c89ffa7b73729.fitBounds%28%0A%20%20%20%20%20%20%20%20%20%20%20%20%20%20%20%20%5B%5B36.5389447%2C%20-89.592955%5D%2C%20%5B36.540028%2C%20-89.5959794%5D%5D%2C%0A%20%20%20%20%20%20%20%20%20%20%20%20%20%20%20%20%7B%7D%0A%20%20%20%20%20%20%20%20%20%20%20%20%29%3B%0A%20%20%20%20%20%20%20%20%0A%3C/script%3E onload=\"this.contentDocument.open();this.contentDocument.write(    decodeURIComponent(this.getAttribute('data-html')));this.contentDocument.close();\" allowfullscreen webkitallowfullscreen mozallowfullscreen></iframe></div></div>"
      ],
      "text/plain": [
       "<folium.folium.Map at 0x24cf2660eb0>"
      ]
     },
     "metadata": {},
     "output_type": "display_data"
    },
    {
     "name": "stdin",
     "output_type": "stream",
     "text": [
      "Image Nr. 0 ok? Just enter. If truck, type \"t\". To exit type \"exit\" \n"
     ]
    },
    {
     "name": "stdout",
     "output_type": "stream",
     "text": [
      "Last image checked: 36.5400085_-89.5958862_ts1\n",
      "\n"
     ]
    },
    {
     "data": {
      "text/html": [
       "<div style=\"width:100%;\"><div style=\"position:relative;width:100%;height:0;padding-bottom:60%;\"><span style=\"color:#565656\">Make this Notebook Trusted to load map: File -> Trust Notebook</span><iframe src=\"about:blank\" style=\"position:absolute;width:100%;height:100%;left:0;top:0;border:none !important;\" data-html=%3C%21DOCTYPE%20html%3E%0A%3Chead%3E%20%20%20%20%0A%20%20%20%20%3Cmeta%20http-equiv%3D%22content-type%22%20content%3D%22text/html%3B%20charset%3DUTF-8%22%20/%3E%0A%20%20%20%20%0A%20%20%20%20%20%20%20%20%3Cscript%3E%0A%20%20%20%20%20%20%20%20%20%20%20%20L_NO_TOUCH%20%3D%20false%3B%0A%20%20%20%20%20%20%20%20%20%20%20%20L_DISABLE_3D%20%3D%20false%3B%0A%20%20%20%20%20%20%20%20%3C/script%3E%0A%20%20%20%20%0A%20%20%20%20%3Cstyle%3Ehtml%2C%20body%20%7Bwidth%3A%20100%25%3Bheight%3A%20100%25%3Bmargin%3A%200%3Bpadding%3A%200%3B%7D%3C/style%3E%0A%20%20%20%20%3Cstyle%3E%23map%20%7Bposition%3Aabsolute%3Btop%3A0%3Bbottom%3A0%3Bright%3A0%3Bleft%3A0%3B%7D%3C/style%3E%0A%20%20%20%20%3Cscript%20src%3D%22https%3A//cdn.jsdelivr.net/npm/leaflet%401.6.0/dist/leaflet.js%22%3E%3C/script%3E%0A%20%20%20%20%3Cscript%20src%3D%22https%3A//code.jquery.com/jquery-1.12.4.min.js%22%3E%3C/script%3E%0A%20%20%20%20%3Cscript%20src%3D%22https%3A//maxcdn.bootstrapcdn.com/bootstrap/3.2.0/js/bootstrap.min.js%22%3E%3C/script%3E%0A%20%20%20%20%3Cscript%20src%3D%22https%3A//cdnjs.cloudflare.com/ajax/libs/Leaflet.awesome-markers/2.0.2/leaflet.awesome-markers.js%22%3E%3C/script%3E%0A%20%20%20%20%3Clink%20rel%3D%22stylesheet%22%20href%3D%22https%3A//cdn.jsdelivr.net/npm/leaflet%401.6.0/dist/leaflet.css%22/%3E%0A%20%20%20%20%3Clink%20rel%3D%22stylesheet%22%20href%3D%22https%3A//maxcdn.bootstrapcdn.com/bootstrap/3.2.0/css/bootstrap.min.css%22/%3E%0A%20%20%20%20%3Clink%20rel%3D%22stylesheet%22%20href%3D%22https%3A//maxcdn.bootstrapcdn.com/bootstrap/3.2.0/css/bootstrap-theme.min.css%22/%3E%0A%20%20%20%20%3Clink%20rel%3D%22stylesheet%22%20href%3D%22https%3A//maxcdn.bootstrapcdn.com/font-awesome/4.6.3/css/font-awesome.min.css%22/%3E%0A%20%20%20%20%3Clink%20rel%3D%22stylesheet%22%20href%3D%22https%3A//cdnjs.cloudflare.com/ajax/libs/Leaflet.awesome-markers/2.0.2/leaflet.awesome-markers.css%22/%3E%0A%20%20%20%20%3Clink%20rel%3D%22stylesheet%22%20href%3D%22https%3A//cdn.jsdelivr.net/gh/python-visualization/folium/folium/templates/leaflet.awesome.rotate.min.css%22/%3E%0A%20%20%20%20%0A%20%20%20%20%20%20%20%20%20%20%20%20%3Cmeta%20name%3D%22viewport%22%20content%3D%22width%3Ddevice-width%2C%0A%20%20%20%20%20%20%20%20%20%20%20%20%20%20%20%20initial-scale%3D1.0%2C%20maximum-scale%3D1.0%2C%20user-scalable%3Dno%22%20/%3E%0A%20%20%20%20%20%20%20%20%20%20%20%20%3Cstyle%3E%0A%20%20%20%20%20%20%20%20%20%20%20%20%20%20%20%20%23map_459c6e9f7286472880b9f02f581e1908%20%7B%0A%20%20%20%20%20%20%20%20%20%20%20%20%20%20%20%20%20%20%20%20position%3A%20relative%3B%0A%20%20%20%20%20%20%20%20%20%20%20%20%20%20%20%20%20%20%20%20width%3A%20640.0px%3B%0A%20%20%20%20%20%20%20%20%20%20%20%20%20%20%20%20%20%20%20%20height%3A%20640.0px%3B%0A%20%20%20%20%20%20%20%20%20%20%20%20%20%20%20%20%20%20%20%20left%3A%200.0%25%3B%0A%20%20%20%20%20%20%20%20%20%20%20%20%20%20%20%20%20%20%20%20top%3A%200.0%25%3B%0A%20%20%20%20%20%20%20%20%20%20%20%20%20%20%20%20%7D%0A%20%20%20%20%20%20%20%20%20%20%20%20%3C/style%3E%0A%20%20%20%20%20%20%20%20%0A%3C/head%3E%0A%3Cbody%3E%20%20%20%20%0A%20%20%20%20%0A%20%20%20%20%20%20%20%20%20%20%20%20%3Cdiv%20class%3D%22folium-map%22%20id%3D%22map_459c6e9f7286472880b9f02f581e1908%22%20%3E%3C/div%3E%0A%20%20%20%20%20%20%20%20%0A%3C/body%3E%0A%3Cscript%3E%20%20%20%20%0A%20%20%20%20%0A%20%20%20%20%20%20%20%20%20%20%20%20var%20map_459c6e9f7286472880b9f02f581e1908%20%3D%20L.map%28%0A%20%20%20%20%20%20%20%20%20%20%20%20%20%20%20%20%22map_459c6e9f7286472880b9f02f581e1908%22%2C%0A%20%20%20%20%20%20%20%20%20%20%20%20%20%20%20%20%7B%0A%20%20%20%20%20%20%20%20%20%20%20%20%20%20%20%20%20%20%20%20center%3A%20%5B54.8565589%2C%20-2.875634%5D%2C%0A%20%20%20%20%20%20%20%20%20%20%20%20%20%20%20%20%20%20%20%20crs%3A%20L.CRS.EPSG3857%2C%0A%20%20%20%20%20%20%20%20%20%20%20%20%20%20%20%20%20%20%20%20zoom%3A%2010%2C%0A%20%20%20%20%20%20%20%20%20%20%20%20%20%20%20%20%20%20%20%20zoomControl%3A%20false%2C%0A%20%20%20%20%20%20%20%20%20%20%20%20%20%20%20%20%20%20%20%20preferCanvas%3A%20false%2C%0A%20%20%20%20%20%20%20%20%20%20%20%20%20%20%20%20%20%20%20%20attributionControl%3A%20false%2C%0A%20%20%20%20%20%20%20%20%20%20%20%20%20%20%20%20%7D%0A%20%20%20%20%20%20%20%20%20%20%20%20%29%3B%0A%0A%20%20%20%20%20%20%20%20%20%20%20%20%0A%0A%20%20%20%20%20%20%20%20%0A%20%20%20%20%0A%20%20%20%20%20%20%20%20%20%20%20%20var%20tile_layer_d4eb118dde0041f191298ced47f5ced4%20%3D%20L.tileLayer%28%0A%20%20%20%20%20%20%20%20%20%20%20%20%20%20%20%20%22https%3A//%7Bs%7D.tile.openstreetmap.org/%7Bz%7D/%7Bx%7D/%7By%7D.png%22%2C%0A%20%20%20%20%20%20%20%20%20%20%20%20%20%20%20%20%7B%22attribution%22%3A%20%22Data%20by%20%5Cu0026copy%3B%20%5Cu003ca%20href%3D%5C%22http%3A//openstreetmap.org%5C%22%5Cu003eOpenStreetMap%5Cu003c/a%5Cu003e%2C%20under%20%5Cu003ca%20href%3D%5C%22http%3A//www.openstreetmap.org/copyright%5C%22%5Cu003eODbL%5Cu003c/a%5Cu003e.%22%2C%20%22detectRetina%22%3A%20false%2C%20%22maxNativeZoom%22%3A%2018%2C%20%22maxZoom%22%3A%2018%2C%20%22minZoom%22%3A%2015%2C%20%22noWrap%22%3A%20false%2C%20%22opacity%22%3A%201%2C%20%22subdomains%22%3A%20%22abc%22%2C%20%22tms%22%3A%20false%7D%0A%20%20%20%20%20%20%20%20%20%20%20%20%29.addTo%28map_459c6e9f7286472880b9f02f581e1908%29%3B%0A%20%20%20%20%20%20%20%20%0A%20%20%20%20%0A%20%20%20%20%20%20%20%20%20%20%20%20var%20tile_layer_152dcbe1d63f4914a3d44bc41d3f9b55%20%3D%20L.tileLayer%28%0A%20%20%20%20%20%20%20%20%20%20%20%20%20%20%20%20%22https%3A//server.arcgisonline.com/ArcGIS/rest/services/World_Imagery/MapServer/tile/%7Bz%7D/%7By%7D/%7Bx%7D%22%2C%0A%20%20%20%20%20%20%20%20%20%20%20%20%20%20%20%20%7B%22attribution%22%3A%20%22Esri%22%2C%20%22detectRetina%22%3A%20false%2C%20%22maxNativeZoom%22%3A%2018%2C%20%22maxZoom%22%3A%2018%2C%20%22minZoom%22%3A%200%2C%20%22noWrap%22%3A%20false%2C%20%22opacity%22%3A%201%2C%20%22subdomains%22%3A%20%22abc%22%2C%20%22tms%22%3A%20false%7D%0A%20%20%20%20%20%20%20%20%20%20%20%20%29.addTo%28map_459c6e9f7286472880b9f02f581e1908%29%3B%0A%20%20%20%20%20%20%20%20%0A%20%20%20%20%0A%0A%20%20%20%20%20%20%20%20function%20geo_json_ca58d52e986a4d668bdb0a9fb7a1f1a6_onEachFeature%28feature%2C%20layer%29%20%7B%0A%20%20%20%20%20%20%20%20%20%20%20%20layer.on%28%7B%0A%20%20%20%20%20%20%20%20%20%20%20%20%7D%29%3B%0A%20%20%20%20%20%20%20%20%7D%3B%0A%20%20%20%20%20%20%20%20var%20geo_json_ca58d52e986a4d668bdb0a9fb7a1f1a6%20%3D%20L.geoJson%28null%2C%20%7B%0A%20%20%20%20%20%20%20%20%20%20%20%20%20%20%20%20onEachFeature%3A%20geo_json_ca58d52e986a4d668bdb0a9fb7a1f1a6_onEachFeature%2C%0A%20%20%20%20%20%20%20%20%20%20%20%20%0A%20%20%20%20%20%20%20%20%7D%29%3B%0A%0A%20%20%20%20%20%20%20%20function%20geo_json_ca58d52e986a4d668bdb0a9fb7a1f1a6_add%20%28data%29%20%7B%0A%20%20%20%20%20%20%20%20%20%20%20%20geo_json_ca58d52e986a4d668bdb0a9fb7a1f1a6%0A%20%20%20%20%20%20%20%20%20%20%20%20%20%20%20%20.addData%28data%29%0A%20%20%20%20%20%20%20%20%20%20%20%20%20%20%20%20.addTo%28map_459c6e9f7286472880b9f02f581e1908%29%3B%0A%20%20%20%20%20%20%20%20%7D%0A%20%20%20%20%20%20%20%20%20%20%20%20geo_json_ca58d52e986a4d668bdb0a9fb7a1f1a6_add%28%7B%22coordinates%22%3A%20%5B%5B%5B-2.875634%2C%2054.8565589%5D%2C%20%5B-2.8753282%2C%2054.8562748%5D%2C%20%5B-2.8749419%2C%2054.8564416%5D%2C%20%5B-2.874781%2C%2054.8563119%5D%2C%20%5B-2.8738583%2C%2054.8567195%5D%2C%20%5B-2.8741909%2C%2054.8570005%5D%2C%20%5B-2.8742607%2C%2054.8569634%5D%2C%20%5B-2.8745664%2C%2054.8572105%5D%2C%20%5B-2.874722%2C%2054.8571271%5D%2C%20%5B-2.8748293%2C%2054.8572012%5D%2C%20%5B-2.8751029%2C%2054.8571086%5D%2C%20%5B-2.87506%2C%2054.8570376%5D%2C%20%5B-2.8752102%2C%2054.856982%5D%2C%20%5B-2.8751512%2C%2054.8569295%5D%2C%20%5B-2.8754891%2C%2054.8567874%5D%2C%20%5B-2.8755481%2C%2054.8567442%5D%2C%20%5B-2.87565%2C%2054.8566022%5D%2C%20%5B-2.875634%2C%2054.8565589%5D%5D%5D%2C%20%22type%22%3A%20%22Polygon%22%7D%29%3B%0A%0A%20%20%20%20%20%20%20%20%0A%20%20%20%20%0A%20%20%20%20%20%20%20%20%20%20%20%20map_459c6e9f7286472880b9f02f581e1908.fitBounds%28%0A%20%20%20%20%20%20%20%20%20%20%20%20%20%20%20%20%5B%5B54.8562748%2C%20-2.8738583%5D%2C%20%5B54.8572105%2C%20-2.87565%5D%5D%2C%0A%20%20%20%20%20%20%20%20%20%20%20%20%20%20%20%20%7B%7D%0A%20%20%20%20%20%20%20%20%20%20%20%20%29%3B%0A%20%20%20%20%20%20%20%20%0A%3C/script%3E onload=\"this.contentDocument.open();this.contentDocument.write(    decodeURIComponent(this.getAttribute('data-html')));this.contentDocument.close();\" allowfullscreen webkitallowfullscreen mozallowfullscreen></iframe></div></div>"
      ],
      "text/plain": [
       "<folium.folium.Map at 0x24cf2660790>"
      ]
     },
     "metadata": {},
     "output_type": "display_data"
    },
    {
     "name": "stdin",
     "output_type": "stream",
     "text": [
      "Image Nr. 1 ok? Just enter. If truck, type \"t\". To exit type \"exit\"  \n"
     ]
    },
    {
     "name": "stdout",
     "output_type": "stream",
     "text": [
      "Last image checked: 54.8565589_-2.875634_ts1\n",
      "\n"
     ]
    },
    {
     "data": {
      "text/html": [
       "<div style=\"width:100%;\"><div style=\"position:relative;width:100%;height:0;padding-bottom:60%;\"><span style=\"color:#565656\">Make this Notebook Trusted to load map: File -> Trust Notebook</span><iframe src=\"about:blank\" style=\"position:absolute;width:100%;height:100%;left:0;top:0;border:none !important;\" data-html=%3C%21DOCTYPE%20html%3E%0A%3Chead%3E%20%20%20%20%0A%20%20%20%20%3Cmeta%20http-equiv%3D%22content-type%22%20content%3D%22text/html%3B%20charset%3DUTF-8%22%20/%3E%0A%20%20%20%20%0A%20%20%20%20%20%20%20%20%3Cscript%3E%0A%20%20%20%20%20%20%20%20%20%20%20%20L_NO_TOUCH%20%3D%20false%3B%0A%20%20%20%20%20%20%20%20%20%20%20%20L_DISABLE_3D%20%3D%20false%3B%0A%20%20%20%20%20%20%20%20%3C/script%3E%0A%20%20%20%20%0A%20%20%20%20%3Cstyle%3Ehtml%2C%20body%20%7Bwidth%3A%20100%25%3Bheight%3A%20100%25%3Bmargin%3A%200%3Bpadding%3A%200%3B%7D%3C/style%3E%0A%20%20%20%20%3Cstyle%3E%23map%20%7Bposition%3Aabsolute%3Btop%3A0%3Bbottom%3A0%3Bright%3A0%3Bleft%3A0%3B%7D%3C/style%3E%0A%20%20%20%20%3Cscript%20src%3D%22https%3A//cdn.jsdelivr.net/npm/leaflet%401.6.0/dist/leaflet.js%22%3E%3C/script%3E%0A%20%20%20%20%3Cscript%20src%3D%22https%3A//code.jquery.com/jquery-1.12.4.min.js%22%3E%3C/script%3E%0A%20%20%20%20%3Cscript%20src%3D%22https%3A//maxcdn.bootstrapcdn.com/bootstrap/3.2.0/js/bootstrap.min.js%22%3E%3C/script%3E%0A%20%20%20%20%3Cscript%20src%3D%22https%3A//cdnjs.cloudflare.com/ajax/libs/Leaflet.awesome-markers/2.0.2/leaflet.awesome-markers.js%22%3E%3C/script%3E%0A%20%20%20%20%3Clink%20rel%3D%22stylesheet%22%20href%3D%22https%3A//cdn.jsdelivr.net/npm/leaflet%401.6.0/dist/leaflet.css%22/%3E%0A%20%20%20%20%3Clink%20rel%3D%22stylesheet%22%20href%3D%22https%3A//maxcdn.bootstrapcdn.com/bootstrap/3.2.0/css/bootstrap.min.css%22/%3E%0A%20%20%20%20%3Clink%20rel%3D%22stylesheet%22%20href%3D%22https%3A//maxcdn.bootstrapcdn.com/bootstrap/3.2.0/css/bootstrap-theme.min.css%22/%3E%0A%20%20%20%20%3Clink%20rel%3D%22stylesheet%22%20href%3D%22https%3A//maxcdn.bootstrapcdn.com/font-awesome/4.6.3/css/font-awesome.min.css%22/%3E%0A%20%20%20%20%3Clink%20rel%3D%22stylesheet%22%20href%3D%22https%3A//cdnjs.cloudflare.com/ajax/libs/Leaflet.awesome-markers/2.0.2/leaflet.awesome-markers.css%22/%3E%0A%20%20%20%20%3Clink%20rel%3D%22stylesheet%22%20href%3D%22https%3A//cdn.jsdelivr.net/gh/python-visualization/folium/folium/templates/leaflet.awesome.rotate.min.css%22/%3E%0A%20%20%20%20%0A%20%20%20%20%20%20%20%20%20%20%20%20%3Cmeta%20name%3D%22viewport%22%20content%3D%22width%3Ddevice-width%2C%0A%20%20%20%20%20%20%20%20%20%20%20%20%20%20%20%20initial-scale%3D1.0%2C%20maximum-scale%3D1.0%2C%20user-scalable%3Dno%22%20/%3E%0A%20%20%20%20%20%20%20%20%20%20%20%20%3Cstyle%3E%0A%20%20%20%20%20%20%20%20%20%20%20%20%20%20%20%20%23map_2a8b3f5f34914f59930677712c6b133e%20%7B%0A%20%20%20%20%20%20%20%20%20%20%20%20%20%20%20%20%20%20%20%20position%3A%20relative%3B%0A%20%20%20%20%20%20%20%20%20%20%20%20%20%20%20%20%20%20%20%20width%3A%20640.0px%3B%0A%20%20%20%20%20%20%20%20%20%20%20%20%20%20%20%20%20%20%20%20height%3A%20640.0px%3B%0A%20%20%20%20%20%20%20%20%20%20%20%20%20%20%20%20%20%20%20%20left%3A%200.0%25%3B%0A%20%20%20%20%20%20%20%20%20%20%20%20%20%20%20%20%20%20%20%20top%3A%200.0%25%3B%0A%20%20%20%20%20%20%20%20%20%20%20%20%20%20%20%20%7D%0A%20%20%20%20%20%20%20%20%20%20%20%20%3C/style%3E%0A%20%20%20%20%20%20%20%20%0A%3C/head%3E%0A%3Cbody%3E%20%20%20%20%0A%20%20%20%20%0A%20%20%20%20%20%20%20%20%20%20%20%20%3Cdiv%20class%3D%22folium-map%22%20id%3D%22map_2a8b3f5f34914f59930677712c6b133e%22%20%3E%3C/div%3E%0A%20%20%20%20%20%20%20%20%0A%3C/body%3E%0A%3Cscript%3E%20%20%20%20%0A%20%20%20%20%0A%20%20%20%20%20%20%20%20%20%20%20%20var%20map_2a8b3f5f34914f59930677712c6b133e%20%3D%20L.map%28%0A%20%20%20%20%20%20%20%20%20%20%20%20%20%20%20%20%22map_2a8b3f5f34914f59930677712c6b133e%22%2C%0A%20%20%20%20%20%20%20%20%20%20%20%20%20%20%20%20%7B%0A%20%20%20%20%20%20%20%20%20%20%20%20%20%20%20%20%20%20%20%20center%3A%20%5B38.2476037%2C%20-84.5447897%5D%2C%0A%20%20%20%20%20%20%20%20%20%20%20%20%20%20%20%20%20%20%20%20crs%3A%20L.CRS.EPSG3857%2C%0A%20%20%20%20%20%20%20%20%20%20%20%20%20%20%20%20%20%20%20%20zoom%3A%2010%2C%0A%20%20%20%20%20%20%20%20%20%20%20%20%20%20%20%20%20%20%20%20zoomControl%3A%20false%2C%0A%20%20%20%20%20%20%20%20%20%20%20%20%20%20%20%20%20%20%20%20preferCanvas%3A%20false%2C%0A%20%20%20%20%20%20%20%20%20%20%20%20%20%20%20%20%20%20%20%20attributionControl%3A%20false%2C%0A%20%20%20%20%20%20%20%20%20%20%20%20%20%20%20%20%7D%0A%20%20%20%20%20%20%20%20%20%20%20%20%29%3B%0A%0A%20%20%20%20%20%20%20%20%20%20%20%20%0A%0A%20%20%20%20%20%20%20%20%0A%20%20%20%20%0A%20%20%20%20%20%20%20%20%20%20%20%20var%20tile_layer_6a142400253d44b5a383e022abc3d6ca%20%3D%20L.tileLayer%28%0A%20%20%20%20%20%20%20%20%20%20%20%20%20%20%20%20%22https%3A//%7Bs%7D.tile.openstreetmap.org/%7Bz%7D/%7Bx%7D/%7By%7D.png%22%2C%0A%20%20%20%20%20%20%20%20%20%20%20%20%20%20%20%20%7B%22attribution%22%3A%20%22Data%20by%20%5Cu0026copy%3B%20%5Cu003ca%20href%3D%5C%22http%3A//openstreetmap.org%5C%22%5Cu003eOpenStreetMap%5Cu003c/a%5Cu003e%2C%20under%20%5Cu003ca%20href%3D%5C%22http%3A//www.openstreetmap.org/copyright%5C%22%5Cu003eODbL%5Cu003c/a%5Cu003e.%22%2C%20%22detectRetina%22%3A%20false%2C%20%22maxNativeZoom%22%3A%2018%2C%20%22maxZoom%22%3A%2018%2C%20%22minZoom%22%3A%2015%2C%20%22noWrap%22%3A%20false%2C%20%22opacity%22%3A%201%2C%20%22subdomains%22%3A%20%22abc%22%2C%20%22tms%22%3A%20false%7D%0A%20%20%20%20%20%20%20%20%20%20%20%20%29.addTo%28map_2a8b3f5f34914f59930677712c6b133e%29%3B%0A%20%20%20%20%20%20%20%20%0A%20%20%20%20%0A%20%20%20%20%20%20%20%20%20%20%20%20var%20tile_layer_cb6fc283d0264a29a8adf482f7e1efb3%20%3D%20L.tileLayer%28%0A%20%20%20%20%20%20%20%20%20%20%20%20%20%20%20%20%22https%3A//server.arcgisonline.com/ArcGIS/rest/services/World_Imagery/MapServer/tile/%7Bz%7D/%7By%7D/%7Bx%7D%22%2C%0A%20%20%20%20%20%20%20%20%20%20%20%20%20%20%20%20%7B%22attribution%22%3A%20%22Esri%22%2C%20%22detectRetina%22%3A%20false%2C%20%22maxNativeZoom%22%3A%2018%2C%20%22maxZoom%22%3A%2018%2C%20%22minZoom%22%3A%200%2C%20%22noWrap%22%3A%20false%2C%20%22opacity%22%3A%201%2C%20%22subdomains%22%3A%20%22abc%22%2C%20%22tms%22%3A%20false%7D%0A%20%20%20%20%20%20%20%20%20%20%20%20%29.addTo%28map_2a8b3f5f34914f59930677712c6b133e%29%3B%0A%20%20%20%20%20%20%20%20%0A%20%20%20%20%0A%0A%20%20%20%20%20%20%20%20function%20geo_json_131bd9c6b4c24c37ae42701e095dc0ca_onEachFeature%28feature%2C%20layer%29%20%7B%0A%20%20%20%20%20%20%20%20%20%20%20%20layer.on%28%7B%0A%20%20%20%20%20%20%20%20%20%20%20%20%7D%29%3B%0A%20%20%20%20%20%20%20%20%7D%3B%0A%20%20%20%20%20%20%20%20var%20geo_json_131bd9c6b4c24c37ae42701e095dc0ca%20%3D%20L.geoJson%28null%2C%20%7B%0A%20%20%20%20%20%20%20%20%20%20%20%20%20%20%20%20onEachFeature%3A%20geo_json_131bd9c6b4c24c37ae42701e095dc0ca_onEachFeature%2C%0A%20%20%20%20%20%20%20%20%20%20%20%20%0A%20%20%20%20%20%20%20%20%7D%29%3B%0A%0A%20%20%20%20%20%20%20%20function%20geo_json_131bd9c6b4c24c37ae42701e095dc0ca_add%20%28data%29%20%7B%0A%20%20%20%20%20%20%20%20%20%20%20%20geo_json_131bd9c6b4c24c37ae42701e095dc0ca%0A%20%20%20%20%20%20%20%20%20%20%20%20%20%20%20%20.addData%28data%29%0A%20%20%20%20%20%20%20%20%20%20%20%20%20%20%20%20.addTo%28map_2a8b3f5f34914f59930677712c6b133e%29%3B%0A%20%20%20%20%20%20%20%20%7D%0A%20%20%20%20%20%20%20%20%20%20%20%20geo_json_131bd9c6b4c24c37ae42701e095dc0ca_add%28%7B%22coordinates%22%3A%20%5B%5B%5B-84.5447897%2C%2038.2476037%5D%2C%20%5B-84.5451907%2C%2038.248718%5D%2C%20%5B-84.5453114%2C%2038.2486864%5D%2C%20%5B-84.5454267%2C%2038.2484779%5D%2C%20%5B-84.545589%2C%2038.2488908%5D%2C%20%5B-84.5460892%2C%2038.2490635%5D%2C%20%5B-84.5455608%2C%2038.247628%5D%2C%20%5B-84.5453342%2C%2038.2475247%5D%2C%20%5B-84.5452242%2C%2038.2474352%5D%2C%20%5B-84.5451666%2C%2038.247333%5D%2C%20%5B-84.5449936%2C%2038.2473004%5D%2C%20%5B-84.5447897%2C%2038.2476037%5D%5D%5D%2C%20%22type%22%3A%20%22Polygon%22%7D%29%3B%0A%0A%20%20%20%20%20%20%20%20%0A%20%20%20%20%0A%20%20%20%20%20%20%20%20%20%20%20%20map_2a8b3f5f34914f59930677712c6b133e.fitBounds%28%0A%20%20%20%20%20%20%20%20%20%20%20%20%20%20%20%20%5B%5B38.2473004%2C%20-84.5447897%5D%2C%20%5B38.2490635%2C%20-84.5460892%5D%5D%2C%0A%20%20%20%20%20%20%20%20%20%20%20%20%20%20%20%20%7B%7D%0A%20%20%20%20%20%20%20%20%20%20%20%20%29%3B%0A%20%20%20%20%20%20%20%20%0A%3C/script%3E onload=\"this.contentDocument.open();this.contentDocument.write(    decodeURIComponent(this.getAttribute('data-html')));this.contentDocument.close();\" allowfullscreen webkitallowfullscreen mozallowfullscreen></iframe></div></div>"
      ],
      "text/plain": [
       "<folium.folium.Map at 0x24cec437e80>"
      ]
     },
     "metadata": {},
     "output_type": "display_data"
    },
    {
     "name": "stdin",
     "output_type": "stream",
     "text": [
      "Image Nr. 2 ok? Just enter. If truck, type \"t\". To exit type \"exit\" exit\n"
     ]
    },
    {
     "name": "stdout",
     "output_type": "stream",
     "text": [
      "Image to be checked next: 38.2476037_-84.5447897_ts1\n"
     ]
    }
   ],
   "source": [
    "# Sart selection\n",
    "start_nr = 0 # if you stop somewhere inbetween, enter here the last image nr. printed\n",
    "\n",
    "blacklist = []\n",
    "whitelist = []\n",
    "trucklist = []\n",
    "\n",
    "for i in range(start_nr, real_polys.shape[0]):\n",
    "    row = real_polys.iloc[i]\n",
    "    m, b = make_map(row.pt, TS, geometry=row.geometry, show_geometry=True, size=640) # create map with boundaries\n",
    "    \n",
    "    display(m)\n",
    "    inp = input(f\"Image Nr. {i} ok? Just enter. If truck, type \\\"t\\\". To exit type \\\"exit\\\"\")\n",
    "    \n",
    "    if inp == \"exit\":\n",
    "        print(\"Image to be checked next:\", row[\"id\"])\n",
    "        break\n",
    "    elif inp == \"t\":\n",
    "        trucklist.append(row[\"id\"]) # This feature may be useful if one is looking through car images and finds truck images\n",
    "    elif inp != \"\":\n",
    "        blacklist.append(row[\"id\"])\n",
    "    else: \n",
    "        whitelist.append(row[\"id\"])\n",
    "    \n",
    "    print(\"Last image checked:\", row[\"id\"])\n",
    "    print(\"\")"
   ]
  },
  {
   "cell_type": "code",
   "execution_count": 107,
   "id": "b9d309d5-e275-4464-8146-752ad1623f12",
   "metadata": {
    "tags": []
   },
   "outputs": [
    {
     "data": {
      "text/plain": [
       "['54.8565589_-2.875634_ts1']"
      ]
     },
     "execution_count": 107,
     "metadata": {},
     "output_type": "execute_result"
    }
   ],
   "source": [
    "# Print blacklist\n",
    "blacklist"
   ]
  },
  {
   "cell_type": "code",
   "execution_count": 108,
   "id": "c80c1c2a-7e28-402b-92b1-3aa325eb4946",
   "metadata": {
    "tags": []
   },
   "outputs": [
    {
     "data": {
      "text/plain": [
       "['36.5400085_-89.5958862_ts1']"
      ]
     },
     "execution_count": 108,
     "metadata": {},
     "output_type": "execute_result"
    }
   ],
   "source": [
    "# Print whitelist (to record which images have already been checked)\n",
    "whitelist"
   ]
  },
  {
   "cell_type": "markdown",
   "id": "34d0efc0-b45f-4dea-b94f-c37722a6abda",
   "metadata": {},
   "source": [
    "## Save blacklist and whitelist"
   ]
  },
  {
   "cell_type": "code",
   "execution_count": 109,
   "id": "25618a31-7274-40b9-a13b-55ce3cb7c405",
   "metadata": {
    "tags": []
   },
   "outputs": [],
   "source": [
    "# Function to save a csv, but check if it is already created\n",
    "def save_file(list1, csv_name, PATH):\n",
    "    if os.path.isfile(f\"{PATH}/{csv_name}.csv\"):\n",
    "        return f\"File \\\"{csv_name}\\\" already created! Change filename!\"\n",
    "    else:\n",
    "        dict1 = {'id': list1}\n",
    "        df = pd.DataFrame(dict1)\n",
    "        df.to_csv(f\"{PATH}/{csv_name}.csv\") \n",
    "        return f\"File \\\"{csv_name}\\\" successfully saved!\""
   ]
  },
  {
   "cell_type": "code",
   "execution_count": 111,
   "id": "9addd9a9-e452-461c-bca4-e1a3827dd9b4",
   "metadata": {},
   "outputs": [
    {
     "name": "stdout",
     "output_type": "stream",
     "text": [
      "File \"whitelist1\" successfully saved!\n",
      "File \"blacklist1\" successfully saved!\n"
     ]
    }
   ],
   "source": [
    "# Specify path where to save lists as csv:\n",
    "path = \"data/cars\"\n",
    "\n",
    "# Saving lists\n",
    "print(save_file(whitelist, \"whitelist1\", path))\n",
    "print(save_file(blacklist, \"blacklist1\", path))\n",
    "#print(save_file(trucklist, \"trucklist1\", path))"
   ]
  },
  {
   "cell_type": "code",
   "execution_count": null,
   "id": "ec9e0c67-938d-486e-ba77-65d56be39aa8",
   "metadata": {},
   "outputs": [],
   "source": []
  },
  {
   "cell_type": "code",
   "execution_count": null,
   "id": "631f6019-e17f-4441-b7bc-ebf2f80869e0",
   "metadata": {},
   "outputs": [],
   "source": [
    "# Difficult: \n",
    "d = [\"53.244_-3.191_ts2\", \"43.296_3.216_ts2\", \"41.501_-74.206_ts2\", \"42.571_-113.782_ts2\", \"41.247_-87.861_ts2\", \"49.96_7.951_ts2\"]"
   ]
  },
  {
   "cell_type": "code",
   "execution_count": null,
   "id": "0bb6169c-790f-4bd9-b6c4-bab848882561",
   "metadata": {},
   "outputs": [],
   "source": [
    "# Example, Truck Parking lot not built yet: 51.963_6.029_ts2, -37.805_144.753_ts2, 59.303_15.261_ts2, 41.092_29.288_ts2, 51.196_13.739_ts2\n",
    "# Not fully built yet ? 42.898_-74.099_ts2\n",
    "# Ngeative example: -29.487_152.335_ts2"
   ]
  },
  {
   "cell_type": "code",
   "execution_count": null,
   "id": "f1a68b85-a16f-44cb-9fd8-625984ac5aeb",
   "metadata": {},
   "outputs": [],
   "source": [
    "# \"The perfect\" truck parking lot: 51.087_13.274_ts2"
   ]
  },
  {
   "cell_type": "code",
   "execution_count": null,
   "id": "7135ae33-f040-4b65-9380-b3143550d28b",
   "metadata": {},
   "outputs": [],
   "source": [
    "# Nice car parking lot with feldern around: 45.0139306_0.1170134_ts2"
   ]
  }
 ],
 "metadata": {
  "kernelspec": {
   "display_name": "trustbit_venv",
   "language": "python",
   "name": "trustbit_venv"
  },
  "language_info": {
   "codemirror_mode": {
    "name": "ipython",
    "version": 3
   },
   "file_extension": ".py",
   "mimetype": "text/x-python",
   "name": "python",
   "nbconvert_exporter": "python",
   "pygments_lexer": "ipython3",
   "version": "3.9.7"
  }
 },
 "nbformat": 4,
 "nbformat_minor": 5
}
