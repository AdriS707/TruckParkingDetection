{
 "cells": [
  {
   "cell_type": "markdown",
   "id": "0d88a932-df8a-4b1c-a29e-40ee6874a36c",
   "metadata": {},
   "source": [
    "# Combination of white- and blacklists"
   ]
  },
  {
   "cell_type": "code",
   "execution_count": 1,
   "id": "ef3296a6-e99e-467c-aac0-ebd6da346726",
   "metadata": {},
   "outputs": [],
   "source": [
    "import pandas as pd\n",
    "import geopandas as gpd\n",
    "import numpy as np\n",
    "import os\n",
    "import time\n",
    "from shapely.geometry import shape, mapping as shapely_mapping\n",
    "from shapely import wkt\n",
    "import re"
   ]
  },
  {
   "cell_type": "code",
   "execution_count": 2,
   "id": "be9b48dc-e2df-4b55-8c02-e6aa252ec9dc",
   "metadata": {},
   "outputs": [],
   "source": [
    "# Function to save a csv, but check if it is already created\n",
    "def save_file(df, csv_name, PATH):\n",
    "    if os.path.isfile(f\"{PATH}/{csv_name}.csv\"):\n",
    "        return f\"File \\\"{csv_name}\\\" already created! Change filename!\"\n",
    "    else:\n",
    "        df.to_csv(f\"{PATH}/{csv_name}.csv\") \n",
    "        return f\"File \\\"{csv_name}\\\" successfully saved!\""
   ]
  },
  {
   "cell_type": "code",
   "execution_count": 3,
   "id": "a84354ad-9557-4fd8-b032-8d0673248f0e",
   "metadata": {},
   "outputs": [],
   "source": [
    "# Specify saving path of white- and blacklists for truck or car parking lots\n",
    "PATH = \"data/trucks_ls\" #\"data/cars_ls\""
   ]
  },
  {
   "cell_type": "code",
   "execution_count": null,
   "id": "65d23b71-b0da-4cb9-ae6e-b40849de4c6a",
   "metadata": {},
   "outputs": [],
   "source": []
  },
  {
   "cell_type": "markdown",
   "id": "21a33167-3a10-443e-b9ec-350224e6308a",
   "metadata": {},
   "source": [
    "## 1) Create Combined White- and Blacklists"
   ]
  },
  {
   "cell_type": "code",
   "execution_count": 4,
   "id": "08d95857-03ea-4e6a-9c3e-267eb99e8f24",
   "metadata": {},
   "outputs": [],
   "source": [
    "# Name of white and blacklists\n",
    "white_ls = [\"whitelist1\", \"whitelist2\", \"whitelist3\"] # adapt to your needs\n",
    "black_ls = [\"blacklist1\", \"blacklist2\", \"blacklist3\"] # adapt to your needs"
   ]
  },
  {
   "cell_type": "code",
   "execution_count": 5,
   "id": "c08443f3-9e71-4373-a658-a63e4fd78561",
   "metadata": {},
   "outputs": [
    {
     "name": "stdout",
     "output_type": "stream",
     "text": [
      "Whitelists successfully loaded\n",
      "Blacklists successfully loaded\n"
     ]
    }
   ],
   "source": [
    "# Concatenate whitelists\n",
    "first = True\n",
    "\n",
    "for csv_name in white_ls:\n",
    "    df = pd.read_csv(f\"./{PATH}/{csv_name}.csv\", index_col=0)\n",
    "    \n",
    "    if first:\n",
    "        temp = df\n",
    "        first = False\n",
    "    else: \n",
    "        temp = pd.concat([temp, df])\n",
    "    \n",
    "print(f\"Whitelists successfully loaded\")\n",
    "    \n",
    "whitelists = temp.copy()\n",
    "\n",
    "\n",
    "# Concatenate blacklists\n",
    "first = True\n",
    "for csv_name in black_ls:\n",
    "    df = pd.read_csv(f\"./{PATH}/{csv_name}.csv\", index_col=0)\n",
    "    \n",
    "    if first:\n",
    "        temp = df\n",
    "        first = False\n",
    "    else: \n",
    "        temp = pd.concat([temp, df])\n",
    "    \n",
    "print(f\"Blacklists successfully loaded\")\n",
    "\n",
    "blacklists = temp.copy()"
   ]
  },
  {
   "cell_type": "code",
   "execution_count": 6,
   "id": "fef86da3-a11d-4587-9c45-134062a263b5",
   "metadata": {},
   "outputs": [],
   "source": [
    "# Remove full duplicates\n",
    "whitelists = whitelists.drop_duplicates()\n",
    "blacklists = blacklists.drop_duplicates()"
   ]
  },
  {
   "cell_type": "code",
   "execution_count": 7,
   "id": "cbf6e161-e11b-438f-a02f-8a2c7263d53b",
   "metadata": {},
   "outputs": [
    {
     "data": {
      "text/plain": [
       "1"
      ]
     },
     "execution_count": 7,
     "metadata": {},
     "output_type": "execute_result"
    }
   ],
   "source": [
    "# Find images that accidentally might be in white- and blacklist\n",
    "dups = pd.merge(whitelists, blacklists, how ='inner', on =['id', 'id'])\n",
    "dups.shape[0] # Number of duplicate entries"
   ]
  },
  {
   "cell_type": "code",
   "execution_count": 8,
   "id": "71d1ddfa-59a9-4e83-8aa4-d5ae98195754",
   "metadata": {},
   "outputs": [
    {
     "data": {
      "text/plain": [
       "0"
      ]
     },
     "execution_count": 8,
     "metadata": {},
     "output_type": "execute_result"
    }
   ],
   "source": [
    "# Remove images that are in both lists from both lists\n",
    "whitelists = whitelists[whitelists.id.isin(dups.id) == False]\n",
    "blacklists = blacklists[blacklists.id.isin(dups.id) == False]\n",
    "\n",
    "# Check if all duplicates are removed\n",
    "pd.merge(whitelists, blacklists, how ='inner', on =['id', 'id']).shape[0]"
   ]
  },
  {
   "cell_type": "code",
   "execution_count": 9,
   "id": "d10d20ba-a658-4783-8c9d-8a683957f69f",
   "metadata": {},
   "outputs": [],
   "source": [
    "# Reset indices\n",
    "whitelists = whitelists.reset_index(drop=True)\n",
    "blacklists = blacklists.reset_index(drop=True)"
   ]
  },
  {
   "cell_type": "code",
   "execution_count": 10,
   "id": "16c32308-940e-4796-a825-38ded4f2ce56",
   "metadata": {},
   "outputs": [
    {
     "data": {
      "text/html": [
       "<div>\n",
       "<style scoped>\n",
       "    .dataframe tbody tr th:only-of-type {\n",
       "        vertical-align: middle;\n",
       "    }\n",
       "\n",
       "    .dataframe tbody tr th {\n",
       "        vertical-align: top;\n",
       "    }\n",
       "\n",
       "    .dataframe thead th {\n",
       "        text-align: right;\n",
       "    }\n",
       "</style>\n",
       "<table border=\"1\" class=\"dataframe\">\n",
       "  <thead>\n",
       "    <tr style=\"text-align: right;\">\n",
       "      <th></th>\n",
       "      <th>id</th>\n",
       "    </tr>\n",
       "  </thead>\n",
       "  <tbody>\n",
       "    <tr>\n",
       "      <th>0</th>\n",
       "      <td>45.4727254_3.2479538_ts1</td>\n",
       "    </tr>\n",
       "    <tr>\n",
       "      <th>1</th>\n",
       "      <td>43.4387796_-112.1136612_ts1</td>\n",
       "    </tr>\n",
       "    <tr>\n",
       "      <th>2</th>\n",
       "      <td>49.7030926_12.9882907_ts1</td>\n",
       "    </tr>\n",
       "    <tr>\n",
       "      <th>3</th>\n",
       "      <td>38.0495663_-102.0508654_ts1</td>\n",
       "    </tr>\n",
       "    <tr>\n",
       "      <th>4</th>\n",
       "      <td>35.8807974_-97.3903998_ts1</td>\n",
       "    </tr>\n",
       "    <tr>\n",
       "      <th>5</th>\n",
       "      <td>51.0867363_6.8169281_ts1</td>\n",
       "    </tr>\n",
       "    <tr>\n",
       "      <th>6</th>\n",
       "      <td>35.4300652_-84.6883_ts1</td>\n",
       "    </tr>\n",
       "    <tr>\n",
       "      <th>7</th>\n",
       "      <td>37.9882682_58.3524541_ts1</td>\n",
       "    </tr>\n",
       "    <tr>\n",
       "      <th>8</th>\n",
       "      <td>43.7569066_-89.9685034_ts1</td>\n",
       "    </tr>\n",
       "    <tr>\n",
       "      <th>9</th>\n",
       "      <td>45.4727254_3.2479538_ts2</td>\n",
       "    </tr>\n",
       "  </tbody>\n",
       "</table>\n",
       "</div>"
      ],
      "text/plain": [
       "                            id\n",
       "0     45.4727254_3.2479538_ts1\n",
       "1  43.4387796_-112.1136612_ts1\n",
       "2    49.7030926_12.9882907_ts1\n",
       "3  38.0495663_-102.0508654_ts1\n",
       "4   35.8807974_-97.3903998_ts1\n",
       "5     51.0867363_6.8169281_ts1\n",
       "6      35.4300652_-84.6883_ts1\n",
       "7    37.9882682_58.3524541_ts1\n",
       "8   43.7569066_-89.9685034_ts1\n",
       "9     45.4727254_3.2479538_ts2"
      ]
     },
     "execution_count": 10,
     "metadata": {},
     "output_type": "execute_result"
    }
   ],
   "source": [
    "whitelists"
   ]
  },
  {
   "cell_type": "code",
   "execution_count": 11,
   "id": "f821847a-7932-4526-bd17-731e6779feb8",
   "metadata": {},
   "outputs": [
    {
     "name": "stdout",
     "output_type": "stream",
     "text": [
      "Whitelist: Empty DataFrame\n",
      "Columns: [id]\n",
      "Index: []\n",
      "Blacklist: Empty DataFrame\n",
      "Columns: [id]\n",
      "Index: []\n"
     ]
    }
   ],
   "source": [
    "# Manually check if a certain id is in a list\n",
    "id1 = \"46.419_4.863_ts1\"\n",
    "print(\"Whitelist:\", whitelists.loc[whitelists[\"id\"] == id1])\n",
    "print(\"Blacklist:\", blacklists.loc[blacklists[\"id\"] == id1])"
   ]
  },
  {
   "cell_type": "code",
   "execution_count": 12,
   "id": "f692f8b5-1f2d-4b09-9918-041a0a7cbcbf",
   "metadata": {},
   "outputs": [
    {
     "name": "stdout",
     "output_type": "stream",
     "text": [
      "File \"whitelist_full\" successfully saved!\n",
      "File \"blacklist_full\" successfully saved!\n"
     ]
    }
   ],
   "source": [
    "# Saving full lists (saved in same path as list pieces)\n",
    "print(save_file(whitelists, \"whitelist_full\", PATH))\n",
    "print(save_file(blacklists, \"blacklist_full\", PATH))"
   ]
  },
  {
   "cell_type": "code",
   "execution_count": null,
   "id": "e85aee32-ad9a-433e-ac84-f97b5ec54a7a",
   "metadata": {},
   "outputs": [],
   "source": []
  },
  {
   "cell_type": "markdown",
   "id": "d06f345b-62d3-4dc5-a478-073e29bdf4a1",
   "metadata": {
    "tags": []
   },
   "source": [
    "## 2) Creating sample of coordinate data according to white- and blacklists"
   ]
  },
  {
   "cell_type": "code",
   "execution_count": 13,
   "id": "694df756-0bfa-4ce4-9607-129c7a982ad0",
   "metadata": {},
   "outputs": [],
   "source": [
    "# CHECKPOINT\n",
    "whitelists = pd.read_csv(f\"./{PATH}/whitelist_full.csv\", index_col=0)\n",
    "blacklists = pd.read_csv(f\"./{PATH}/blacklist_full.csv\", index_col=0)"
   ]
  },
  {
   "cell_type": "code",
   "execution_count": 15,
   "id": "dc542e52-2e02-4ecb-bf6d-3a93601a2126",
   "metadata": {},
   "outputs": [],
   "source": [
    "# Create an unique id based on position of parking lot\n",
    "def parking_name(row_or_pt, ts):\n",
    "    try:\n",
    "        pt = row_or_pt\n",
    "        a = round(pt[0], 7)\n",
    "        b = round(pt[1], 7)\n",
    "    except:\n",
    "        return np.nan\n",
    "    \n",
    "    return f\"{a}_{b}_ts{ts}\"\n",
    "\n",
    "\n",
    "# Get the first point of polygon list as tuple of floats\n",
    "def get_point(geom):\n",
    "    try:\n",
    "        pt = re.split(r\",\", geom[9:])[0]\n",
    "        pt = tuple(map(float, pt.split(' ')))\n",
    "        pt_s = (pt[1], pt[0])\n",
    "    except:\n",
    "        return np.nan\n",
    "    \n",
    "    return pt_s"
   ]
  },
  {
   "cell_type": "code",
   "execution_count": 16,
   "id": "1df31e11-f4f9-4b10-9373-7eb478d9f829",
   "metadata": {},
   "outputs": [
    {
     "name": "stdout",
     "output_type": "stream",
     "text": [
      "Started at: Sun Jul  3 15:32:01 2022\n",
      "File nr. 0 successfully loaded\n",
      "File nr. 1 successfully loaded\n",
      "Computation time (Min.): 0.00033362706502278644\n"
     ]
    }
   ],
   "source": [
    "# Loading data\n",
    "# This part needs to be adapted according to database used\n",
    "\n",
    "# THIS CAN TAKE UP SOME TIME DEPENDING ON DATA SIZE\n",
    "\n",
    "start_time = time.localtime()\n",
    "start_t = time.time()\n",
    "print(\"Started at:\", time.asctime(start_time))\n",
    "\n",
    "file_nr = list(range(2)) # Depending on the number of files with raw data\n",
    "first = True\n",
    "\n",
    "for i in file_nr:\n",
    "    df_r = pd.read_json(f\"data/osm_parking_polygons_0{i}_test.json\", lines=True)\n",
    "    df_r[\"pt\"] = df_r[\"geometry\"].transform(lambda x: get_point(x))\n",
    "    df_r = df_r.drop_duplicates(subset=['osm_version', 'osm_way_id', 'osm_timestamp', 'geometry', 'key', 'value', 'pt'])\n",
    "    df_ts1 = df_r.copy()\n",
    "    df_ts2 = df_r.copy()\n",
    "    \n",
    "    df_ts1[\"id\"] = [parking_name(x, 1) for x in df_r[\"pt\"]]\n",
    "    df_ts2[\"id\"] = [parking_name(x, 2) for x in df_r[\"pt\"]]\n",
    "    \n",
    "    df = pd.concat([df_ts1, df_ts2])\n",
    "    df = pd.merge(df, whitelists, how='inner', left_on='id', right_on=\"id\")\n",
    "    df = df[[\"id\", \"pt\", \"geometry\", \"all_tags\"]]\n",
    "    df = df.dropna()\n",
    "    \n",
    "    if first:\n",
    "        temp = df\n",
    "        first = False\n",
    "    else:\n",
    "        temp = pd.concat([temp, df])\n",
    "    \n",
    "    print(f\"File nr. {i} successfully loaded\")\n",
    "\n",
    "end_t = time.time()\n",
    "print(\"Computation time (Min.):\", (end_t-start_t)/60)"
   ]
  },
  {
   "cell_type": "code",
   "execution_count": 17,
   "id": "5b5bdc81-8c5b-4ee8-9bd0-4859c3bf4912",
   "metadata": {},
   "outputs": [],
   "source": [
    "# Drop full duplicates and reset index\n",
    "temp = temp.drop_duplicates(subset=[\"id\", \"pt\"], keep=\"first\")\n",
    "temp = temp.reset_index(drop=True)"
   ]
  },
  {
   "cell_type": "code",
   "execution_count": 18,
   "id": "eab48611-2034-4130-a28f-90b4bfeda5d5",
   "metadata": {},
   "outputs": [
    {
     "data": {
      "text/html": [
       "<div>\n",
       "<style scoped>\n",
       "    .dataframe tbody tr th:only-of-type {\n",
       "        vertical-align: middle;\n",
       "    }\n",
       "\n",
       "    .dataframe tbody tr th {\n",
       "        vertical-align: top;\n",
       "    }\n",
       "\n",
       "    .dataframe thead th {\n",
       "        text-align: right;\n",
       "    }\n",
       "</style>\n",
       "<table border=\"1\" class=\"dataframe\">\n",
       "  <thead>\n",
       "    <tr style=\"text-align: right;\">\n",
       "      <th></th>\n",
       "      <th>id</th>\n",
       "      <th>pt</th>\n",
       "      <th>geometry</th>\n",
       "      <th>all_tags</th>\n",
       "    </tr>\n",
       "  </thead>\n",
       "  <tbody>\n",
       "    <tr>\n",
       "      <th>0</th>\n",
       "      <td>45.4727254_3.2479538_ts1</td>\n",
       "      <td>(45.4727254, 3.2479538)</td>\n",
       "      <td>POLYGON((3.2479538 45.4727254, 3.2479409 45.47...</td>\n",
       "      <td>[{'key': 'access', 'value': 'yes'}, {'key': 'a...</td>\n",
       "    </tr>\n",
       "    <tr>\n",
       "      <th>1</th>\n",
       "      <td>43.4387796_-112.1136612_ts1</td>\n",
       "      <td>(43.4387796, -112.1136612)</td>\n",
       "      <td>POLYGON((-112.1136612 43.4387796, -112.1137506...</td>\n",
       "      <td>[{'key': 'amenity', 'value': 'parking'}, {'key...</td>\n",
       "    </tr>\n",
       "    <tr>\n",
       "      <th>2</th>\n",
       "      <td>49.7030926_12.9882907_ts1</td>\n",
       "      <td>(49.7030926, 12.9882907)</td>\n",
       "      <td>POLYGON((12.9882907 49.7030926, 12.9884926 49....</td>\n",
       "      <td>[{'key': 'amenity', 'value': 'parking'}, {'key...</td>\n",
       "    </tr>\n",
       "    <tr>\n",
       "      <th>3</th>\n",
       "      <td>38.0495663_-102.0508654_ts1</td>\n",
       "      <td>(38.0495663, -102.0508654)</td>\n",
       "      <td>POLYGON((-102.0508654 38.0495663, -102.0509062...</td>\n",
       "      <td>[{'key': 'amenity', 'value': 'parking'}, {'key...</td>\n",
       "    </tr>\n",
       "    <tr>\n",
       "      <th>4</th>\n",
       "      <td>35.8807974_-97.3903998_ts1</td>\n",
       "      <td>(35.8807974, -97.3903998)</td>\n",
       "      <td>POLYGON((-97.3903998 35.8807974, -97.3905618 3...</td>\n",
       "      <td>[{'key': 'amenity', 'value': 'parking'}, {'key...</td>\n",
       "    </tr>\n",
       "    <tr>\n",
       "      <th>5</th>\n",
       "      <td>51.0867363_6.8169281_ts1</td>\n",
       "      <td>(51.0867363, 6.8169281)</td>\n",
       "      <td>POLYGON((6.8169281 51.0867363, 6.8181226 51.08...</td>\n",
       "      <td>[{'key': 'access', 'value': 'private'}, {'key'...</td>\n",
       "    </tr>\n",
       "    <tr>\n",
       "      <th>6</th>\n",
       "      <td>45.4727254_3.2479538_ts2</td>\n",
       "      <td>(45.4727254, 3.2479538)</td>\n",
       "      <td>POLYGON((3.2479538 45.4727254, 3.2479409 45.47...</td>\n",
       "      <td>[{'key': 'access', 'value': 'yes'}, {'key': 'a...</td>\n",
       "    </tr>\n",
       "    <tr>\n",
       "      <th>7</th>\n",
       "      <td>35.4300652_-84.6883_ts1</td>\n",
       "      <td>(35.4300652, -84.6883)</td>\n",
       "      <td>POLYGON((-84.6883 35.4300652, -84.6885669 35.4...</td>\n",
       "      <td>[{'key': 'amenity', 'value': 'parking'}, {'key...</td>\n",
       "    </tr>\n",
       "    <tr>\n",
       "      <th>8</th>\n",
       "      <td>37.9882682_58.3524541_ts1</td>\n",
       "      <td>(37.9882682, 58.3524541)</td>\n",
       "      <td>POLYGON((58.3524541 37.9882682, 58.3529479 37....</td>\n",
       "      <td>[{'key': 'amenity', 'value': 'parking'}, {'key...</td>\n",
       "    </tr>\n",
       "    <tr>\n",
       "      <th>9</th>\n",
       "      <td>43.7569066_-89.9685034_ts1</td>\n",
       "      <td>(43.7569066, -89.9685034)</td>\n",
       "      <td>POLYGON((-89.9685034 43.7569066, -89.9685579 4...</td>\n",
       "      <td>[{'key': 'amenity', 'value': 'parking'}, {'key...</td>\n",
       "    </tr>\n",
       "  </tbody>\n",
       "</table>\n",
       "</div>"
      ],
      "text/plain": [
       "                            id                          pt  \\\n",
       "0     45.4727254_3.2479538_ts1     (45.4727254, 3.2479538)   \n",
       "1  43.4387796_-112.1136612_ts1  (43.4387796, -112.1136612)   \n",
       "2    49.7030926_12.9882907_ts1    (49.7030926, 12.9882907)   \n",
       "3  38.0495663_-102.0508654_ts1  (38.0495663, -102.0508654)   \n",
       "4   35.8807974_-97.3903998_ts1   (35.8807974, -97.3903998)   \n",
       "5     51.0867363_6.8169281_ts1     (51.0867363, 6.8169281)   \n",
       "6     45.4727254_3.2479538_ts2     (45.4727254, 3.2479538)   \n",
       "7      35.4300652_-84.6883_ts1      (35.4300652, -84.6883)   \n",
       "8    37.9882682_58.3524541_ts1    (37.9882682, 58.3524541)   \n",
       "9   43.7569066_-89.9685034_ts1   (43.7569066, -89.9685034)   \n",
       "\n",
       "                                            geometry  \\\n",
       "0  POLYGON((3.2479538 45.4727254, 3.2479409 45.47...   \n",
       "1  POLYGON((-112.1136612 43.4387796, -112.1137506...   \n",
       "2  POLYGON((12.9882907 49.7030926, 12.9884926 49....   \n",
       "3  POLYGON((-102.0508654 38.0495663, -102.0509062...   \n",
       "4  POLYGON((-97.3903998 35.8807974, -97.3905618 3...   \n",
       "5  POLYGON((6.8169281 51.0867363, 6.8181226 51.08...   \n",
       "6  POLYGON((3.2479538 45.4727254, 3.2479409 45.47...   \n",
       "7  POLYGON((-84.6883 35.4300652, -84.6885669 35.4...   \n",
       "8  POLYGON((58.3524541 37.9882682, 58.3529479 37....   \n",
       "9  POLYGON((-89.9685034 43.7569066, -89.9685579 4...   \n",
       "\n",
       "                                            all_tags  \n",
       "0  [{'key': 'access', 'value': 'yes'}, {'key': 'a...  \n",
       "1  [{'key': 'amenity', 'value': 'parking'}, {'key...  \n",
       "2  [{'key': 'amenity', 'value': 'parking'}, {'key...  \n",
       "3  [{'key': 'amenity', 'value': 'parking'}, {'key...  \n",
       "4  [{'key': 'amenity', 'value': 'parking'}, {'key...  \n",
       "5  [{'key': 'access', 'value': 'private'}, {'key'...  \n",
       "6  [{'key': 'access', 'value': 'yes'}, {'key': 'a...  \n",
       "7  [{'key': 'amenity', 'value': 'parking'}, {'key...  \n",
       "8  [{'key': 'amenity', 'value': 'parking'}, {'key...  \n",
       "9  [{'key': 'amenity', 'value': 'parking'}, {'key...  "
      ]
     },
     "execution_count": 18,
     "metadata": {},
     "output_type": "execute_result"
    }
   ],
   "source": [
    "temp"
   ]
  },
  {
   "cell_type": "code",
   "execution_count": 19,
   "id": "73abf947-1e79-40a9-9ba3-e4e72578e6a2",
   "metadata": {},
   "outputs": [
    {
     "name": "stdout",
     "output_type": "stream",
     "text": [
      "File \"osm_data_trucks_test\" successfully saved!\n"
     ]
    }
   ],
   "source": [
    "# Save TRUCKS\n",
    "print(save_file(temp, \"osm_data_trucks_test\", \"data\"))"
   ]
  },
  {
   "cell_type": "code",
   "execution_count": 20,
   "id": "aca59334-7764-4743-a6d6-574709b3cb02",
   "metadata": {},
   "outputs": [],
   "source": [
    "# Save CARS\n",
    "#print(save_file(temp, \"osm_data_cars_test\", \"data\"))"
   ]
  },
  {
   "cell_type": "code",
   "execution_count": null,
   "id": "aefb9f60-721d-44df-9cd7-335a8b049b26",
   "metadata": {},
   "outputs": [],
   "source": []
  }
 ],
 "metadata": {
  "kernelspec": {
   "display_name": "trustbit_venv",
   "language": "python",
   "name": "trustbit_venv"
  },
  "language_info": {
   "codemirror_mode": {
    "name": "ipython",
    "version": 3
   },
   "file_extension": ".py",
   "mimetype": "text/x-python",
   "name": "python",
   "nbconvert_exporter": "python",
   "pygments_lexer": "ipython3",
   "version": "3.9.7"
  }
 },
 "nbformat": 4,
 "nbformat_minor": 5
}
