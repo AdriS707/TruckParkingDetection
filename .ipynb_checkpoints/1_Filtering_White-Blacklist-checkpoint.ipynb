{
 "cells": [
  {
   "cell_type": "markdown",
   "id": "0d88a932-df8a-4b1c-a29e-40ee6874a36c",
   "metadata": {},
   "source": [
    "# Combination of white and blacklists"
   ]
  },
  {
   "cell_type": "markdown",
   "id": "717e9a56-5ef3-46a9-bf15-3b442eeaea79",
   "metadata": {},
   "source": [
    "Data source: https://www.dropbox.com/sh/08ccnkpr5wdihdg/AAAz_s0IeX99co_34sARF70ma/OSM%20dataset%20JSON?dl=0&preview=osm_parking_polygons_09.json.gzip&subfolder_nav_tracking=1"
   ]
  },
  {
   "cell_type": "code",
   "execution_count": 1,
   "id": "ef3296a6-e99e-467c-aac0-ebd6da346726",
   "metadata": {},
   "outputs": [],
   "source": [
    "import pandas as pd\n",
    "import geopandas as gpd\n",
    "import numpy as np\n",
    "import os\n",
    "import time\n",
    "from shapely.geometry import shape, mapping as shapely_mapping\n",
    "from shapely import wkt\n",
    "import re"
   ]
  },
  {
   "cell_type": "code",
   "execution_count": 81,
   "id": "be9b48dc-e2df-4b55-8c02-e6aa252ec9dc",
   "metadata": {},
   "outputs": [],
   "source": [
    "def savefile(df, csv_name, PATH):\n",
    "    if os.path.isfile(f\"{PATH}/{csv_name}.csv\"):\n",
    "        return f\"File \\\"{csv_name}\\\" already created! Change filename!\"\n",
    "    else:\n",
    "        df.to_csv(f\"{PATH}/{csv_name}.csv\") \n",
    "        return f\"File \\\"{csv_name}\\\" successfully saved!\""
   ]
  },
  {
   "cell_type": "code",
   "execution_count": null,
   "id": "65d23b71-b0da-4cb9-ae6e-b40849de4c6a",
   "metadata": {},
   "outputs": [],
   "source": []
  },
  {
   "cell_type": "markdown",
   "id": "21a33167-3a10-443e-b9ec-350224e6308a",
   "metadata": {},
   "source": [
    "## 1) A - Truck Parking Lots"
   ]
  },
  {
   "cell_type": "code",
   "execution_count": null,
   "id": "e8e982a3-3f5e-43ee-96d2-c26d4911970f",
   "metadata": {},
   "outputs": [],
   "source": [
    "# Number of \"trucks\" related parking lots:\n",
    "# 00:  112\n",
    "# 01:  101\n",
    "# 02:  111\n",
    "# 03:  102\n",
    "# 04:   87\n",
    "# 05:   97\n",
    "# 06:  133\n",
    "# 07:  118\n",
    "# 08:  119\n",
    "# 09:  108\n",
    "# Sum: 1088"
   ]
  },
  {
   "cell_type": "code",
   "execution_count": 35,
   "id": "08d95857-03ea-4e6a-9c3e-267eb99e8f24",
   "metadata": {},
   "outputs": [],
   "source": [
    "white_ls = [\"whitelist\", \"whitelist2\", \"whitelist3\", \"whitelist-A\", \"whitelist-M\", \"whitelist-J\", \"trucklist\"]\n",
    "black_ls = [\"blacklist\", \"blacklist2\", \"blacklist3\", \"blacklist-A\", \"blacklist-M\", \"blacklist-J\"]"
   ]
  },
  {
   "cell_type": "code",
   "execution_count": 36,
   "id": "a84354ad-9557-4fd8-b032-8d0673248f0e",
   "metadata": {},
   "outputs": [],
   "source": [
    "PATH = \"ndata/trucks\""
   ]
  },
  {
   "cell_type": "code",
   "execution_count": 37,
   "id": "c08443f3-9e71-4373-a658-a63e4fd78561",
   "metadata": {},
   "outputs": [
    {
     "name": "stdout",
     "output_type": "stream",
     "text": [
      "Whitelists successfully loaded\n",
      "Blacklists successfully loaded\n"
     ]
    }
   ],
   "source": [
    "# Whitelists\n",
    "first = True\n",
    "\n",
    "for csv_name in white_ls:\n",
    "    df = pd.read_csv(f\"./{PATH}/{csv_name}.csv\", index_col=0)\n",
    "    \n",
    "    if first:\n",
    "        temp = df\n",
    "        first = False\n",
    "    else: \n",
    "        temp = pd.concat([temp, df])\n",
    "    \n",
    "print(f\"Whitelists successfully loaded\")\n",
    "    \n",
    "whitelists = temp.copy()\n",
    "\n",
    "# Blacklists\n",
    "first = True\n",
    "for csv_name in black_ls:\n",
    "    df = pd.read_csv(f\"./{PATH}/{csv_name}.csv\", index_col=0)\n",
    "    \n",
    "    if first:\n",
    "        temp = df\n",
    "        first = False\n",
    "    else: \n",
    "        temp = pd.concat([temp, df])\n",
    "    \n",
    "print(f\"Blacklists successfully loaded\")\n",
    "\n",
    "blacklists = temp.copy()"
   ]
  },
  {
   "cell_type": "code",
   "execution_count": 38,
   "id": "16c32308-940e-4796-a825-38ded4f2ce56",
   "metadata": {},
   "outputs": [
    {
     "data": {
      "text/html": [
       "<div>\n",
       "<style scoped>\n",
       "    .dataframe tbody tr th:only-of-type {\n",
       "        vertical-align: middle;\n",
       "    }\n",
       "\n",
       "    .dataframe tbody tr th {\n",
       "        vertical-align: top;\n",
       "    }\n",
       "\n",
       "    .dataframe thead th {\n",
       "        text-align: right;\n",
       "    }\n",
       "</style>\n",
       "<table border=\"1\" class=\"dataframe\">\n",
       "  <thead>\n",
       "    <tr style=\"text-align: right;\">\n",
       "      <th></th>\n",
       "      <th>id</th>\n",
       "    </tr>\n",
       "  </thead>\n",
       "  <tbody>\n",
       "    <tr>\n",
       "      <th>0</th>\n",
       "      <td>45.472_3.249_ts2</td>\n",
       "    </tr>\n",
       "    <tr>\n",
       "      <th>1</th>\n",
       "      <td>40.564_-105.008_ts2</td>\n",
       "    </tr>\n",
       "    <tr>\n",
       "      <th>2</th>\n",
       "      <td>37.68_-106.547_ts2</td>\n",
       "    </tr>\n",
       "    <tr>\n",
       "      <th>3</th>\n",
       "      <td>41.336_-83.626_ts2</td>\n",
       "    </tr>\n",
       "    <tr>\n",
       "      <th>4</th>\n",
       "      <td>40.986_-83.712_ts2</td>\n",
       "    </tr>\n",
       "    <tr>\n",
       "      <th>...</th>\n",
       "      <td>...</td>\n",
       "    </tr>\n",
       "    <tr>\n",
       "      <th>272</th>\n",
       "      <td>45.338_3.275_ts1</td>\n",
       "    </tr>\n",
       "    <tr>\n",
       "      <th>273</th>\n",
       "      <td>44.745_3.288_ts1</td>\n",
       "    </tr>\n",
       "    <tr>\n",
       "      <th>274</th>\n",
       "      <td>50.713_9.66_ts1</td>\n",
       "    </tr>\n",
       "    <tr>\n",
       "      <th>275</th>\n",
       "      <td>40.417_-74.443_ts1</td>\n",
       "    </tr>\n",
       "    <tr>\n",
       "      <th>276</th>\n",
       "      <td>39.941_-81.533_ts1</td>\n",
       "    </tr>\n",
       "  </tbody>\n",
       "</table>\n",
       "<p>1101 rows × 1 columns</p>\n",
       "</div>"
      ],
      "text/plain": [
       "                      id\n",
       "0       45.472_3.249_ts2\n",
       "1    40.564_-105.008_ts2\n",
       "2     37.68_-106.547_ts2\n",
       "3     41.336_-83.626_ts2\n",
       "4     40.986_-83.712_ts2\n",
       "..                   ...\n",
       "272     45.338_3.275_ts1\n",
       "273     44.745_3.288_ts1\n",
       "274      50.713_9.66_ts1\n",
       "275   40.417_-74.443_ts1\n",
       "276   39.941_-81.533_ts1\n",
       "\n",
       "[1101 rows x 1 columns]"
      ]
     },
     "execution_count": 38,
     "metadata": {},
     "output_type": "execute_result"
    }
   ],
   "source": [
    "whitelists"
   ]
  },
  {
   "cell_type": "code",
   "execution_count": 6,
   "id": "cbf6e161-e11b-438f-a02f-8a2c7263d53b",
   "metadata": {},
   "outputs": [
    {
     "data": {
      "text/plain": [
       "(31, 1)"
      ]
     },
     "execution_count": 6,
     "metadata": {},
     "output_type": "execute_result"
    }
   ],
   "source": [
    "# Problematic images!\n",
    "dups = pd.merge(whitelists, blacklists, how ='inner', on =['id', 'id'])\n",
    "dups.shape"
   ]
  },
  {
   "cell_type": "code",
   "execution_count": 7,
   "id": "71d1ddfa-59a9-4e83-8aa4-d5ae98195754",
   "metadata": {},
   "outputs": [],
   "source": [
    "whitelists = whitelists[whitelists.id.isin(dups.id) == False]\n",
    "blacklists = blacklists[blacklists.id.isin(dups.id) == False]"
   ]
  },
  {
   "cell_type": "code",
   "execution_count": 8,
   "id": "fd0e20d7-d64d-4e55-a912-dc1dcf166082",
   "metadata": {},
   "outputs": [
    {
     "data": {
      "text/plain": [
       "(0, 1)"
      ]
     },
     "execution_count": 8,
     "metadata": {},
     "output_type": "execute_result"
    }
   ],
   "source": [
    "pd.merge(whitelists, blacklists, how ='inner', on =['id', 'id']).shape"
   ]
  },
  {
   "cell_type": "code",
   "execution_count": 52,
   "id": "f821847a-7932-4526-bd17-731e6779feb8",
   "metadata": {},
   "outputs": [
    {
     "name": "stdout",
     "output_type": "stream",
     "text": [
      "Whitelist: Empty DataFrame\n",
      "Columns: [id]\n",
      "Index: []\n",
      "Blacklist: Empty DataFrame\n",
      "Columns: [id]\n",
      "Index: []\n"
     ]
    }
   ],
   "source": [
    "id1 = \"46.419_4.863_ts1\"\n",
    "print(\"Whitelist:\", whitelists.loc[whitelists[\"id\"] == id1])\n",
    "print(\"Blacklist:\", blacklists.loc[blacklists[\"id\"] == id1])"
   ]
  },
  {
   "cell_type": "code",
   "execution_count": 56,
   "id": "f692f8b5-1f2d-4b09-9918-041a0a7cbcbf",
   "metadata": {},
   "outputs": [
    {
     "name": "stdout",
     "output_type": "stream",
     "text": [
      "File \"whitelist_full\" successfully saved!\n",
      "File \"blacklist_full\" successfully saved!\n"
     ]
    }
   ],
   "source": [
    "# Saving full lists\n",
    "#print(savefile(whitelists, \"whitelist_full\", PATH))\n",
    "#print(savefile(blacklists, \"blacklist_full\", PATH))"
   ]
  },
  {
   "cell_type": "code",
   "execution_count": null,
   "id": "e85aee32-ad9a-433e-ac84-f97b5ec54a7a",
   "metadata": {},
   "outputs": [],
   "source": []
  },
  {
   "cell_type": "markdown",
   "id": "ff4f40b5-993b-4022-94f6-7ed6bc8514d2",
   "metadata": {},
   "source": [
    "## 1) B - PKW Parking Lots"
   ]
  },
  {
   "cell_type": "code",
   "execution_count": null,
   "id": "6c84273f-5052-473d-9255-7b9f9b9b5efc",
   "metadata": {},
   "outputs": [],
   "source": [
    "# Simply drop duplicates"
   ]
  },
  {
   "cell_type": "code",
   "execution_count": 56,
   "id": "a5966113-773b-48cf-93ad-84e56fad518c",
   "metadata": {},
   "outputs": [],
   "source": [
    "white_ls =   [\"whitelist\", \"whitelist_-471\", \"whitelist_471-1000\", \"whitelist_1000-1198\", \"whitelist_1198-1525\", \"whitelist_1525-1805\", \"whitelist_1805-2201\", \"whitelist_2201-2609\", \"whitelist_2610-3171\", \"whitelist_3171-3501\", \"whitelist_3501-4001\", \"whitelist_4001-4623\", \"whitelist_4623-4895\", \"whitelist_4895-5068\",\"whitelist2\", \"whitelist3\", \"whitelist-M\"]\n",
    "black_ls = [\"whitelist_1-X\", \"whitelist_2-X\", \"whitelist_3-X\"]\n",
    "#black_ls = [\"blacklist\", \"blacklist2\", \"blacklist3\", \"blacklist-A\", \"blacklist-M\", \"blacklist-J\"]"
   ]
  },
  {
   "cell_type": "code",
   "execution_count": 50,
   "id": "a093a115-c8d9-4896-b8e6-5b9478354207",
   "metadata": {},
   "outputs": [],
   "source": [
    "PATH = \"ndata/cars\""
   ]
  },
  {
   "cell_type": "code",
   "execution_count": 66,
   "id": "762e4bb6-9072-488a-97de-96d46216d57a",
   "metadata": {},
   "outputs": [
    {
     "name": "stdout",
     "output_type": "stream",
     "text": [
      "Whitelists successfully loaded\n"
     ]
    }
   ],
   "source": [
    "# Load whitelists\n",
    "first = True\n",
    "\n",
    "for csv_name in white_ls:\n",
    "    df = pd.read_csv(f\"./{PATH}/{csv_name}.csv\", index_col=0)\n",
    "    \n",
    "    if first:\n",
    "        temp_W = df\n",
    "        first = False\n",
    "    else: \n",
    "        temp_W = pd.concat([temp_W, df])\n",
    "    \n",
    "print(f\"Whitelists successfully loaded\")\n",
    "    \n",
    "whitelists = temp_W.copy()"
   ]
  },
  {
   "cell_type": "code",
   "execution_count": 67,
   "id": "638b8019-5cd1-475e-98c6-37db05bc3f8d",
   "metadata": {},
   "outputs": [
    {
     "name": "stdout",
     "output_type": "stream",
     "text": [
      "Blacklists successfully loaded\n"
     ]
    }
   ],
   "source": [
    "# Load blacklists for later!\n",
    "first_X = True\n",
    "for csv_name in black_ls:\n",
    "    df_X = pd.read_csv(f\"./{PATH}/{csv_name}.csv\", index_col=0)\n",
    "    \n",
    "    if first_X:\n",
    "        temp_X = df_X\n",
    "        first_X = False\n",
    "    else: \n",
    "        tem_Xp = pd.concat([temp_X, df_X])\n",
    "    \n",
    "print(f\"Blacklists successfully loaded\")\n",
    "    \n",
    "blacklists_X = temp_X.copy()"
   ]
  },
  {
   "cell_type": "code",
   "execution_count": 68,
   "id": "1872d238-5749-43d1-b207-4e3449d3ffb1",
   "metadata": {},
   "outputs": [
    {
     "data": {
      "text/html": [
       "<div>\n",
       "<style scoped>\n",
       "    .dataframe tbody tr th:only-of-type {\n",
       "        vertical-align: middle;\n",
       "    }\n",
       "\n",
       "    .dataframe tbody tr th {\n",
       "        vertical-align: top;\n",
       "    }\n",
       "\n",
       "    .dataframe thead th {\n",
       "        text-align: right;\n",
       "    }\n",
       "</style>\n",
       "<table border=\"1\" class=\"dataframe\">\n",
       "  <thead>\n",
       "    <tr style=\"text-align: right;\">\n",
       "      <th></th>\n",
       "      <th>id</th>\n",
       "    </tr>\n",
       "  </thead>\n",
       "  <tbody>\n",
       "    <tr>\n",
       "      <th>0</th>\n",
       "      <td>59.188_17.617_ts2</td>\n",
       "    </tr>\n",
       "    <tr>\n",
       "      <th>1</th>\n",
       "      <td>51.975_8.502_ts2</td>\n",
       "    </tr>\n",
       "    <tr>\n",
       "      <th>2</th>\n",
       "      <td>39.864_-4.019_ts2</td>\n",
       "    </tr>\n",
       "    <tr>\n",
       "      <th>3</th>\n",
       "      <td>43.757_-79.232_ts2</td>\n",
       "    </tr>\n",
       "    <tr>\n",
       "      <th>4</th>\n",
       "      <td>45.537_5.585_ts2</td>\n",
       "    </tr>\n",
       "    <tr>\n",
       "      <th>...</th>\n",
       "      <td>...</td>\n",
       "    </tr>\n",
       "    <tr>\n",
       "      <th>451</th>\n",
       "      <td>45.259_-93.655_ts2</td>\n",
       "    </tr>\n",
       "    <tr>\n",
       "      <th>452</th>\n",
       "      <td>39.921_-76.683_ts2</td>\n",
       "    </tr>\n",
       "    <tr>\n",
       "      <th>453</th>\n",
       "      <td>39.942_-82.988_ts2</td>\n",
       "    </tr>\n",
       "    <tr>\n",
       "      <th>454</th>\n",
       "      <td>36.57_-87.387_ts2</td>\n",
       "    </tr>\n",
       "    <tr>\n",
       "      <th>455</th>\n",
       "      <td>36.57_-87.387_ts2</td>\n",
       "    </tr>\n",
       "  </tbody>\n",
       "</table>\n",
       "<p>456 rows × 1 columns</p>\n",
       "</div>"
      ],
      "text/plain": [
       "                     id\n",
       "0     59.188_17.617_ts2\n",
       "1      51.975_8.502_ts2\n",
       "2     39.864_-4.019_ts2\n",
       "3    43.757_-79.232_ts2\n",
       "4      45.537_5.585_ts2\n",
       "..                  ...\n",
       "451  45.259_-93.655_ts2\n",
       "452  39.921_-76.683_ts2\n",
       "453  39.942_-82.988_ts2\n",
       "454   36.57_-87.387_ts2\n",
       "455   36.57_-87.387_ts2\n",
       "\n",
       "[456 rows x 1 columns]"
      ]
     },
     "execution_count": 68,
     "metadata": {},
     "output_type": "execute_result"
    }
   ],
   "source": [
    "blacklists_X"
   ]
  },
  {
   "cell_type": "code",
   "execution_count": 69,
   "id": "318d8084-fbac-4bc6-a2c8-1730159f94be",
   "metadata": {},
   "outputs": [],
   "source": [
    "whitelists = whitelists.drop_duplicates()"
   ]
  },
  {
   "cell_type": "code",
   "execution_count": 70,
   "id": "59d199c3-64aa-4e63-a2a4-6edd7ff94d7a",
   "metadata": {},
   "outputs": [
    {
     "data": {
      "text/html": [
       "<div>\n",
       "<style scoped>\n",
       "    .dataframe tbody tr th:only-of-type {\n",
       "        vertical-align: middle;\n",
       "    }\n",
       "\n",
       "    .dataframe tbody tr th {\n",
       "        vertical-align: top;\n",
       "    }\n",
       "\n",
       "    .dataframe thead th {\n",
       "        text-align: right;\n",
       "    }\n",
       "</style>\n",
       "<table border=\"1\" class=\"dataframe\">\n",
       "  <thead>\n",
       "    <tr style=\"text-align: right;\">\n",
       "      <th></th>\n",
       "      <th>id</th>\n",
       "    </tr>\n",
       "  </thead>\n",
       "  <tbody>\n",
       "    <tr>\n",
       "      <th>0</th>\n",
       "      <td>-32.0339685_150.8687032_ts2</td>\n",
       "    </tr>\n",
       "    <tr>\n",
       "      <th>1</th>\n",
       "      <td>43.5269787_5.4118628_ts2</td>\n",
       "    </tr>\n",
       "    <tr>\n",
       "      <th>2</th>\n",
       "      <td>45.5358083_5.5839205_ts2</td>\n",
       "    </tr>\n",
       "    <tr>\n",
       "      <th>3</th>\n",
       "      <td>61.1923689_26.0009592_ts2</td>\n",
       "    </tr>\n",
       "    <tr>\n",
       "      <th>4</th>\n",
       "      <td>40.475793_-80.0671549_ts2</td>\n",
       "    </tr>\n",
       "    <tr>\n",
       "      <th>...</th>\n",
       "      <td>...</td>\n",
       "    </tr>\n",
       "    <tr>\n",
       "      <th>140</th>\n",
       "      <td>43.501_-80.186_ts2</td>\n",
       "    </tr>\n",
       "    <tr>\n",
       "      <th>141</th>\n",
       "      <td>50.97_11.981_ts2</td>\n",
       "    </tr>\n",
       "    <tr>\n",
       "      <th>142</th>\n",
       "      <td>36.489_2.849_ts2</td>\n",
       "    </tr>\n",
       "    <tr>\n",
       "      <th>143</th>\n",
       "      <td>43.221_-71.535_ts2</td>\n",
       "    </tr>\n",
       "    <tr>\n",
       "      <th>144</th>\n",
       "      <td>43.217_-71.537_ts2</td>\n",
       "    </tr>\n",
       "  </tbody>\n",
       "</table>\n",
       "<p>1086 rows × 1 columns</p>\n",
       "</div>"
      ],
      "text/plain": [
       "                              id\n",
       "0    -32.0339685_150.8687032_ts2\n",
       "1       43.5269787_5.4118628_ts2\n",
       "2       45.5358083_5.5839205_ts2\n",
       "3      61.1923689_26.0009592_ts2\n",
       "4      40.475793_-80.0671549_ts2\n",
       "..                           ...\n",
       "140           43.501_-80.186_ts2\n",
       "141             50.97_11.981_ts2\n",
       "142             36.489_2.849_ts2\n",
       "143           43.221_-71.535_ts2\n",
       "144           43.217_-71.537_ts2\n",
       "\n",
       "[1086 rows x 1 columns]"
      ]
     },
     "execution_count": 70,
     "metadata": {},
     "output_type": "execute_result"
    }
   ],
   "source": [
    "whitelists"
   ]
  },
  {
   "cell_type": "code",
   "execution_count": null,
   "id": "73504eea-c095-4197-8f6c-2c1d35f94f6d",
   "metadata": {},
   "outputs": [],
   "source": []
  },
  {
   "cell_type": "markdown",
   "id": "d06f345b-62d3-4dc5-a478-073e29bdf4a1",
   "metadata": {
    "tags": []
   },
   "source": [
    "## 2) Creating sample of all data"
   ]
  },
  {
   "cell_type": "code",
   "execution_count": 54,
   "id": "dc542e52-2e02-4ecb-bf6d-3a93601a2126",
   "metadata": {},
   "outputs": [],
   "source": [
    "# Functions needed\n",
    "def parking_name_ts1(row_or_pt, new=False):\n",
    "    \"\"\"\n",
    "    create an id from a (lat,lon) point or an object containing the pt property\n",
    "    \"\"\"\n",
    "    # no \"pt\" item => assume it is a tuple\n",
    "    try:\n",
    "        pt = row_or_pt\n",
    "        if new:\n",
    "            a = round(pt[0], 7)\n",
    "            b = round(pt[1], 7)\n",
    "        else:\n",
    "            a = round(pt[0], 3)\n",
    "            b = round(pt[1], 3)\n",
    "    except:\n",
    "        return np.nan\n",
    "    \n",
    "    return f\"{a}_{b}_ts1\" ## FLAG\n",
    "\n",
    "def parking_name_ts2(row_or_pt, new=False):\n",
    "    \"\"\"\n",
    "    create an id from a (lat,lon) point or an object containing the pt property\n",
    "    \"\"\"\n",
    "    # no \"pt\" item => assume it is a tuple\n",
    "    try:\n",
    "        pt = row_or_pt\n",
    "        if new:\n",
    "            a = round(pt[0], 7)\n",
    "            b = round(pt[1], 7)\n",
    "        else:\n",
    "            a = round(pt[0], 3)\n",
    "            b = round(pt[1], 3)\n",
    "    except:\n",
    "        return np.nan\n",
    "    \n",
    "    return f\"{a}_{b}_ts2\" ## FLAG\n",
    "\n",
    "\n",
    "def get_point(geom):\n",
    "    try:\n",
    "        pt = re.split(r\",\", geom[9:])[0]\n",
    "        pt = tuple(map(float, pt.split(' ')))\n",
    "        pt_s = (pt[1], pt[0])\n",
    "    except:\n",
    "        return np.nan\n",
    "    \n",
    "    return pt_s"
   ]
  },
  {
   "cell_type": "code",
   "execution_count": 71,
   "id": "1df31e11-f4f9-4b10-9373-7eb478d9f829",
   "metadata": {},
   "outputs": [
    {
     "name": "stdout",
     "output_type": "stream",
     "text": [
      "Started at: Sat May 28 21:38:07 2022\n",
      "File nr. 0 successfully loaded\n",
      "File nr. 1 successfully loaded\n",
      "File nr. 2 successfully loaded\n",
      "File nr. 3 successfully loaded\n",
      "File nr. 4 successfully loaded\n",
      "File nr. 5 successfully loaded\n",
      "File nr. 6 successfully loaded\n",
      "File nr. 7 successfully loaded\n",
      "File nr. 8 successfully loaded\n",
      "File nr. 9 successfully loaded\n",
      "Computation time (Min.): 2.1748782833417257\n"
     ]
    }
   ],
   "source": [
    "# Loading data\n",
    "# THIS TAKES A FEW MINUTES\n",
    "\n",
    "start_time = time.localtime()\n",
    "start_t = time.time()\n",
    "print(\"Started at:\", time.asctime(start_time))\n",
    "\n",
    "file_nr = list(range(10))\n",
    "#file_nr = list(range(1))\n",
    "first = True\n",
    "\n",
    "for i in file_nr:\n",
    "    df_r = pd.read_json(f\"ndata/osm_parking_polygons_0{i}.json\", lines=True)\n",
    "    df_r[\"pt\"] = df_r[\"geometry\"].transform(lambda x: get_point(x))\n",
    "    df_r = df_r.drop_duplicates(subset=['osm_version', 'osm_way_id', 'osm_timestamp', 'geometry', 'key', 'value', 'osm_id', 'pt'])\n",
    "    df_ts1 = df_r.copy()\n",
    "    df_ts2 = df_r.copy()\n",
    "    \n",
    "    df_ts1[\"id\"] = [parking_name_ts1(x) for x in df_r[\"pt\"]]\n",
    "    df_ts1[\"id_new\"] = [parking_name_ts1(x, True) for x in df_r[\"pt\"]]\n",
    "    df_ts2[\"id\"] = [parking_name_ts2(x) for x in df_r[\"pt\"]]\n",
    "    df_ts2[\"id_new\"] = [parking_name_ts2(x, True) for x in df_r[\"pt\"]]\n",
    "    \n",
    "    df = pd.concat([df_ts1, df_ts2])\n",
    "    df2 = df.copy()\n",
    "    df = pd.merge(df, whitelists, how='inner', left_on='id', right_on=\"id\")\n",
    "    df2 = pd.merge(df2, whitelists, how='inner', left_on='id_new', right_on=\"id\")\n",
    "    df = pd.concat([df, df2])\n",
    "    df = df[[\"id_new\", \"id\", \"pt\", \"geometry\", \"all_tags\"]]\n",
    "    df = df.dropna()\n",
    "    \n",
    "    if first:\n",
    "        temp = df\n",
    "        first = False\n",
    "    else:\n",
    "        temp = pd.concat([temp, df])\n",
    "    \n",
    "    print(f\"File nr. {i} successfully loaded\")\n",
    "\n",
    "end_t = time.time()\n",
    "print(\"Computation time (Min.):\", (end_t-start_t)/60)"
   ]
  },
  {
   "cell_type": "code",
   "execution_count": 72,
   "id": "cacc33c5-d919-43d7-a82f-ee4d8aa6c65b",
   "metadata": {},
   "outputs": [
    {
     "data": {
      "text/html": [
       "<div>\n",
       "<style scoped>\n",
       "    .dataframe tbody tr th:only-of-type {\n",
       "        vertical-align: middle;\n",
       "    }\n",
       "\n",
       "    .dataframe tbody tr th {\n",
       "        vertical-align: top;\n",
       "    }\n",
       "\n",
       "    .dataframe thead th {\n",
       "        text-align: right;\n",
       "    }\n",
       "</style>\n",
       "<table border=\"1\" class=\"dataframe\">\n",
       "  <thead>\n",
       "    <tr style=\"text-align: right;\">\n",
       "      <th></th>\n",
       "      <th>id_new</th>\n",
       "      <th>id</th>\n",
       "      <th>pt</th>\n",
       "      <th>geometry</th>\n",
       "      <th>all_tags</th>\n",
       "    </tr>\n",
       "  </thead>\n",
       "  <tbody>\n",
       "    <tr>\n",
       "      <th>0</th>\n",
       "      <td>47.006201_6.9670316_ts2</td>\n",
       "      <td>47.006_6.967_ts2</td>\n",
       "      <td>(47.006201, 6.9670316)</td>\n",
       "      <td>POLYGON((6.9670316 47.006201, 6.9668722 47.006...</td>\n",
       "      <td>[{'key': 'access', 'value': 'private'}, {'key'...</td>\n",
       "    </tr>\n",
       "    <tr>\n",
       "      <th>1</th>\n",
       "      <td>59.1875955_17.6167656_ts2</td>\n",
       "      <td>59.188_17.617_ts2</td>\n",
       "      <td>(59.1875955, 17.6167656)</td>\n",
       "      <td>POLYGON((17.6167656 59.1875955, 17.6168131 59....</td>\n",
       "      <td>[{'key': 'access', 'value': 'restricted'}, {'k...</td>\n",
       "    </tr>\n",
       "    <tr>\n",
       "      <th>2</th>\n",
       "      <td>51.9754365_8.5019413_ts2</td>\n",
       "      <td>51.975_8.502_ts2</td>\n",
       "      <td>(51.9754365, 8.5019413)</td>\n",
       "      <td>POLYGON((8.5019413 51.9754365, 8.5021614 51.97...</td>\n",
       "      <td>[{'key': 'access', 'value': 'private'}, {'key'...</td>\n",
       "    </tr>\n",
       "    <tr>\n",
       "      <th>3</th>\n",
       "      <td>39.8643349_-4.0193694_ts2</td>\n",
       "      <td>39.864_-4.019_ts2</td>\n",
       "      <td>(39.8643349, -4.0193694)</td>\n",
       "      <td>POLYGON((-4.0193694 39.8643349, -4.0178646 39....</td>\n",
       "      <td>[{'key': 'amenity', 'value': 'parking'}, {'key...</td>\n",
       "    </tr>\n",
       "    <tr>\n",
       "      <th>4</th>\n",
       "      <td>43.7565471_-79.2317921_ts2</td>\n",
       "      <td>43.757_-79.232_ts2</td>\n",
       "      <td>(43.7565471, -79.2317921)</td>\n",
       "      <td>POLYGON((-79.2317921 43.7565471, -79.2318457 4...</td>\n",
       "      <td>[{'key': 'access', 'value': 'customers'}, {'ke...</td>\n",
       "    </tr>\n",
       "    <tr>\n",
       "      <th>...</th>\n",
       "      <td>...</td>\n",
       "      <td>...</td>\n",
       "      <td>...</td>\n",
       "      <td>...</td>\n",
       "      <td>...</td>\n",
       "    </tr>\n",
       "    <tr>\n",
       "      <th>30</th>\n",
       "      <td>5.345678_-3.949021_ts2</td>\n",
       "      <td>5.346_-3.949_ts2</td>\n",
       "      <td>(5.345678, -3.949021)</td>\n",
       "      <td>POLYGON((-3.949021 5.345678, -3.9489734 5.3456...</td>\n",
       "      <td>[{'key': 'access', 'value': 'private'}, {'key'...</td>\n",
       "    </tr>\n",
       "    <tr>\n",
       "      <th>31</th>\n",
       "      <td>45.172425_5.7538404_ts2</td>\n",
       "      <td>45.172_5.754_ts2</td>\n",
       "      <td>(45.172425, 5.7538404)</td>\n",
       "      <td>POLYGON((5.7538404 45.172425, 5.754211 45.1722...</td>\n",
       "      <td>[{'key': 'access', 'value': 'private'}, {'key'...</td>\n",
       "    </tr>\n",
       "    <tr>\n",
       "      <th>32</th>\n",
       "      <td>44.1196918_4.8438315_ts2</td>\n",
       "      <td>44.12_4.844_ts2</td>\n",
       "      <td>(44.1196918, 4.8438315)</td>\n",
       "      <td>POLYGON((4.8438315 44.1196918, 4.843901 44.119...</td>\n",
       "      <td>[{'key': 'amenity', 'value': 'parking'}]</td>\n",
       "    </tr>\n",
       "    <tr>\n",
       "      <th>33</th>\n",
       "      <td>53.6895026_-1.3077646_ts2</td>\n",
       "      <td>53.69_-1.308_ts2</td>\n",
       "      <td>(53.6895026, -1.3077646)</td>\n",
       "      <td>POLYGON((-1.3077646 53.6895026, -1.307365 53.6...</td>\n",
       "      <td>[{'key': 'access', 'value': 'yes'}, {'key': 'a...</td>\n",
       "    </tr>\n",
       "    <tr>\n",
       "      <th>34</th>\n",
       "      <td>50.7482532_-1.8594093_ts2</td>\n",
       "      <td>50.748_-1.859_ts2</td>\n",
       "      <td>(50.7482532, -1.8594093)</td>\n",
       "      <td>POLYGON((-1.8594093 50.7482532, -1.8594007 50....</td>\n",
       "      <td>[{'key': 'access', 'value': 'private'}, {'key'...</td>\n",
       "    </tr>\n",
       "  </tbody>\n",
       "</table>\n",
       "<p>1263 rows × 5 columns</p>\n",
       "</div>"
      ],
      "text/plain": [
       "                        id_new                  id                         pt  \\\n",
       "0      47.006201_6.9670316_ts2    47.006_6.967_ts2     (47.006201, 6.9670316)   \n",
       "1    59.1875955_17.6167656_ts2   59.188_17.617_ts2   (59.1875955, 17.6167656)   \n",
       "2     51.9754365_8.5019413_ts2    51.975_8.502_ts2    (51.9754365, 8.5019413)   \n",
       "3    39.8643349_-4.0193694_ts2   39.864_-4.019_ts2   (39.8643349, -4.0193694)   \n",
       "4   43.7565471_-79.2317921_ts2  43.757_-79.232_ts2  (43.7565471, -79.2317921)   \n",
       "..                         ...                 ...                        ...   \n",
       "30      5.345678_-3.949021_ts2    5.346_-3.949_ts2      (5.345678, -3.949021)   \n",
       "31     45.172425_5.7538404_ts2    45.172_5.754_ts2     (45.172425, 5.7538404)   \n",
       "32    44.1196918_4.8438315_ts2     44.12_4.844_ts2    (44.1196918, 4.8438315)   \n",
       "33   53.6895026_-1.3077646_ts2    53.69_-1.308_ts2   (53.6895026, -1.3077646)   \n",
       "34   50.7482532_-1.8594093_ts2   50.748_-1.859_ts2   (50.7482532, -1.8594093)   \n",
       "\n",
       "                                             geometry  \\\n",
       "0   POLYGON((6.9670316 47.006201, 6.9668722 47.006...   \n",
       "1   POLYGON((17.6167656 59.1875955, 17.6168131 59....   \n",
       "2   POLYGON((8.5019413 51.9754365, 8.5021614 51.97...   \n",
       "3   POLYGON((-4.0193694 39.8643349, -4.0178646 39....   \n",
       "4   POLYGON((-79.2317921 43.7565471, -79.2318457 4...   \n",
       "..                                                ...   \n",
       "30  POLYGON((-3.949021 5.345678, -3.9489734 5.3456...   \n",
       "31  POLYGON((5.7538404 45.172425, 5.754211 45.1722...   \n",
       "32  POLYGON((4.8438315 44.1196918, 4.843901 44.119...   \n",
       "33  POLYGON((-1.3077646 53.6895026, -1.307365 53.6...   \n",
       "34  POLYGON((-1.8594093 50.7482532, -1.8594007 50....   \n",
       "\n",
       "                                             all_tags  \n",
       "0   [{'key': 'access', 'value': 'private'}, {'key'...  \n",
       "1   [{'key': 'access', 'value': 'restricted'}, {'k...  \n",
       "2   [{'key': 'access', 'value': 'private'}, {'key'...  \n",
       "3   [{'key': 'amenity', 'value': 'parking'}, {'key...  \n",
       "4   [{'key': 'access', 'value': 'customers'}, {'ke...  \n",
       "..                                                ...  \n",
       "30  [{'key': 'access', 'value': 'private'}, {'key'...  \n",
       "31  [{'key': 'access', 'value': 'private'}, {'key'...  \n",
       "32           [{'key': 'amenity', 'value': 'parking'}]  \n",
       "33  [{'key': 'access', 'value': 'yes'}, {'key': 'a...  \n",
       "34  [{'key': 'access', 'value': 'private'}, {'key'...  \n",
       "\n",
       "[1263 rows x 5 columns]"
      ]
     },
     "execution_count": 72,
     "metadata": {},
     "output_type": "execute_result"
    }
   ],
   "source": [
    "temp"
   ]
  },
  {
   "cell_type": "code",
   "execution_count": 75,
   "id": "9e08a1b8-aa0a-45b2-8da4-1dd4241fc99c",
   "metadata": {},
   "outputs": [],
   "source": [
    "temp_Backup = temp.copy()"
   ]
  },
  {
   "cell_type": "code",
   "execution_count": 73,
   "id": "da3dd518-c183-4b42-8c55-8f20fb980827",
   "metadata": {},
   "outputs": [
    {
     "data": {
      "text/html": [
       "<div>\n",
       "<style scoped>\n",
       "    .dataframe tbody tr th:only-of-type {\n",
       "        vertical-align: middle;\n",
       "    }\n",
       "\n",
       "    .dataframe tbody tr th {\n",
       "        vertical-align: top;\n",
       "    }\n",
       "\n",
       "    .dataframe thead th {\n",
       "        text-align: right;\n",
       "    }\n",
       "</style>\n",
       "<table border=\"1\" class=\"dataframe\">\n",
       "  <thead>\n",
       "    <tr style=\"text-align: right;\">\n",
       "      <th></th>\n",
       "      <th>id_new</th>\n",
       "      <th>id</th>\n",
       "      <th>pt</th>\n",
       "      <th>geometry</th>\n",
       "      <th>all_tags</th>\n",
       "    </tr>\n",
       "  </thead>\n",
       "  <tbody>\n",
       "    <tr>\n",
       "      <th>294</th>\n",
       "      <td>45.1483135_10.0336308_ts2</td>\n",
       "      <td>45.148_10.034_ts2</td>\n",
       "      <td>(45.1483135, 10.0336308)</td>\n",
       "      <td>POLYGON((10.0336308 45.1483135, 10.033762 45.1...</td>\n",
       "      <td>[{'key': 'access', 'value': 'yes'}, {'key': 'a...</td>\n",
       "    </tr>\n",
       "    <tr>\n",
       "      <th>295</th>\n",
       "      <td>45.1483135_10.0336308_ts2</td>\n",
       "      <td>45.148_10.034_ts2</td>\n",
       "      <td>(45.1483135, 10.0336308)</td>\n",
       "      <td>POLYGON((10.0336308 45.1483135, 10.0337067 45....</td>\n",
       "      <td>[{'key': 'access', 'value': 'private'}, {'key'...</td>\n",
       "    </tr>\n",
       "    <tr>\n",
       "      <th>324</th>\n",
       "      <td>45.474553_4.517701_ts2</td>\n",
       "      <td>45.475_4.518_ts2</td>\n",
       "      <td>(45.474553, 4.517701)</td>\n",
       "      <td>POLYGON((4.517701 45.474553, 4.5175517 45.4745...</td>\n",
       "      <td>[{'key': 'access', 'value': 'private'}, {'key'...</td>\n",
       "    </tr>\n",
       "    <tr>\n",
       "      <th>154</th>\n",
       "      <td>45.474553_4.517701_ts2</td>\n",
       "      <td>45.475_4.518_ts2</td>\n",
       "      <td>(45.474553, 4.517701)</td>\n",
       "      <td>POLYGON((4.517701 45.474553, 4.517731 45.47445...</td>\n",
       "      <td>[{'key': 'access', 'value': 'private'}, {'key'...</td>\n",
       "    </tr>\n",
       "  </tbody>\n",
       "</table>\n",
       "</div>"
      ],
      "text/plain": [
       "                        id_new                 id                        pt  \\\n",
       "294  45.1483135_10.0336308_ts2  45.148_10.034_ts2  (45.1483135, 10.0336308)   \n",
       "295  45.1483135_10.0336308_ts2  45.148_10.034_ts2  (45.1483135, 10.0336308)   \n",
       "324     45.474553_4.517701_ts2   45.475_4.518_ts2     (45.474553, 4.517701)   \n",
       "154     45.474553_4.517701_ts2   45.475_4.518_ts2     (45.474553, 4.517701)   \n",
       "\n",
       "                                              geometry  \\\n",
       "294  POLYGON((10.0336308 45.1483135, 10.033762 45.1...   \n",
       "295  POLYGON((10.0336308 45.1483135, 10.0337067 45....   \n",
       "324  POLYGON((4.517701 45.474553, 4.5175517 45.4745...   \n",
       "154  POLYGON((4.517701 45.474553, 4.517731 45.47445...   \n",
       "\n",
       "                                              all_tags  \n",
       "294  [{'key': 'access', 'value': 'yes'}, {'key': 'a...  \n",
       "295  [{'key': 'access', 'value': 'private'}, {'key'...  \n",
       "324  [{'key': 'access', 'value': 'private'}, {'key'...  \n",
       "154  [{'key': 'access', 'value': 'private'}, {'key'...  "
      ]
     },
     "execution_count": 73,
     "metadata": {},
     "output_type": "execute_result"
    }
   ],
   "source": [
    "# Show full duplicates\n",
    "temp[temp.duplicated([\"id_new\"], keep=False)].sort_values(\"id_new\")"
   ]
  },
  {
   "cell_type": "code",
   "execution_count": 74,
   "id": "5b5bdc81-8c5b-4ee8-9bd0-4859c3bf4912",
   "metadata": {},
   "outputs": [],
   "source": [
    "# Drop full duplicates\n",
    "temp = temp.drop_duplicates(subset=[\"id_new\", \"id\"], keep=\"first\")"
   ]
  },
  {
   "cell_type": "code",
   "execution_count": null,
   "id": "f4677107-b66c-4438-aeea-89a9830d5e8e",
   "metadata": {},
   "outputs": [],
   "source": []
  },
  {
   "cell_type": "code",
   "execution_count": 76,
   "id": "4da63bb6-968b-4128-9cd6-4c5b0a28d393",
   "metadata": {},
   "outputs": [],
   "source": [
    "# CAR SPECIFIC\n",
    "# Remove any more images manually\n",
    "blacklist_c = blacklists_X.id\n",
    "\n",
    "temp = temp[temp.id.isin(blacklist_c) == False]"
   ]
  },
  {
   "cell_type": "code",
   "execution_count": 15,
   "id": "b966c5dc-b990-43ef-88a2-640ac8bc1b98",
   "metadata": {},
   "outputs": [],
   "source": [
    "# TRUCK SPECIFIC\n",
    "# Remove any more images manually\n",
    "blacklist_x = [\"51.0871745_6.818784_ts1\", \"51.1897917_11.2103698_ts1\", \"40.2524442_-74.8666254_ts2\", '44.9927133_-93.2227456_ts1', '45.8910774_4.8931997_ts1', '34.8262082_-118.8709283_ts1', '-36.5732756_145.3418897_ts1', '49.9610702_14.6184348_ts1', '49.9604929_14.617679_ts1', '47.6331467_17.6626497_ts1', '39.7024553_-86.3097267_ts1', '52.1328994_12.7518437_ts1', '-38.0880169_145.7796006_ts1', '43.9543296_-92.4711496_ts2', '44.9927133_-93.2227456_ts2', '42.4804664_-88.9980027_ts2', '45.8910774_4.8931997_ts2', '34.8262082_-118.8709283_ts2', '-36.5732756_145.3418897_ts2', '39.8825604_-86.2658228_ts2', '51.1897917_11.2103698_ts2', '51.5137028_6.8147713_ts2', '33.0518308_-84.1739349_ts2', '41.1953147_-81.6247347_ts2', '52.1328994_12.7518437_ts2', '-38.0880169_145.7796006_ts2', '50.3129944_13.5328468_ts2', '49.7458735_12.8417647_ts1', '45.8886957_4.8948677_ts1', '43.5425503_3.4435768_ts1', \"39.131654_-81.5475266_ts2\", '49.9700596_14.6257345_ts1', '50.0090359_14.5428202_ts1', '37.1407156_-93.721325_ts1', '-36.9486269_145.1448878_ts1', '49.5405677_6.1159626_ts1', '50.712683_9.6604288_ts1', '40.7786664_-86.1284246_ts1', '51.4040562_5.539363_ts1', '47.6330454_17.6626126_ts1', '47.6342311_17.663835_ts1', '45.8886957_4.8948677_ts2', '43.5425503_3.4435768_ts2', '52.4413076_31.6353856_ts2', '53.5703081_13.2010235_ts2', '37.1407156_-93.721325_ts2', '-36.9486269_145.1448878_ts2', '49.5405677_6.1159626_ts2', '40.7786664_-86.1284246_ts2', '39.5246275_-107.7870152_ts1', '34.8172208_-82.4104135_ts1', '36.1409127_-85.8060671_ts1', '49.090026_16.5906259_ts1', '49.090046_16.5912536_ts1', '43.9769407_-89.5013567_ts1', '47.6653357_16.6056719_ts1', '41.733931_-86.0041362_ts1','41.1033199_29.2904274_ts1', '49.7532897_13.5909798_ts1', '59.1297665_11.2735889_ts1', '42.9529689_-78.6026491_ts1', '47.3093657_4.5015609_ts1', '35.4632042_-97.4812612_ts1',\n",
    "             '46.4197907_4.8661247_ts1', '-36.4980325_146.1073527_ts1', '39.5246275_-107.7870152_ts2', '29.2279023_47.998573_ts2', '36.1409127_-85.8060671_ts2', '43.9769407_-89.5013567_ts2', '44.7021264_-96.8477841_ts2', '39.8825962_-86.2663549_ts2', '41.733931_-86.0041362_ts2', '59.1297665_11.2735889_ts2', '42.9529689_-78.6026491_ts2', '44.2825656_-88.4643177_ts2', '51.818314_6.4429787_ts2', '39.6140582_-107.1395277_ts1', '34.8171251_-82.4097057_ts1', '49.0912032_16.5909717_ts1', '40.7690037_-74.0664022_ts1', '-37.5902931_144.2437763_ts1', '49.9701251_14.6262417_ts1', '52.0445711_4.5019215_ts1', '45.8844473_4.8939834_ts1', '-36.9481755_145.1449718_ts1', '49.3184835_13.7140703_ts1', '46.2760514_15.8648067_ts1', '39.6140582_-107.1395277_ts2', '-30.9693704_135.7492898_ts2', '40.7690037_-74.0664022_ts2', '-37.5902931_144.2437763_ts2', \"38.8535764_-77.3764632_ts1\", '35.4850901_-83.1521004_ts2', '45.8844473_4.8939834_ts2', '-36.4397774_146.249467_ts2', '-36.9481755_145.1449718_ts2', '49.3184835_13.7140703_ts2', '44.1721298_-93.2606222_ts2', '42.0205696_-75.78102_ts2', '29.3341136_-81.130304_ts2', '34.8168699_-82.4100187_ts1', '36.1399932_-85.8070166_ts1', '43.344725_3.2874111_ts1', '42.9933156_-82.9600218_ts1', '42.6045974_-83.9585919_ts1', '-37.804529_144.7526027_ts1', '41.0835949_-96.2762215_ts1', '52.8569267_5.0218975_ts1', '47.6343989_17.6638929_ts1', '51.6890372_12.7563646_ts1', '46.4187289_4.8657276_ts1', '49.3184551_13.7136046_ts1', '45.4717006_3.2486696_ts1', '44.5564111_3.256152_ts1', '36.1399932_-85.8070166_ts2', '43.344725_3.2874111_ts2', '42.9933156_-82.9600218_ts2', '42.6045974_-83.9585919_ts2', '42.5062033_-73.6869083_ts2', '51.1797933_11.9300437_ts2', '41.0835949_-96.2762215_ts2', '44.172228_-93.2605929_ts2', '51.6890372_12.7563646_ts2', '29.7672483_-96.1545539_ts2', '46.4187289_4.8657276_ts2', '49.3184551_13.7136046_ts2',\n",
    "             '45.4717006_3.2486696_ts2', '44.5564111_3.256152_ts2', '42.7896279_-82.6602209_ts1', '36.1403754_-85.8065088_ts1', '49.0912061_16.5910587_ts1', '51.6365667_12.1988557_ts1', '46.6663487_-91.9989133_ts1', '45.8912166_4.8929089_ts1', '-37.7998096_144.7387477_ts1', '43.0216828_2.9532281_ts1', '50.009411_14.5425751_ts1', '50.0038275_14.5697744_ts1', '49.9633641_14.618846_ts1', '49.9752401_14.6043458_ts1', '49.7532638_13.5914095_ts1', '45.886272_4.8953188_ts1', '50.7125216_9.6604562_ts1', '49.2660913_6.7319272_ts1', '50.0871597_14.5365707_ts1', '43.4589917_-85.4767945_ts1', '45.9033382_4.728483_ts1', '41.9837526_-75.7489997_ts1', '42.937292_-70.8625858_ts2', '42.7896279_-82.6602209_ts2', '51.0787232_5.6898812_ts2', '36.1403754_-85.8065088_ts2', '46.6663487_-91.9989133_ts2', '45.8912166_4.8929089_ts2', '-37.7998096_144.7387477_ts2', '43.0216828_2.9532281_ts2', '50.0038275_14.5697744_ts2', '49.9752401_14.6043458_ts2', '45.886272_4.8953188_ts2', '43.2956257_3.2163624_ts2', '43.4589917_-85.4767945_ts2', '45.9033382_4.728483_ts2', '41.9837526_-75.7489997_ts2', '39.5251065_-107.7865918_ts1', '49.0911413_16.5913584_ts1', '34.825907_-118.8710399_ts1', '-31.9434869_152.4713555_ts1', '50.0038995_14.5696132_ts1', '38.9930082_-93.5877737_ts1', '43.7862973_-99.3384377_ts1', '45.470338_3.2471759_ts1', '51.2892492_4.3262278_ts1', '52.8573413_5.0218632_ts1', '45.4716325_3.249125_ts1', '45.9029411_4.7281525_ts2', \"43.3854071_-123.3364207_ts2\", \"41.7826864_-87.9090439_ts1\", \"39.9050674_-81.5288342_ts1\", \"43.5429592_3.4443781_ts2\", \"45.903363_4.7283704_ts1\", \"42.8362263_-83.732946_ts1\", \"-28.2886883_29.131244_ts2\",\n",
    "             '34.825907_-118.8710399_ts2', '-31.9434869_152.4713555_ts2', '50.0038995_14.5696132_ts2', '-37.5915731_144.2417045_ts2', '51.2892492_4.3262278_ts2', '45.4716325_3.249125_ts2', '45.4719974_3.2483789_ts1', '49.6785728_12.6009508_ts1', '49.745543_12.8418373_ts1', '42.8723069_-87.9445639_ts1', '49.0901567_16.5909462_ts1', '45.890929_4.8933763_ts1', '46.9887413_5.504944_ts1', '-31.9433424_152.4710068_ts1', '49.5008662_6.1120313_ts1', '52.8572001_5.0220414_ts1', '47.6331489_17.6621682_ts1', '46.4183262_4.8670319_ts1', '-27.1246_152.9778066_ts1', '49.3179234_13.7144843_ts1', '49.7577105_13.6168009_ts1', '41.7826864_-87.9090439_ts2', '45.890929_4.8933763_ts2', '46.9887413_5.504944_ts2', '-31.9433424_152.4710068_ts2', '46.4183262_4.8670319_ts2', '49.3179234_13.7144843_ts2', '43.5429592_3.4443781_ts1', '41.3409024_-83.6237283_ts1', '43.9002136_-90.9134675_ts1', '-36.0107839_146.4106995_ts1', '50.0039594_14.569552_ts1', '46.4391955_18.7087886_ts1', '47.3117009_4.500878_ts1', '37.2374439_-85.9278984_ts1', '38.3381113_-85.5169652_ts1', '-36.9486701_145.145_ts1', '41.3409024_-83.6237283_ts2', '43.9002136_-90.9134675_ts2', '-36.0107839_146.4106995_ts2', '50.0039594_14.569552_ts2', '45.1974396_-93.548065_ts2', '37.2374439_-85.9278984_ts2', '38.3381113_-85.5169652_ts2', '-36.9486701_145.145_ts2', '42.9369961_-70.8630623_ts2', '45.4723659_3.2485687_ts1', '49.0899233_16.5911479_ts1', '49.0902535_16.5910169_ts1', '45.8912196_4.8930281_ts1', '50.0764417_14.5793548_ts1', '50.0770327_14.5800396_ts1', '42.7059461_-86.1674988_ts1', '46.2755482_15.8650115_ts1', '45.4723659_3.2485687_ts2', '45.903363_4.7283704_ts2', '45.8912196_4.8930281_ts2', '42.8362263_-83.732946_ts2', '37.7600634_-77.4646948_ts2', '50.0764417_14.5793548_ts2', '50.0770327_14.5800396_ts2', '42.7059461_-86.1674988_ts2', '45.8613165_-95.4225737_ts2']\n",
    "\n",
    "temp = temp[temp.id_new.isin(blacklist_x) == False]"
   ]
  },
  {
   "cell_type": "code",
   "execution_count": 77,
   "id": "5d7d80b5-308a-4cb4-a50d-a13f1eeed50b",
   "metadata": {},
   "outputs": [
    {
     "data": {
      "text/plain": [
       "(619, 5)"
      ]
     },
     "execution_count": 77,
     "metadata": {},
     "output_type": "execute_result"
    }
   ],
   "source": [
    "temp.shape"
   ]
  },
  {
   "cell_type": "code",
   "execution_count": 78,
   "id": "2f50c5b7-c814-499d-beb0-e73b364922b8",
   "metadata": {
    "tags": []
   },
   "outputs": [],
   "source": [
    "temp = temp.reset_index(drop=True)"
   ]
  },
  {
   "cell_type": "code",
   "execution_count": 79,
   "id": "eab48611-2034-4130-a28f-90b4bfeda5d5",
   "metadata": {},
   "outputs": [
    {
     "data": {
      "text/html": [
       "<div>\n",
       "<style scoped>\n",
       "    .dataframe tbody tr th:only-of-type {\n",
       "        vertical-align: middle;\n",
       "    }\n",
       "\n",
       "    .dataframe tbody tr th {\n",
       "        vertical-align: top;\n",
       "    }\n",
       "\n",
       "    .dataframe thead th {\n",
       "        text-align: right;\n",
       "    }\n",
       "</style>\n",
       "<table border=\"1\" class=\"dataframe\">\n",
       "  <thead>\n",
       "    <tr style=\"text-align: right;\">\n",
       "      <th></th>\n",
       "      <th>id_new</th>\n",
       "      <th>id</th>\n",
       "      <th>pt</th>\n",
       "      <th>geometry</th>\n",
       "      <th>all_tags</th>\n",
       "    </tr>\n",
       "  </thead>\n",
       "  <tbody>\n",
       "    <tr>\n",
       "      <th>0</th>\n",
       "      <td>47.006201_6.9670316_ts2</td>\n",
       "      <td>47.006_6.967_ts2</td>\n",
       "      <td>(47.006201, 6.9670316)</td>\n",
       "      <td>POLYGON((6.9670316 47.006201, 6.9668722 47.006...</td>\n",
       "      <td>[{'key': 'access', 'value': 'private'}, {'key'...</td>\n",
       "    </tr>\n",
       "    <tr>\n",
       "      <th>1</th>\n",
       "      <td>39.7880508_-105.0333886_ts2</td>\n",
       "      <td>39.788_-105.033_ts2</td>\n",
       "      <td>(39.7880508, -105.0333886)</td>\n",
       "      <td>POLYGON((-105.0333886 39.7880508, -105.0334789...</td>\n",
       "      <td>[{'key': 'access', 'value': 'yes'}, {'key': 'a...</td>\n",
       "    </tr>\n",
       "    <tr>\n",
       "      <th>2</th>\n",
       "      <td>41.1745044_-83.4191734_ts2</td>\n",
       "      <td>41.175_-83.419_ts2</td>\n",
       "      <td>(41.1745044, -83.4191734)</td>\n",
       "      <td>POLYGON((-83.4191734 41.1745044, -83.4191729 4...</td>\n",
       "      <td>[{'key': 'amenity', 'value': 'parking'}, {'key...</td>\n",
       "    </tr>\n",
       "    <tr>\n",
       "      <th>3</th>\n",
       "      <td>4.9431691_114.9351884_ts2</td>\n",
       "      <td>4.943_114.935_ts2</td>\n",
       "      <td>(4.9431691, 114.9351884)</td>\n",
       "      <td>POLYGON((114.9351884 4.9431691, 114.9352353 4....</td>\n",
       "      <td>[{'key': 'amenity', 'value': 'parking'}, {'key...</td>\n",
       "    </tr>\n",
       "    <tr>\n",
       "      <th>4</th>\n",
       "      <td>50.7486297_-1.8496005_ts2</td>\n",
       "      <td>50.749_-1.85_ts2</td>\n",
       "      <td>(50.7486297, -1.8496005)</td>\n",
       "      <td>POLYGON((-1.8496005 50.7486297, -1.8493395 50....</td>\n",
       "      <td>[{'key': 'access', 'value': 'private'}, {'key'...</td>\n",
       "    </tr>\n",
       "    <tr>\n",
       "      <th>...</th>\n",
       "      <td>...</td>\n",
       "      <td>...</td>\n",
       "      <td>...</td>\n",
       "      <td>...</td>\n",
       "      <td>...</td>\n",
       "    </tr>\n",
       "    <tr>\n",
       "      <th>614</th>\n",
       "      <td>39.8168989_-86.1564466_ts2</td>\n",
       "      <td>39.817_-86.156_ts2</td>\n",
       "      <td>(39.8168989, -86.1564466)</td>\n",
       "      <td>POLYGON((-86.1564466 39.8168989, -86.1565062 3...</td>\n",
       "      <td>[{'key': 'access', 'value': 'customers'}, {'ke...</td>\n",
       "    </tr>\n",
       "    <tr>\n",
       "      <th>615</th>\n",
       "      <td>31.7651862_-106.4570959_ts2</td>\n",
       "      <td>31.765_-106.457_ts2</td>\n",
       "      <td>(31.7651862, -106.4570959)</td>\n",
       "      <td>POLYGON((-106.4570959 31.7651862, -106.4577207...</td>\n",
       "      <td>[{'key': 'amenity', 'value': 'parking'}, {'key...</td>\n",
       "    </tr>\n",
       "    <tr>\n",
       "      <th>616</th>\n",
       "      <td>49.3715495_6.1522216_ts2</td>\n",
       "      <td>49.372_6.152_ts2</td>\n",
       "      <td>(49.3715495, 6.1522216)</td>\n",
       "      <td>POLYGON((6.1522216 49.3715495, 6.1523249 49.37...</td>\n",
       "      <td>[{'key': 'access', 'value': 'yes'}, {'key': 'a...</td>\n",
       "    </tr>\n",
       "    <tr>\n",
       "      <th>617</th>\n",
       "      <td>5.345678_-3.949021_ts2</td>\n",
       "      <td>5.346_-3.949_ts2</td>\n",
       "      <td>(5.345678, -3.949021)</td>\n",
       "      <td>POLYGON((-3.949021 5.345678, -3.9489734 5.3456...</td>\n",
       "      <td>[{'key': 'access', 'value': 'private'}, {'key'...</td>\n",
       "    </tr>\n",
       "    <tr>\n",
       "      <th>618</th>\n",
       "      <td>50.7482532_-1.8594093_ts2</td>\n",
       "      <td>50.748_-1.859_ts2</td>\n",
       "      <td>(50.7482532, -1.8594093)</td>\n",
       "      <td>POLYGON((-1.8594093 50.7482532, -1.8594007 50....</td>\n",
       "      <td>[{'key': 'access', 'value': 'private'}, {'key'...</td>\n",
       "    </tr>\n",
       "  </tbody>\n",
       "</table>\n",
       "<p>619 rows × 5 columns</p>\n",
       "</div>"
      ],
      "text/plain": [
       "                          id_new                   id  \\\n",
       "0        47.006201_6.9670316_ts2     47.006_6.967_ts2   \n",
       "1    39.7880508_-105.0333886_ts2  39.788_-105.033_ts2   \n",
       "2     41.1745044_-83.4191734_ts2   41.175_-83.419_ts2   \n",
       "3      4.9431691_114.9351884_ts2    4.943_114.935_ts2   \n",
       "4      50.7486297_-1.8496005_ts2     50.749_-1.85_ts2   \n",
       "..                           ...                  ...   \n",
       "614   39.8168989_-86.1564466_ts2   39.817_-86.156_ts2   \n",
       "615  31.7651862_-106.4570959_ts2  31.765_-106.457_ts2   \n",
       "616     49.3715495_6.1522216_ts2     49.372_6.152_ts2   \n",
       "617       5.345678_-3.949021_ts2     5.346_-3.949_ts2   \n",
       "618    50.7482532_-1.8594093_ts2    50.748_-1.859_ts2   \n",
       "\n",
       "                             pt  \\\n",
       "0        (47.006201, 6.9670316)   \n",
       "1    (39.7880508, -105.0333886)   \n",
       "2     (41.1745044, -83.4191734)   \n",
       "3      (4.9431691, 114.9351884)   \n",
       "4      (50.7486297, -1.8496005)   \n",
       "..                          ...   \n",
       "614   (39.8168989, -86.1564466)   \n",
       "615  (31.7651862, -106.4570959)   \n",
       "616     (49.3715495, 6.1522216)   \n",
       "617       (5.345678, -3.949021)   \n",
       "618    (50.7482532, -1.8594093)   \n",
       "\n",
       "                                              geometry  \\\n",
       "0    POLYGON((6.9670316 47.006201, 6.9668722 47.006...   \n",
       "1    POLYGON((-105.0333886 39.7880508, -105.0334789...   \n",
       "2    POLYGON((-83.4191734 41.1745044, -83.4191729 4...   \n",
       "3    POLYGON((114.9351884 4.9431691, 114.9352353 4....   \n",
       "4    POLYGON((-1.8496005 50.7486297, -1.8493395 50....   \n",
       "..                                                 ...   \n",
       "614  POLYGON((-86.1564466 39.8168989, -86.1565062 3...   \n",
       "615  POLYGON((-106.4570959 31.7651862, -106.4577207...   \n",
       "616  POLYGON((6.1522216 49.3715495, 6.1523249 49.37...   \n",
       "617  POLYGON((-3.949021 5.345678, -3.9489734 5.3456...   \n",
       "618  POLYGON((-1.8594093 50.7482532, -1.8594007 50....   \n",
       "\n",
       "                                              all_tags  \n",
       "0    [{'key': 'access', 'value': 'private'}, {'key'...  \n",
       "1    [{'key': 'access', 'value': 'yes'}, {'key': 'a...  \n",
       "2    [{'key': 'amenity', 'value': 'parking'}, {'key...  \n",
       "3    [{'key': 'amenity', 'value': 'parking'}, {'key...  \n",
       "4    [{'key': 'access', 'value': 'private'}, {'key'...  \n",
       "..                                                 ...  \n",
       "614  [{'key': 'access', 'value': 'customers'}, {'ke...  \n",
       "615  [{'key': 'amenity', 'value': 'parking'}, {'key...  \n",
       "616  [{'key': 'access', 'value': 'yes'}, {'key': 'a...  \n",
       "617  [{'key': 'access', 'value': 'private'}, {'key'...  \n",
       "618  [{'key': 'access', 'value': 'private'}, {'key'...  \n",
       "\n",
       "[619 rows x 5 columns]"
      ]
     },
     "execution_count": 79,
     "metadata": {},
     "output_type": "execute_result"
    }
   ],
   "source": [
    "temp"
   ]
  },
  {
   "cell_type": "code",
   "execution_count": 21,
   "id": "73abf947-1e79-40a9-9ba3-e4e72578e6a2",
   "metadata": {},
   "outputs": [
    {
     "name": "stdout",
     "output_type": "stream",
     "text": [
      "File \"osm_data_trucks\" successfully saved!\n"
     ]
    }
   ],
   "source": [
    "# Save TRUCKS\n",
    "# print(savefile(temp, \"osm_data_trucks\", \"ndata\"))"
   ]
  },
  {
   "cell_type": "code",
   "execution_count": 82,
   "id": "aca59334-7764-4743-a6d6-574709b3cb02",
   "metadata": {},
   "outputs": [
    {
     "name": "stdout",
     "output_type": "stream",
     "text": [
      "File \"osm_data_cars_f\" successfully saved!\n"
     ]
    }
   ],
   "source": [
    "# Save CARS\n",
    "print(savefile(temp, \"osm_data_cars_f\", \"ndata\"))"
   ]
  },
  {
   "cell_type": "code",
   "execution_count": null,
   "id": "aefb9f60-721d-44df-9cd7-335a8b049b26",
   "metadata": {},
   "outputs": [],
   "source": []
  }
 ],
 "metadata": {
  "kernelspec": {
   "display_name": "trustbit_venv",
   "language": "python",
   "name": "trustbit_venv"
  },
  "language_info": {
   "codemirror_mode": {
    "name": "ipython",
    "version": 3
   },
   "file_extension": ".py",
   "mimetype": "text/x-python",
   "name": "python",
   "nbconvert_exporter": "python",
   "pygments_lexer": "ipython3",
   "version": "3.9.7"
  }
 },
 "nbformat": 4,
 "nbformat_minor": 5
}
